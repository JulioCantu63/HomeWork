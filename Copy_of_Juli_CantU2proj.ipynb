{
  "nbformat": 4,
  "nbformat_minor": 0,
  "metadata": {
    "colab": {
      "provenance": [],
      "authorship_tag": "ABX9TyMbEeZuggtcEWtAP9BDCbxM",
      "include_colab_link": true
    },
    "kernelspec": {
      "name": "python3",
      "display_name": "Python 3"
    },
    "language_info": {
      "name": "python"
    }
  },
  "cells": [
    {
      "cell_type": "markdown",
      "metadata": {
        "id": "view-in-github",
        "colab_type": "text"
      },
      "source": [
        "<a href=\"https://colab.research.google.com/github/JulioCantu63/HomeWork/blob/main/Copy_of_Juli_CantU2proj.ipynb\" target=\"_parent\"><img src=\"https://colab.research.google.com/assets/colab-badge.svg\" alt=\"Open In Colab\"/></a>"
      ]
    },
    {
      "cell_type": "code",
      "execution_count": 2,
      "metadata": {
        "id": "76Abb3kWL-oy",
        "colab": {
          "base_uri": "https://localhost:8080/",
          "height": 536
        },
        "outputId": "37c626bd-a44d-4f70-f38f-927b5a88a9ce"
      },
      "outputs": [
        {
          "output_type": "stream",
          "name": "stderr",
          "text": [
            "WARNING:pymc.sampling.mcmc:Only 65 samples in chain.\n"
          ]
        },
        {
          "output_type": "display_data",
          "data": {
            "text/plain": [
              "<IPython.core.display.HTML object>"
            ],
            "text/html": [
              "\n",
              "<style>\n",
              "    /* Turns off some styling */\n",
              "    progress {\n",
              "        /* gets rid of default border in Firefox and Opera. */\n",
              "        border: none;\n",
              "        /* Needs to be in here for Safari polyfill so background images work as expected. */\n",
              "        background-size: auto;\n",
              "    }\n",
              "    progress:not([value]), progress:not([value])::-webkit-progress-bar {\n",
              "        background: repeating-linear-gradient(45deg, #7e7e7e, #7e7e7e 10px, #5c5c5c 10px, #5c5c5c 20px);\n",
              "    }\n",
              "    .progress-bar-interrupted, .progress-bar-interrupted::-webkit-progress-bar {\n",
              "        background: #F44336;\n",
              "    }\n",
              "</style>\n"
            ]
          },
          "metadata": {}
        },
        {
          "output_type": "display_data",
          "data": {
            "text/plain": [
              "<IPython.core.display.HTML object>"
            ],
            "text/html": [
              "\n",
              "    <div>\n",
              "      <progress value='1065' class='' max='1065' style='width:300px; height:20px; vertical-align: middle;'></progress>\n",
              "      100.00% [1065/1065 00:00&lt;00:00 Sampling chain 0, 0 divergences]\n",
              "    </div>\n",
              "    "
            ]
          },
          "metadata": {}
        },
        {
          "output_type": "display_data",
          "data": {
            "text/plain": [
              "<IPython.core.display.HTML object>"
            ],
            "text/html": [
              "\n",
              "<style>\n",
              "    /* Turns off some styling */\n",
              "    progress {\n",
              "        /* gets rid of default border in Firefox and Opera. */\n",
              "        border: none;\n",
              "        /* Needs to be in here for Safari polyfill so background images work as expected. */\n",
              "        background-size: auto;\n",
              "    }\n",
              "    progress:not([value]), progress:not([value])::-webkit-progress-bar {\n",
              "        background: repeating-linear-gradient(45deg, #7e7e7e, #7e7e7e 10px, #5c5c5c 10px, #5c5c5c 20px);\n",
              "    }\n",
              "    .progress-bar-interrupted, .progress-bar-interrupted::-webkit-progress-bar {\n",
              "        background: #F44336;\n",
              "    }\n",
              "</style>\n"
            ]
          },
          "metadata": {}
        },
        {
          "output_type": "display_data",
          "data": {
            "text/plain": [
              "<IPython.core.display.HTML object>"
            ],
            "text/html": [
              "\n",
              "    <div>\n",
              "      <progress value='1065' class='' max='1065' style='width:300px; height:20px; vertical-align: middle;'></progress>\n",
              "      100.00% [1065/1065 00:00&lt;00:00 Sampling chain 1, 0 divergences]\n",
              "    </div>\n",
              "    "
            ]
          },
          "metadata": {}
        },
        {
          "output_type": "display_data",
          "data": {
            "text/plain": [
              "<IPython.core.display.HTML object>"
            ],
            "text/html": [
              "\n",
              "<style>\n",
              "    /* Turns off some styling */\n",
              "    progress {\n",
              "        /* gets rid of default border in Firefox and Opera. */\n",
              "        border: none;\n",
              "        /* Needs to be in here for Safari polyfill so background images work as expected. */\n",
              "        background-size: auto;\n",
              "    }\n",
              "    progress:not([value]), progress:not([value])::-webkit-progress-bar {\n",
              "        background: repeating-linear-gradient(45deg, #7e7e7e, #7e7e7e 10px, #5c5c5c 10px, #5c5c5c 20px);\n",
              "    }\n",
              "    .progress-bar-interrupted, .progress-bar-interrupted::-webkit-progress-bar {\n",
              "        background: #F44336;\n",
              "    }\n",
              "</style>\n"
            ]
          },
          "metadata": {}
        },
        {
          "output_type": "display_data",
          "data": {
            "text/plain": [
              "<IPython.core.display.HTML object>"
            ],
            "text/html": [
              "\n",
              "    <div>\n",
              "      <progress value='130' class='' max='130' style='width:300px; height:20px; vertical-align: middle;'></progress>\n",
              "      100.00% [130/130 00:00&lt;00:00]\n",
              "    </div>\n",
              "    "
            ]
          },
          "metadata": {}
        },
        {
          "output_type": "display_data",
          "data": {
            "text/plain": [
              "<Figure size 640x480 with 1 Axes>"
            ],
            "image/png": "[encoded data removed]"
          },
          "metadata": {}
        }
      ],
      "source": [
        "#Importing the nessesary packages for my code\n",
        "# Also for the purpose of my data a clutch is defined as \"Clutch: A type of round outcome where the round was won by the last player alive on the team.\" this is according to the offical wiki of the game. This same definition was used when data for each player was collected\n",
        "\n",
        "import arviz as az\n",
        "import pymc as pm\n",
        "\n",
        "# Here I am setting a clutch made as one point and a clutch lost 0 points, also these are the total amount of clutches the player \"JohnQT\" made throught both internation events he attended within the 2024 season\n",
        "# I would have included all of his regular season stats but I would like to predit how this player would preform at an international tournament rather than his overall clutch rate troughout the season\n",
        "# Now this is a small data set and I could potentially include his preformance prior to this year, but this is his first year playing Tier 1 professional valorant which is a significantly harder than his time as a tier 2 player\n",
        "Val_Tour_Clutches = np.repeat([1,0], repeats = [22,130])\n",
        "\n",
        "with pm.Model() as Prior_model:\n",
        "  #Here is my prior, I think my player (JohnQT) wins about 20% of all his clutches which is a pretty high amount, but he also won a tournament and had a top 4 finish in another.\n",
        "  # He has the most opporunities to clutch due to the role he plays for his team where he is often the last alive\n",
        "   θ = pm.Beta('θ' , alpha = 30. , beta = 120.)\n",
        "\n",
        "   y = pm.Bernoulli('y', p = θ, observed = Val_Tour_Clutches)\n",
        "\n",
        "  # The following code tells us how many total clutch oppurunities our player had throughout each of the years tournaments (This can also be replaced next year should anyone want to predict how well he will do the following year)\n",
        "   Lan1 = 80\n",
        "   Lan2 = 0\n",
        "   Lan3 = 50\n",
        "   LansAttended = 2\n",
        "   AvgClutch = (Lan1 + Lan2 + Lan3)//LansAttended\n",
        "  #Here the code is sampling the average amount of clutches our player made per tournament to help us predict how many he will make at his next tournament\n",
        "   Tour_Sample = pm.sample(AvgClutch)\n",
        "   az.plot_posterior(Tour_Sample)\n",
        "  # Finally we are generating our model's prediction for how many clutches our player will win on average per torunament\n",
        "pm.sample_posterior_predictive(Tour_Sample, model=Prior_model, extend_inferencedata=True)\n",
        "\n",
        "stacked_FT_2324 = az.extract(Tour_Sample, group=\"posterior_predictive\")\n",
        "\n",
        "stacked_FT_2324.sel(sample=0).sel(draw=0).y.to_series().values\n"
      ]
    }
  ]
}