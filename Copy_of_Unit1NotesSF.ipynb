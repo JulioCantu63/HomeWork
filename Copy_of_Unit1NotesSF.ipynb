{
  "nbformat": 4,
  "nbformat_minor": 0,
  "metadata": {
    "colab": {
      "provenance": [],
      "include_colab_link": true
    },
    "kernelspec": {
      "name": "python3",
      "display_name": "Python 3"
    },
    "language_info": {
      "name": "python"
    }
  },
  "cells": [
    {
      "cell_type": "markdown",
      "metadata": {
        "id": "view-in-github",
        "colab_type": "text"
      },
      "source": [
        "<a href=\"https://colab.research.google.com/github/JulioCantu63/HomeWork/blob/main/Copy_of_Unit1NotesSF.ipynb\" target=\"_parent\"><img src=\"https://colab.research.google.com/assets/colab-badge.svg\" alt=\"Open In Colab\"/></a>"
      ]
    },
    {
      "cell_type": "markdown",
      "source": [
        "# Unit 1: Python Crash Course\n",
        "\n",
        "This is a crash course in the basics of python and data manipulation.\n",
        "\n",
        "Our goal is get vulnerable and exposed to some common ways to manipulate data in python, and learn some practical skills along the way.\n",
        "\n",
        "We will:\n",
        "\n",
        "1. Use variables to do basic operations.\n",
        "2. Explore the built in data structures we'll use: int, float, string, list, and dict\n",
        "3. Create and Manipulate Numpy Arrays\n",
        "4. Import and Manipulate Pandas Dataframes (plus cover bools)\n",
        "5. Use for loops to support Dataframe queries\n",
        "6. Export Data from Colab\n",
        "\n",
        "Will this unit cover all the python you'll need to ace this course?\n",
        "\n",
        "No.\n",
        "\n",
        "Will this feel like way too much information?\n",
        "\n",
        "Probably.\n",
        "\n",
        "But don't worry, you've got this! We'll learn as we go, and as we go you'll see me consisitently type \"how to \\___ in python\" or \"how to \\___ with pandas\" into google. You will learn to do the same.\n",
        "\n",
        "Let this be Lesson 0: **you don't need to know everything, you just need to know enough to ask for what you need**.\n"
      ],
      "metadata": {
        "id": "8NmSIRxdEMOm"
      }
    },
    {
      "cell_type": "markdown",
      "source": [
        "##Arithmetic with ints\n",
        "Let's start your journey into the world of data science with good ole' fashion addition, subtraction, and mutliplication. Let yourself wonder why I'm saving division for later."
      ],
      "metadata": {
        "id": "xlniv8ZUrj4S"
      }
    },
    {
      "cell_type": "code",
      "source": [
        "#Adding in python works inuitively. Not that python automatically prints the result of any operation\n",
        "3 + 2"
      ],
      "metadata": {
        "id": "lA_t51FKsBnR",
        "colab": {
          "base_uri": "https://localhost:8080/"
        },
        "outputId": "2201b93c-65b2-4b90-eba7-3755c50ea781"
      },
      "execution_count": null,
      "outputs": [
        {
          "output_type": "execute_result",
          "data": {
            "text/plain": [
              "5"
            ]
          },
          "metadata": {},
          "execution_count": 1
        }
      ]
    },
    {
      "cell_type": "code",
      "source": [
        "#same with subtraction\n",
        "3 - 2"
      ],
      "metadata": {
        "id": "ud6x_r7KsMWN",
        "colab": {
          "base_uri": "https://localhost:8080/"
        },
        "outputId": "da1a366a-cdbc-43ea-9817-5cc27bf93a05"
      },
      "execution_count": null,
      "outputs": [
        {
          "output_type": "execute_result",
          "data": {
            "text/plain": [
              "1"
            ]
          },
          "metadata": {},
          "execution_count": 2
        }
      ]
    },
    {
      "cell_type": "code",
      "source": [
        "# multiplication use the astrisk symbol, \"*\"\n",
        "3 * 2"
      ],
      "metadata": {
        "id": "O84xxJdhsYRP",
        "colab": {
          "base_uri": "https://localhost:8080/"
        },
        "outputId": "2cf744a6-48ba-4575-ccef-7ee6492a75c0"
      },
      "execution_count": null,
      "outputs": [
        {
          "output_type": "execute_result",
          "data": {
            "text/plain": [
              "6"
            ]
          },
          "metadata": {},
          "execution_count": 3
        }
      ]
    },
    {
      "cell_type": "code",
      "source": [
        "# exponetiation is quick too--just use the multiplication symbol twice\n",
        "3 ** 2"
      ],
      "metadata": {
        "id": "72OwsHmVsnTR",
        "colab": {
          "base_uri": "https://localhost:8080/"
        },
        "outputId": "f7b3665f-4a20-4473-b758-fbbe214691e5"
      },
      "execution_count": null,
      "outputs": [
        {
          "output_type": "execute_result",
          "data": {
            "text/plain": [
              "9"
            ]
          },
          "metadata": {},
          "execution_count": 4
        }
      ]
    },
    {
      "cell_type": "markdown",
      "source": [
        "This next code block introduces our first built in function, \"type\". Functions take in an input through parentheses, and then return an output."
      ],
      "metadata": {
        "id": "4X_T6eXCHXTh"
      }
    },
    {
      "cell_type": "code",
      "source": [
        "type(3)"
      ],
      "metadata": {
        "id": "Z2BqqcRZHQTJ",
        "colab": {
          "base_uri": "https://localhost:8080/"
        },
        "outputId": "8856badb-034b-40b6-e2dd-92d1f01a2df2"
      },
      "execution_count": null,
      "outputs": [
        {
          "output_type": "execute_result",
          "data": {
            "text/plain": [
              "int"
            ]
          },
          "metadata": {},
          "execution_count": 5
        }
      ]
    },
    {
      "cell_type": "markdown",
      "source": [
        "For example, the absolute value function is \"abs\" in python, and works exactly like you think it would. Use the dash key \"-\" in front of a number (int or float) to make it negative"
      ],
      "metadata": {
        "id": "ET-zNOKTIMI8"
      }
    },
    {
      "cell_type": "code",
      "source": [
        "abs(- 2)"
      ],
      "metadata": {
        "id": "K9ZORCw-MBR-",
        "colab": {
          "base_uri": "https://localhost:8080/"
        },
        "outputId": "81331bf6-7dca-41b0-ad98-ef366e375b54"
      },
      "execution_count": null,
      "outputs": [
        {
          "output_type": "execute_result",
          "data": {
            "text/plain": [
              "2"
            ]
          },
          "metadata": {},
          "execution_count": 6
        }
      ]
    },
    {
      "cell_type": "markdown",
      "source": [
        "I can stores these numbers in a variable for later use."
      ],
      "metadata": {
        "id": "2hbre6KZqDgl"
      }
    },
    {
      "cell_type": "code",
      "source": [
        "# I store \"-5\" in the variable x\n",
        "x = -5\n",
        "# I store \"2\" in the variable thingamabob\n",
        "thing = 2\n",
        "\n",
        "#I print the content of the variables x and thing\n",
        "x, thing"
      ],
      "metadata": {
        "id": "tbAT1c2NqAtK",
        "colab": {
          "base_uri": "https://localhost:8080/"
        },
        "outputId": "06038fea-a2e3-47aa-efe3-5d476283d7ca"
      },
      "execution_count": null,
      "outputs": [
        {
          "output_type": "execute_result",
          "data": {
            "text/plain": [
              "(-5, 2)"
            ]
          },
          "metadata": {},
          "execution_count": 7
        }
      ]
    },
    {
      "cell_type": "markdown",
      "source": [
        "We can update the content of these variables whenever we want."
      ],
      "metadata": {
        "id": "z-M49yHXqUDI"
      }
    },
    {
      "cell_type": "code",
      "source": [
        "# add \"-5\" to \"2\" using the variables x and thing\n",
        "x = x + thing\n",
        "\n",
        "#print the contents of x\n",
        "x"
      ],
      "metadata": {
        "id": "rTK7DypRsGPD",
        "colab": {
          "base_uri": "https://localhost:8080/"
        },
        "outputId": "ebd8a81d-2387-4a15-9eb4-72588171a782"
      },
      "execution_count": null,
      "outputs": [
        {
          "output_type": "execute_result",
          "data": {
            "text/plain": [
              "-3"
            ]
          },
          "metadata": {},
          "execution_count": 8
        }
      ]
    },
    {
      "cell_type": "markdown",
      "source": [
        "Notice that we managed to get our computer to calculate $-5 +2$ without having to write $-5$ or $2$.\n",
        "\n",
        "What happens if we run the same code block?"
      ],
      "metadata": {
        "id": "S2c3KdXxsndl"
      }
    },
    {
      "cell_type": "code",
      "source": [
        "# add the contents x and thingamabob\n",
        "x = x + thing\n",
        "\n",
        "#print the contents of x\n",
        "x"
      ],
      "metadata": {
        "id": "nhtggrhms_mE",
        "colab": {
          "base_uri": "https://localhost:8080/"
        },
        "outputId": "c6120b5a-cd22-4b02-c657-6f4cefd1d037"
      },
      "execution_count": null,
      "outputs": [
        {
          "output_type": "execute_result",
          "data": {
            "text/plain": [
              "-1"
            ]
          },
          "metadata": {},
          "execution_count": 9
        }
      ]
    },
    {
      "cell_type": "markdown",
      "source": [
        "**Task1**:\n",
        "\n",
        "Explain why the variable x's value is now -1."
      ],
      "metadata": {
        "id": "7-jJWgbYt9AC"
      }
    },
    {
      "cell_type": "markdown",
      "source": [
        "**Answer1**:\n",
        "\n",
        "[*In the last code #8 we changed variable x to -3 so by running the code again we are using the new input for x which is now -3 and adding 2 to it resulting in the end result of -1\n",
        "*]"
      ],
      "metadata": {
        "id": "6PXkfOytuMY9"
      }
    },
    {
      "cell_type": "markdown",
      "source": [
        "Computers are only ever capable of doing exactly what we tell them to do, and its always possible to tell them to do something we don't underestand. This can be a\n",
        "\n",
        "- feature: a good thing we may or may not have intended to happen.\n",
        "\n",
        "or a\n",
        "\n",
        "- bug: a bad thing we didn't want to happen, but are never the less entirely responsible for."
      ],
      "metadata": {
        "id": "t9gOJClYtfFi"
      }
    },
    {
      "cell_type": "markdown",
      "source": [
        "Every piece of code you'll ever write is either a feature, a bug, or confusing. Keep this in mind as we move through the course."
      ],
      "metadata": {
        "id": "3U7N5dZmulbB"
      }
    },
    {
      "cell_type": "markdown",
      "source": [
        "### Division\n",
        "\n",
        "Let's look at an example of division, the other mathematical operation I left out."
      ],
      "metadata": {
        "id": "MMc63SWHvvgn"
      }
    },
    {
      "cell_type": "code",
      "source": [
        "#use a backslash for division\n",
        "-4 / 2"
      ],
      "metadata": {
        "id": "YGEdLrscv7Ak",
        "colab": {
          "base_uri": "https://localhost:8080/"
        },
        "outputId": "5e2ef02d-c861-4b98-eaea-c7adbbd3d341"
      },
      "execution_count": null,
      "outputs": [
        {
          "output_type": "execute_result",
          "data": {
            "text/plain": [
              "-2.0"
            ]
          },
          "metadata": {},
          "execution_count": 10
        }
      ]
    },
    {
      "cell_type": "markdown",
      "source": [
        "That number has a decimal; let's check to see if it's still an int."
      ],
      "metadata": {
        "id": "c9H_FkDGwFep"
      }
    },
    {
      "cell_type": "code",
      "source": [
        "type(-4 / 2)"
      ],
      "metadata": {
        "id": "oEaWL39VwFHC",
        "colab": {
          "base_uri": "https://localhost:8080/"
        },
        "outputId": "5e5c08d9-44d3-4c8b-f0cd-20e2515a80a4"
      },
      "execution_count": null,
      "outputs": [
        {
          "output_type": "execute_result",
          "data": {
            "text/plain": [
              "float"
            ]
          },
          "metadata": {},
          "execution_count": 11
        }
      ]
    },
    {
      "cell_type": "markdown",
      "source": [
        "### Libraries\n",
        "\n",
        "To better deal with this new float thing, I'll call a library of functions called numpy, and nickname it np for short.\n",
        "\n",
        "I need to use numpy for two reasons:\n",
        "\n",
        "- floats, as we'll see, do not behave as nicely as ints, and need to be treated with care. We'll only ever use libraries that show our floats the proper care and attention they need\n",
        "- python doesn't really have any built in math functions; abs() is basically the only one."
      ],
      "metadata": {
        "id": "4IQCcfbL0zuu"
      }
    },
    {
      "cell_type": "code",
      "source": [
        "import numpy as np"
      ],
      "metadata": {
        "id": "GYfyC8nl2Bb7"
      },
      "execution_count": null,
      "outputs": []
    },
    {
      "cell_type": "markdown",
      "source": [
        "With that our of the way, let's learn why we need to be cautious with floats."
      ],
      "metadata": {
        "id": "retVUltb186a"
      }
    },
    {
      "cell_type": "markdown",
      "source": [
        "##Floats, and the perils of infinite math with finite computers\n",
        "\n",
        "We often represent the real numbers, like $\\pi$ and $\\sqrt{2}$, using another data type called a float. That's short for floating point number."
      ],
      "metadata": {
        "id": "veFeLs4v4Ncz"
      }
    },
    {
      "cell_type": "code",
      "source": [
        "#numpy has pi to a considerable number of digits stored, and ready to use\n",
        "np.pi"
      ],
      "metadata": {
        "id": "lLuGuEqWzRDi"
      },
      "execution_count": null,
      "outputs": []
    },
    {
      "cell_type": "code",
      "source": [
        "#it has a decimal, which in python means its a float\n",
        "type(np.pi)"
      ],
      "metadata": {
        "id": "c2voof0DpobX",
        "colab": {
          "base_uri": "https://localhost:8080/"
        },
        "outputId": "7ccc0a01-8b87-4669-ceca-deaabec5b64c"
      },
      "execution_count": null,
      "outputs": [
        {
          "output_type": "execute_result",
          "data": {
            "text/plain": [
              "float"
            ]
          },
          "metadata": {},
          "execution_count": 13
        }
      ]
    },
    {
      "cell_type": "markdown",
      "source": [
        "In the abstract world of math, $\\pi$ has a precise, if infinitely long, answer.\n",
        "\n",
        "Infinity is problematic for our finite computers.\n",
        "\n",
        "3.141592653589793 is an accurate approximation, but if we multiply $\\pi$  by itself enough--say, 31 times--then we can run into trouble.\n",
        "\n",
        "I'm going to show you three different operations, all of which are mathematically equivalent to $\\pi^{31}$.\n",
        "\n",
        "Don't worry about understanding what the code blocks are doing. Just choose to believe me when I say that all of them should, theoretically, output the same thing.\n",
        "\n",
        "\n",
        "\n"
      ],
      "metadata": {
        "id": "mwlVCPCSpn8T"
      }
    },
    {
      "cell_type": "markdown",
      "source": [
        "First, regular exponetiation."
      ],
      "metadata": {
        "id": "xoVH5ffeyi5V"
      }
    },
    {
      "cell_type": "code",
      "source": [
        "# I multipy pi by itself 31 times. In other words, I take pi to the 31st power\n",
        "pi_1 = np.pi**(31)\n",
        "pi_1"
      ],
      "metadata": {
        "id": "5tr814s_fS2N",
        "colab": {
          "base_uri": "https://localhost:8080/"
        },
        "outputId": "812993f0-ef0c-452b-fb91-21b01dcb2297"
      },
      "execution_count": null,
      "outputs": [
        {
          "output_type": "execute_result",
          "data": {
            "text/plain": [
              "2580156526864955.5"
            ]
          },
          "metadata": {},
          "execution_count": 17
        }
      ]
    },
    {
      "cell_type": "markdown",
      "source": [
        "Next, some expontial and logarithm shenanigans to turn exponetiaon into multiplication\n",
        "\n",
        "Note: $e^{x}=\\exp{(x)}$"
      ],
      "metadata": {
        "id": "-4CZ6kKxtBnQ"
      }
    },
    {
      "cell_type": "code",
      "source": [
        "# this is mathematically equivalent to pi times itself 31 times\n",
        "pi_2 = np.exp(31  * np.log(np.pi))\n",
        "pi_2"
      ],
      "metadata": {
        "id": "_hHT9lfPhDtF",
        "colab": {
          "base_uri": "https://localhost:8080/"
        },
        "outputId": "39152067-ab72-46bf-9896-f41fdf58cecd"
      },
      "execution_count": null,
      "outputs": [
        {
          "output_type": "execute_result",
          "data": {
            "text/plain": [
              "2580156526864956.0"
            ]
          },
          "metadata": {},
          "execution_count": 18
        }
      ]
    },
    {
      "cell_type": "markdown",
      "source": [
        "More exponential and logarithmic shenanigans, this time so that we aren't even multiplying, just adding.\n",
        "\n"
      ],
      "metadata": {
        "id": "qxI3sCOVxA2s"
      }
    },
    {
      "cell_type": "code",
      "source": [
        "# this is mathematically equivalent to pi times itself 31 times\n",
        "pi_3 = np.exp(np.exp(np.log(31) + np.log(np.log(np.pi))))\n",
        "pi_3"
      ],
      "metadata": {
        "id": "ypGDm4wYj6_K",
        "colab": {
          "base_uri": "https://localhost:8080/"
        },
        "outputId": "7014dfe5-bc15-46c2-c48d-e972bce116f1"
      },
      "execution_count": null,
      "outputs": [
        {
          "output_type": "execute_result",
          "data": {
            "text/plain": [
              "2580156526864974.5"
            ]
          },
          "metadata": {},
          "execution_count": 19
        }
      ]
    },
    {
      "cell_type": "markdown",
      "source": [
        "**Task2**:\n",
        "\n",
        "Look at the output numbers. Are they the same? Why or why not?"
      ],
      "metadata": {
        "id": "mSGBRoCHvUfu"
      }
    },
    {
      "cell_type": "markdown",
      "source": [
        "**Answer2**:\n",
        "\n",
        "[*No every output has a slight variation, this is because the computer is struggling to represent an infinite number, and by mutiplying/dividing it would have to account for an infinite number of decimals which it cannot so it will eventually aproximate causing the variation\n",
        "*]"
      ],
      "metadata": {
        "id": "IFsA_ffFn2V0"
      }
    },
    {
      "cell_type": "markdown",
      "source": [
        "##Strings, Lists, and Dicts\n",
        "Before we get more into those libraires like numpy, let's return to base python.\n",
        "Everything in this section can be done without importing a library."
      ],
      "metadata": {
        "id": "vPH20lfw-j4t"
      }
    },
    {
      "cell_type": "markdown",
      "source": [
        "###Strings\n",
        "Let's start with strings. We can define a string by putting ' ' or \" \" around any character, including numbers"
      ],
      "metadata": {
        "id": "g3hNcIF72f05"
      }
    },
    {
      "cell_type": "code",
      "source": [
        "'5', type('5'), 5, type(5)"
      ],
      "metadata": {
        "id": "uBBrfiQr2oa8",
        "colab": {
          "base_uri": "https://localhost:8080/"
        },
        "outputId": "e42ccda5-a783-4447-8555-db9a7116bd8c"
      },
      "execution_count": null,
      "outputs": [
        {
          "output_type": "execute_result",
          "data": {
            "text/plain": [
              "('5', str, 5, int)"
            ]
          },
          "metadata": {},
          "execution_count": 20
        }
      ]
    },
    {
      "cell_type": "code",
      "source": [
        "'type(5)', type('type(5)')"
      ],
      "metadata": {
        "id": "SH1YJUPE3FI3"
      },
      "execution_count": null,
      "outputs": []
    },
    {
      "cell_type": "markdown",
      "source": [
        "We'll use strings to define labels for our models and graphs, and to represent non-numerical data.\n",
        "\n",
        "For right now though, they are our first example of an iterable data type. In other words, python keeps track of the individual characters in string, their order, and how many characters there are."
      ],
      "metadata": {
        "id": "O0zDg6_P3u8U"
      }
    },
    {
      "cell_type": "code",
      "source": [
        "\"dog\""
      ],
      "metadata": {
        "id": "5Q4UeShB5Nix"
      },
      "execution_count": null,
      "outputs": []
    },
    {
      "cell_type": "code",
      "source": [
        "#find the length of an iterable object\n",
        "len('dog')"
      ],
      "metadata": {
        "id": "cM8fOMKv4lrL",
        "colab": {
          "base_uri": "https://localhost:8080/"
        },
        "outputId": "720d8ede-8972-40b6-9eb1-02e7e2e25429"
      },
      "execution_count": null,
      "outputs": [
        {
          "output_type": "execute_result",
          "data": {
            "text/plain": [
              "3"
            ]
          },
          "metadata": {},
          "execution_count": 22
        }
      ]
    },
    {
      "cell_type": "code",
      "source": [
        "#grab the first character in the string 'cat'\n",
        "'dog'[0]"
      ],
      "metadata": {
        "id": "hT3_vg_b4urp",
        "colab": {
          "base_uri": "https://localhost:8080/",
          "height": 35
        },
        "outputId": "32e87d0a-7d76-4de7-e52b-7ede96a7d276"
      },
      "execution_count": null,
      "outputs": [
        {
          "output_type": "execute_result",
          "data": {
            "text/plain": [
              "'d'"
            ],
            "application/vnd.google.colaboratory.intrinsic+json": {
              "type": "string"
            }
          },
          "metadata": {},
          "execution_count": 21
        }
      ]
    },
    {
      "cell_type": "markdown",
      "source": [
        "Variables are not strings. We'll get an error if we make that mistake"
      ],
      "metadata": {
        "id": "GehBqP5r47Ak"
      }
    },
    {
      "cell_type": "code",
      "source": [
        "dog"
      ],
      "metadata": {
        "id": "ERSeuNwc4_oQ",
        "colab": {
          "base_uri": "https://localhost:8080/",
          "height": 144
        },
        "outputId": "72a38541-d513-41db-abf9-74abc08d2416"
      },
      "execution_count": null,
      "outputs": [
        {
          "output_type": "error",
          "ename": "NameError",
          "evalue": "name 'dog' is not defined",
          "traceback": [
            "\u001b[0;31m---------------------------------------------------------------------------\u001b[0m",
            "\u001b[0;31mNameError\u001b[0m                                 Traceback (most recent call last)",
            "\u001b[0;32m<ipython-input-23-ee8ca7a80229>\u001b[0m in \u001b[0;36m<cell line: 1>\u001b[0;34m()\u001b[0m\n\u001b[0;32m----> 1\u001b[0;31m \u001b[0mdog\u001b[0m\u001b[0;34m\u001b[0m\u001b[0;34m\u001b[0m\u001b[0m\n\u001b[0m",
            "\u001b[0;31mNameError\u001b[0m: name 'dog' is not defined"
          ]
        }
      ]
    },
    {
      "cell_type": "markdown",
      "source": [
        "That said, I can assign a string to a variable."
      ],
      "metadata": {
        "id": "KgXEQM7X5bkz"
      }
    },
    {
      "cell_type": "code",
      "source": [
        "#assign the string 'dog' to variable x\n",
        "x = 'dog'\n",
        "#grab the second and third characters of the string\n",
        "x[1:3]"
      ],
      "metadata": {
        "id": "R111JN8r5gjg",
        "colab": {
          "base_uri": "https://localhost:8080/",
          "height": 35
        },
        "outputId": "36f85aea-9b33-4f15-9264-a5c810c31c6b"
      },
      "execution_count": null,
      "outputs": [
        {
          "output_type": "execute_result",
          "data": {
            "text/plain": [
              "'og'"
            ],
            "application/vnd.google.colaboratory.intrinsic+json": {
              "type": "string"
            }
          },
          "metadata": {},
          "execution_count": 29
        }
      ]
    },
    {
      "cell_type": "markdown",
      "source": [
        "Using the [ ] directly behind an iterable object, or directly behind a varable that points to an iterable object, splices the object according to some built in rules. Let's practice to see how it works."
      ],
      "metadata": {
        "id": "VAE-zDld52Dv"
      }
    },
    {
      "cell_type": "markdown",
      "source": [
        "**Task3**:\n",
        "\n",
        "Splice the string 'Hippopotomonstrosesquippedaliophobia' to output 'monstro' using a single line of code.\n",
        "\n",
        "Note: with data science, its not important to get it right on the first try. Just try stuff and see what happens."
      ],
      "metadata": {
        "id": "jRtb8JwP6ecc"
      }
    },
    {
      "cell_type": "code",
      "source": [
        "#ANSWER3\n",
        "'Hippopotomonstrosesquippedaliophobia' [9:16]\n",
        "\n",
        "#[*write your answer here*]"
      ],
      "metadata": {
        "id": "hdzJ-sST7idE",
        "colab": {
          "base_uri": "https://localhost:8080/",
          "height": 35
        },
        "outputId": "a67a1939-fc8d-4fb8-b36a-e38c406e4aaa"
      },
      "execution_count": null,
      "outputs": [
        {
          "output_type": "execute_result",
          "data": {
            "text/plain": [
              "'monstro'"
            ],
            "application/vnd.google.colaboratory.intrinsic+json": {
              "type": "string"
            }
          },
          "metadata": {},
          "execution_count": 27
        }
      ]
    },
    {
      "cell_type": "markdown",
      "source": [
        "There's one more thing about strings you must know: strings are immutable, unchangeable. Anytime it looks like you're changing a string, you're actaully creating a new string based off the old, still extant, string.\n",
        "\n",
        "This means that we, as data scientists, will rarely, if ever, store our data in strings. They're also really hard to look at when they get larger, as Task3 showed."
      ],
      "metadata": {
        "id": "BFxALqJ_8__R"
      }
    },
    {
      "cell_type": "markdown",
      "source": [
        "###Lists\n",
        "\n",
        "This brings us to our next data type, lists. They are iterable like strings, but they are mutable (changable), and can hold all types of data, not just characters."
      ],
      "metadata": {
        "id": "HkkqnEof-HK-"
      }
    },
    {
      "cell_type": "code",
      "source": [
        "#define my list with brackets\n",
        "my_list = [\"dog\", x, 5]\n",
        "#print my list\n",
        "my_list"
      ],
      "metadata": {
        "id": "0LnTNA_b-k0A",
        "colab": {
          "base_uri": "https://localhost:8080/"
        },
        "outputId": "85317383-4331-4465-95dd-3abb6c673f42"
      },
      "execution_count": null,
      "outputs": [
        {
          "output_type": "execute_result",
          "data": {
            "text/plain": [
              "['dog', 'dog', 5]"
            ]
          },
          "metadata": {},
          "execution_count": 30
        }
      ]
    },
    {
      "cell_type": "markdown",
      "source": [
        "Notice that when I put a variable in my list, the list reports the contents of the variable. Let's see how that works"
      ],
      "metadata": {
        "id": "KBAs9WwF-_5-"
      }
    },
    {
      "cell_type": "code",
      "source": [
        "b_list = ['Hippopotomonstrosesquippedaliophobia'[9:16], 4/2 , len(my_list), my_list]\n",
        "\n",
        "b_list"
      ],
      "metadata": {
        "id": "3m0hddna_f_Q",
        "colab": {
          "base_uri": "https://localhost:8080/"
        },
        "outputId": "8d0ad7c4-a707-415e-e269-996a4969ea1c"
      },
      "execution_count": null,
      "outputs": [
        {
          "output_type": "execute_result",
          "data": {
            "text/plain": [
              "['monstro', 2.0, 5, ['dog', 'dog', 5, 2580156526864974.5, 2580156526864974.5]]"
            ]
          },
          "metadata": {},
          "execution_count": 36
        }
      ]
    },
    {
      "cell_type": "code",
      "source": [
        "#add another item to the end of my list\n",
        "my_list.append(pi_3)"
      ],
      "metadata": {
        "id": "HNz2Yei7_7Ln"
      },
      "execution_count": null,
      "outputs": []
    },
    {
      "cell_type": "code",
      "source": [
        "b_list"
      ],
      "metadata": {
        "id": "4IIAegX7AICW",
        "colab": {
          "base_uri": "https://localhost:8080/"
        },
        "outputId": "c8090c6e-586d-49c0-8d75-e56c7536d4b3"
      },
      "execution_count": null,
      "outputs": [
        {
          "output_type": "execute_result",
          "data": {
            "text/plain": [
              "['monstro',\n",
              " 2.0,\n",
              " 5,\n",
              " ['dog', 'dog', 5, 2580156526864974.5, 2580156526864974.5, 2580156526864974.5]]"
            ]
          },
          "metadata": {},
          "execution_count": 39
        }
      ]
    },
    {
      "cell_type": "markdown",
      "source": [
        "**Task4**:\n",
        "\n",
        "Explain what happened in the last three code blocks; why is 2580156526864974.5 in b_list now?"
      ],
      "metadata": {
        "id": "n13RCo86AVGZ"
      }
    },
    {
      "cell_type": "markdown",
      "source": [
        "**Answer4**:\n",
        "\n",
        "[*First we created b_list and set it equal to 'monstro' the answer to 4/2, the lenght of 'my_list' and 'my list', then in the next block of code we are appending 'pi_3' to the list 'my_list', and then finally in the last line of code we are simply running our original list, b_list*]\n"
      ],
      "metadata": {
        "id": "SjxYvKC3AihR"
      }
    },
    {
      "cell_type": "markdown",
      "source": [
        "Let's practice splicing once more before moving on."
      ],
      "metadata": {
        "id": "fvLSQQt9BNor"
      }
    },
    {
      "cell_type": "markdown",
      "source": [
        "**Task5**:\n",
        "\n",
        "Using one line of code, grab the last three entries of my_list without writing my_list anywhere in your code.\n",
        "\n",
        "This task is a little harder than the others, so make sure you're working together. Don't be shy about googling 'how to splice lists in python' either."
      ],
      "metadata": {
        "id": "iftRvhTLBRZL"
      }
    },
    {
      "cell_type": "code",
      "source": [
        "#ANSWER5\n",
        "b_list [-1][3:]"
      ],
      "metadata": {
        "id": "TWu4b5eVBljg",
        "colab": {
          "base_uri": "https://localhost:8080/"
        },
        "outputId": "4fbc3375-0607-4046-bf74-df167a60dead"
      },
      "execution_count": null,
      "outputs": [
        {
          "output_type": "execute_result",
          "data": {
            "text/plain": [
              "[2580156526864974.5, 2580156526864974.5, 2580156526864974.5]"
            ]
          },
          "metadata": {},
          "execution_count": 86
        }
      ]
    },
    {
      "cell_type": "markdown",
      "source": [
        "###Dicts\n",
        "\n",
        "Like lists, dicts can hold any and all types of data. What differentiaties them from lists is that data in a dict is stored as a key/value pair called an item."
      ],
      "metadata": {
        "id": "mCVql9lfCXmv"
      }
    },
    {
      "cell_type": "code",
      "source": [
        "#make my dict\n",
        "my_dict = {'one':4/2, 2:my_list, '3':b_list[0]}\n",
        "my_dict"
      ],
      "metadata": {
        "id": "fmksWP1hJ4F2",
        "colab": {
          "base_uri": "https://localhost:8080/"
        },
        "outputId": "063f3a95-f0fa-4540-ab5d-0fdb6237c529"
      },
      "execution_count": null,
      "outputs": [
        {
          "output_type": "execute_result",
          "data": {
            "text/plain": [
              "{'one': 2.0,\n",
              " 2: ['dog',\n",
              "  'dog',\n",
              "  5,\n",
              "  2580156526864974.5,\n",
              "  2580156526864974.5,\n",
              "  2580156526864974.5],\n",
              " '3': 'monstro'}"
            ]
          },
          "metadata": {},
          "execution_count": 91
        }
      ]
    },
    {
      "cell_type": "markdown",
      "source": [
        "Dicts aren't entirely iterable."
      ],
      "metadata": {
        "id": "BLYdbXSpKkF4"
      }
    },
    {
      "cell_type": "code",
      "source": [
        "my_dict[0]"
      ],
      "metadata": {
        "id": "3ipy3XswKavQ",
        "colab": {
          "base_uri": "https://localhost:8080/",
          "height": 144
        },
        "outputId": "7ae5b8ea-8f58-4df9-8f98-bfb4408978cd"
      },
      "execution_count": null,
      "outputs": [
        {
          "output_type": "error",
          "ename": "KeyError",
          "evalue": "0",
          "traceback": [
            "\u001b[0;31m---------------------------------------------------------------------------\u001b[0m",
            "\u001b[0;31mKeyError\u001b[0m                                  Traceback (most recent call last)",
            "\u001b[0;32m<ipython-input-92-2e042f7087f7>\u001b[0m in \u001b[0;36m<cell line: 1>\u001b[0;34m()\u001b[0m\n\u001b[0;32m----> 1\u001b[0;31m \u001b[0mmy_dict\u001b[0m\u001b[0;34m[\u001b[0m\u001b[0;36m0\u001b[0m\u001b[0;34m]\u001b[0m\u001b[0;34m\u001b[0m\u001b[0;34m\u001b[0m\u001b[0m\n\u001b[0m",
            "\u001b[0;31mKeyError\u001b[0m: 0"
          ]
        }
      ]
    },
    {
      "cell_type": "markdown",
      "source": [
        "Instead of splicing, we acces the values of a dict using its keys."
      ],
      "metadata": {
        "id": "NSm5uTbSKprj"
      }
    },
    {
      "cell_type": "code",
      "source": [
        "my_dict['one'], my_dict['3'], my_dict[2.]"
      ],
      "metadata": {
        "id": "q7gBFLcgK0wo",
        "colab": {
          "base_uri": "https://localhost:8080/"
        },
        "outputId": "4364dc5f-6d84-4d68-e593-be837b5115ae"
      },
      "execution_count": null,
      "outputs": [
        {
          "output_type": "execute_result",
          "data": {
            "text/plain": [
              "(2.0,\n",
              " 'monstro',\n",
              " ['dog', 'dog', 5, 2580156526864974.5, 2580156526864974.5, 2580156526864974.5])"
            ]
          },
          "metadata": {},
          "execution_count": 93
        }
      ]
    },
    {
      "cell_type": "code",
      "source": [
        "#dicts can recognize when floats are equivalent to ints\n",
        "my_dict[2]"
      ],
      "metadata": {
        "id": "1wL5QtHkLJqt",
        "colab": {
          "base_uri": "https://localhost:8080/"
        },
        "outputId": "1962b23e-b2ee-48d9-cda2-cdd2ffcf6996"
      },
      "execution_count": null,
      "outputs": [
        {
          "output_type": "execute_result",
          "data": {
            "text/plain": [
              "['dog', 'dog', 5, 2580156526864974.5, 2580156526864974.5, 2580156526864974.5]"
            ]
          },
          "metadata": {},
          "execution_count": 94
        }
      ]
    },
    {
      "cell_type": "markdown",
      "source": [
        "If we want to iterate a dict, we need its keys. We can also just grab the values directly"
      ],
      "metadata": {
        "id": "BzcUpk73MFAE"
      }
    },
    {
      "cell_type": "code",
      "source": [
        "my_dict.keys()"
      ],
      "metadata": {
        "id": "4s26s4OMMMK4",
        "colab": {
          "base_uri": "https://localhost:8080/"
        },
        "outputId": "10762013-455e-4825-d837-d94b77e10ed2"
      },
      "execution_count": null,
      "outputs": [
        {
          "output_type": "execute_result",
          "data": {
            "text/plain": [
              "dict_keys(['one', 2, '3'])"
            ]
          },
          "metadata": {},
          "execution_count": 95
        }
      ]
    },
    {
      "cell_type": "code",
      "source": [
        "my_dict.values()"
      ],
      "metadata": {
        "id": "FyfaQT4RMTk0",
        "colab": {
          "base_uri": "https://localhost:8080/"
        },
        "outputId": "90b61ea4-726e-40b4-f338-7d0e6b984632"
      },
      "execution_count": null,
      "outputs": [
        {
          "output_type": "execute_result",
          "data": {
            "text/plain": [
              "dict_values([2.0, ['dog', 'dog', 5, 2580156526864974.5, 2580156526864974.5, 2580156526864974.5], 'monstro'])"
            ]
          },
          "metadata": {},
          "execution_count": 96
        }
      ]
    },
    {
      "cell_type": "markdown",
      "source": [
        "There are two other basic iterable data types in python: sets and tuples. We don't need to know much about them for this course though, so we'll move on to some data structures that we will use *a lot*."
      ],
      "metadata": {
        "id": "RkArvD60Mvyd"
      }
    },
    {
      "cell_type": "markdown",
      "source": [
        "## Numpy Arrays\n",
        "\n",
        "Nearly all scientific computing and data science in python uses numpy arrays, or something built out of numpy arrays. Numpy arrays are similar to lists, except they are imutable, and only hold one data type at a time"
      ],
      "metadata": {
        "id": "3vUOOe4wNvdR"
      }
    },
    {
      "cell_type": "code",
      "source": [
        "first_array = np.array([x,'dog', 'montro'])\n",
        "first_array"
      ],
      "metadata": {
        "id": "xpS4CyPsN1wE",
        "colab": {
          "base_uri": "https://localhost:8080/"
        },
        "outputId": "858c285f-63fc-4717-8293-289e92b1adda"
      },
      "execution_count": null,
      "outputs": [
        {
          "output_type": "execute_result",
          "data": {
            "text/plain": [
              "array(['dog', 'dog', 'montro'], dtype='<U6')"
            ]
          },
          "metadata": {},
          "execution_count": 97
        }
      ]
    },
    {
      "cell_type": "code",
      "source": [
        "hoo_array = np.array([np.pi, 11, 2 - 7])\n",
        "hoo_array"
      ],
      "metadata": {
        "id": "3Kfkr0QcPHJ8",
        "colab": {
          "base_uri": "https://localhost:8080/"
        },
        "outputId": "aff89b03-6844-489c-842c-398b2bb0cc0d"
      },
      "execution_count": null,
      "outputs": [
        {
          "output_type": "execute_result",
          "data": {
            "text/plain": [
              "array([ 3.14159265, 11.        , -5.        ])"
            ]
          },
          "metadata": {},
          "execution_count": 98
        }
      ]
    },
    {
      "cell_type": "markdown",
      "source": [
        "hoo_array converted the two ints, 11 and -5, into floats, to ensure that everything is the same data type.\n",
        "\n",
        "A similar thing happens when you try to mix floats and ints with strings."
      ],
      "metadata": {
        "id": "aMJY5Q1RPPGd"
      }
    },
    {
      "cell_type": "markdown",
      "source": [
        "**Task6**:\n",
        "\n",
        "What happens when you make an numpy array with floats, strings, and ints?"
      ],
      "metadata": {
        "id": "36yrr-YlQL0v"
      }
    },
    {
      "cell_type": "code",
      "source": [
        "#ANSWER6\n",
        "Tired_array = np.array ([x,'dog',np.pi])\n",
        "Tired_array\n",
        "#[*write your answer here*]\n",
        "To ensure everything is the same data type, it converted everything inside of the array into a string"
      ],
      "metadata": {
        "id": "o2qCieLlPiCw",
        "colab": {
          "base_uri": "https://localhost:8080/"
        },
        "outputId": "5fd7277c-5b9e-4d98-be83-a9dd3ec96959"
      },
      "execution_count": null,
      "outputs": [
        {
          "output_type": "execute_result",
          "data": {
            "text/plain": [
              "array(['dog', 'dog', '3.141592653589793'], dtype='<U32')"
            ]
          },
          "metadata": {},
          "execution_count": 99
        }
      ]
    },
    {
      "cell_type": "markdown",
      "source": [
        "**Answer6 cont.**:\n",
        "\n",
        "[*write your answer here*]"
      ],
      "metadata": {
        "id": "OY6nERNPQYjD"
      }
    },
    {
      "cell_type": "markdown",
      "source": [
        "Why make such a big deal out of numpy arrays, if they have this weird behavior?\n",
        "\n",
        "Two reasons:\n",
        "- ensuring that arrays are always of the same data type makes operations with arrays fast, which is essential when dealing with even moderately sized data sets.\n",
        "- The automatic syncing of data formats has other benefits; see below"
      ],
      "metadata": {
        "id": "Ool262SkQqeh"
      }
    },
    {
      "cell_type": "code",
      "source": [
        "#the smaller numbers are written in scitific notation, just like the larger one\n",
        "#This encourages us to think about the relative scale of our values\n",
        "tood_array = np.array([pi_3, 11, 2 - 7])\n",
        "tood_array"
      ],
      "metadata": {
        "colab": {
          "base_uri": "https://localhost:8080/",
          "height": 198
        },
        "id": "WO4ZFH8VOBOD",
        "outputId": "f2720e1d-36c8-40e1-ea79-08ef750f29fd"
      },
      "execution_count": null,
      "outputs": [
        {
          "output_type": "error",
          "ename": "NameError",
          "evalue": "name 'np' is not defined",
          "traceback": [
            "\u001b[0;31m---------------------------------------------------------------------------\u001b[0m",
            "\u001b[0;31mNameError\u001b[0m                                 Traceback (most recent call last)",
            "\u001b[0;32m<ipython-input-3-8941f63c8432>\u001b[0m in \u001b[0;36m<cell line: 3>\u001b[0;34m()\u001b[0m\n\u001b[1;32m      1\u001b[0m \u001b[0;31m#the smaller numbers are written in scitific notation, just like the larger one\u001b[0m\u001b[0;34m\u001b[0m\u001b[0;34m\u001b[0m\u001b[0m\n\u001b[1;32m      2\u001b[0m \u001b[0;31m#This encourages us to think about the relative scale of our values\u001b[0m\u001b[0;34m\u001b[0m\u001b[0;34m\u001b[0m\u001b[0m\n\u001b[0;32m----> 3\u001b[0;31m \u001b[0mtood_array\u001b[0m \u001b[0;34m=\u001b[0m \u001b[0mnp\u001b[0m\u001b[0;34m.\u001b[0m\u001b[0marray\u001b[0m\u001b[0;34m(\u001b[0m\u001b[0;34m[\u001b[0m\u001b[0mpi_3\u001b[0m\u001b[0;34m,\u001b[0m \u001b[0;36m11\u001b[0m\u001b[0;34m,\u001b[0m \u001b[0;36m2\u001b[0m \u001b[0;34m-\u001b[0m \u001b[0;36m7\u001b[0m\u001b[0;34m]\u001b[0m\u001b[0;34m)\u001b[0m\u001b[0;34m\u001b[0m\u001b[0;34m\u001b[0m\u001b[0m\n\u001b[0m\u001b[1;32m      4\u001b[0m \u001b[0mtood_array\u001b[0m\u001b[0;34m\u001b[0m\u001b[0;34m\u001b[0m\u001b[0m\n",
            "\u001b[0;31mNameError\u001b[0m: name 'np' is not defined"
          ]
        }
      ]
    },
    {
      "cell_type": "markdown",
      "source": [
        "Actually there's more reasons to love numpy arrays."
      ],
      "metadata": {
        "id": "Pyp-Wt0NRxsU"
      }
    },
    {
      "cell_type": "markdown",
      "source": [
        "Arrays support element wise multiplication, addition, subtraction, and division by constants. Which is just what would happen to vectors, the mathematical object arrays were modeled after."
      ],
      "metadata": {
        "id": "q0OA_dk_SJLR"
      }
    },
    {
      "cell_type": "code",
      "source": [
        "2 * hoo_array + 1"
      ],
      "metadata": {
        "id": "GIYrGdr3SAtW",
        "colab": {
          "base_uri": "https://localhost:8080/"
        },
        "outputId": "c8923a7b-2fdc-424a-f139-5c4b706c67e2"
      },
      "execution_count": null,
      "outputs": [
        {
          "output_type": "execute_result",
          "data": {
            "text/plain": [
              "array([ 7.28318531, 23.        , -9.        ])"
            ]
          },
          "metadata": {},
          "execution_count": 100
        }
      ]
    },
    {
      "cell_type": "markdown",
      "source": [
        "Regular multiplication with arrays executes element wise multiplication"
      ],
      "metadata": {
        "id": "UodMsbZzcLa2"
      }
    },
    {
      "cell_type": "code",
      "source": [
        "hoo_array * hoo_array"
      ],
      "metadata": {
        "id": "TBHNfz31cFVj"
      },
      "execution_count": null,
      "outputs": []
    },
    {
      "cell_type": "markdown",
      "source": [
        "Numpy arrays also handle matrix multiplication. What's that? Don't worry about it for now, just now that it exists."
      ],
      "metadata": {
        "id": "Yq_6ND-_ctm8"
      }
    },
    {
      "cell_type": "code",
      "source": [
        "# define a new array, with easy to follow numbers\n",
        "pl_array = np.array([1,2,3])"
      ],
      "metadata": {
        "id": "0-9__1ALfkE8"
      },
      "execution_count": null,
      "outputs": []
    },
    {
      "cell_type": "code",
      "source": [
        "#inner product, dot product\n",
        "pl_array @ pl_array"
      ],
      "metadata": {
        "id": "lQ7p1i06c8kt"
      },
      "execution_count": null,
      "outputs": []
    },
    {
      "cell_type": "code",
      "source": [
        "#matmul works as a dot product/ inner product as well\n",
        "np.matmul(pl_array,pl_array)"
      ],
      "metadata": {
        "id": "zhNg5teigA6H"
      },
      "execution_count": null,
      "outputs": []
    },
    {
      "cell_type": "code",
      "source": [
        "#use np.outer for outer product\n",
        "first_matrix = np.outer(pl_array,pl_array)\n",
        "first_matrix"
      ],
      "metadata": {
        "id": "8ONBvwbFhEfY"
      },
      "execution_count": null,
      "outputs": []
    },
    {
      "cell_type": "markdown",
      "source": [
        "### Array Creation\n",
        "\n",
        "One of the great things about computers is that they can do tedious tasks for me, like make a 100 by 100 matrix."
      ],
      "metadata": {
        "id": "b7ravYUmi59e"
      }
    },
    {
      "cell_type": "code",
      "source": [
        "#feel the power\n",
        "some_ones = np.ones((100,100))\n",
        "some_ones"
      ],
      "metadata": {
        "id": "6GXoMBvUkmfh",
        "colab": {
          "base_uri": "https://localhost:8080/",
          "height": 180
        },
        "outputId": "bf538573-27cc-4293-d584-3285aecb4069"
      },
      "execution_count": null,
      "outputs": [
        {
          "output_type": "error",
          "ename": "NameError",
          "evalue": "name 'np' is not defined",
          "traceback": [
            "\u001b[0;31m---------------------------------------------------------------------------\u001b[0m",
            "\u001b[0;31mNameError\u001b[0m                                 Traceback (most recent call last)",
            "\u001b[0;32m<ipython-input-2-67397297d99d>\u001b[0m in \u001b[0;36m<cell line: 2>\u001b[0;34m()\u001b[0m\n\u001b[1;32m      1\u001b[0m \u001b[0;31m#feel the power\u001b[0m\u001b[0;34m\u001b[0m\u001b[0;34m\u001b[0m\u001b[0m\n\u001b[0;32m----> 2\u001b[0;31m \u001b[0msome_ones\u001b[0m \u001b[0;34m=\u001b[0m \u001b[0mnp\u001b[0m\u001b[0;34m.\u001b[0m\u001b[0mones\u001b[0m\u001b[0;34m(\u001b[0m\u001b[0;34m(\u001b[0m\u001b[0;36m100\u001b[0m\u001b[0;34m,\u001b[0m\u001b[0;36m100\u001b[0m\u001b[0;34m)\u001b[0m\u001b[0;34m)\u001b[0m\u001b[0;34m\u001b[0m\u001b[0;34m\u001b[0m\u001b[0m\n\u001b[0m\u001b[1;32m      3\u001b[0m \u001b[0msome_ones\u001b[0m\u001b[0;34m\u001b[0m\u001b[0;34m\u001b[0m\u001b[0m\n",
            "\u001b[0;31mNameError\u001b[0m: name 'np' is not defined"
          ]
        }
      ]
    },
    {
      "cell_type": "code",
      "source": [
        "#zeros works the same way, except with zeros\n",
        "np.zeros(3)"
      ],
      "metadata": {
        "id": "MaOPiDRQk2ZX",
        "colab": {
          "base_uri": "https://localhost:8080/"
        },
        "outputId": "554d53d6-7e2e-4ead-9af2-d0f9bb49836e"
      },
      "execution_count": null,
      "outputs": [
        {
          "output_type": "execute_result",
          "data": {
            "text/plain": [
              "array([0., 0., 0.])"
            ]
          },
          "metadata": {},
          "execution_count": 6
        }
      ]
    },
    {
      "cell_type": "markdown",
      "source": [
        "Here are examples of other ways to make arrays. You can find even more [here](https://numpy.org/doc/stable/reference/routines.array-creation.html)."
      ],
      "metadata": {
        "id": "vr3rE7ROlWZe"
      }
    },
    {
      "cell_type": "code",
      "source": [
        "#creates an array of 21 values, evenly spaced from -10 to 10, inclusive\n",
        "#notice how it always generates floats\n",
        "np.linspace(-10,10,21)"
      ],
      "metadata": {
        "id": "dR137gollgY8",
        "colab": {
          "base_uri": "https://localhost:8080/"
        },
        "outputId": "a57afeae-9b21-4db8-aa1b-723000210e2f"
      },
      "execution_count": null,
      "outputs": [
        {
          "output_type": "execute_result",
          "data": {
            "text/plain": [
              "array([-10.,  -9.,  -8.,  -7.,  -6.,  -5.,  -4.,  -3.,  -2.,  -1.,   0.,\n",
              "         1.,   2.,   3.,   4.,   5.,   6.,   7.,   8.,   9.,  10.])"
            ]
          },
          "metadata": {},
          "execution_count": 7
        }
      ]
    },
    {
      "cell_type": "code",
      "source": [
        "#also creates evely spaced values over a specificed range.\n",
        "#similar to linspace, but less stable, and requires less inputs\n",
        "#sometimes it generates floats, sometimes it generates ints\n",
        "x_array = np.arange(10)\n",
        "x_array"
      ],
      "metadata": {
        "id": "MIKaa4nimBBc",
        "colab": {
          "base_uri": "https://localhost:8080/"
        },
        "outputId": "82e62313-a116-4b30-9e5e-da600f848857"
      },
      "execution_count": null,
      "outputs": [
        {
          "output_type": "execute_result",
          "data": {
            "text/plain": [
              "array([0, 1, 2, 3, 4, 5, 6, 7, 8, 9])"
            ]
          },
          "metadata": {},
          "execution_count": 4
        }
      ]
    },
    {
      "cell_type": "code",
      "source": [
        "#makes an array of 15 4s\n",
        "np.repeat(4,15)"
      ],
      "metadata": {
        "id": "PJAWfZ91mZoI",
        "colab": {
          "base_uri": "https://localhost:8080/"
        },
        "outputId": "a2ee7952-0a97-4dc8-891c-0e9b4842ece2"
      },
      "execution_count": null,
      "outputs": [
        {
          "output_type": "execute_result",
          "data": {
            "text/plain": [
              "array([4, 4, 4, 4, 4, 4, 4, 4, 4, 4, 4, 4, 4, 4, 4])"
            ]
          },
          "metadata": {},
          "execution_count": 5
        }
      ]
    },
    {
      "cell_type": "markdown",
      "source": [
        "**Task7**:\n",
        "\n",
        "Make an array from 87 to 104 (inclusive) with exactly 50 entries."
      ],
      "metadata": {
        "id": "HkRdH9nXVN1e"
      }
    },
    {
      "cell_type": "code",
      "source": [
        "#ANSWER7\n",
        "np.linspace(87,104)"
      ],
      "metadata": {
        "id": "wjQQMzlrWx_N",
        "colab": {
          "base_uri": "https://localhost:8080/"
        },
        "outputId": "29436dcc-f5ee-4439-8059-16a38fe16062"
      },
      "execution_count": null,
      "outputs": [
        {
          "output_type": "execute_result",
          "data": {
            "text/plain": [
              "array([ 87.  ,  91.25,  95.5 ,  99.75, 104.  ])"
            ]
          },
          "metadata": {},
          "execution_count": 7
        }
      ]
    },
    {
      "cell_type": "markdown",
      "source": [
        "Splicing works the same for arrays and lists."
      ],
      "metadata": {
        "id": "D_HYihKoXXDL"
      }
    },
    {
      "cell_type": "markdown",
      "source": [
        "**Task8**:\n",
        "\n",
        "Grab the first through fifth entries of x_array."
      ],
      "metadata": {
        "id": "YopMOoy-Xap9"
      }
    },
    {
      "cell_type": "code",
      "source": [
        "#ANSWER8\n",
        "\n",
        "x_array [1:6]\n",
        "\n",
        "#[*write your answer here*]"
      ],
      "metadata": {
        "id": "yxCDEKDGXkvw",
        "colab": {
          "base_uri": "https://localhost:8080/"
        },
        "outputId": "1214b241-6d48-42ad-80af-d454f8c17dac"
      },
      "execution_count": null,
      "outputs": [
        {
          "output_type": "execute_result",
          "data": {
            "text/plain": [
              "array([1, 2, 3, 4, 5])"
            ]
          },
          "metadata": {},
          "execution_count": 9
        }
      ]
    },
    {
      "cell_type": "markdown",
      "source": [
        "### Vectorized Operations\n",
        "\n",
        "Numpy arrays come with many built in methods, many of which are vectorized operations. All you need to knnow about 'vectorized operations' is that: they are usually much faster than any other option, and how to use them.\n",
        "\n",
        "There are two examples below. You can see others [here](https://numpy.org/doc/stable/reference/arrays.ndarray.html#array-methods)."
      ],
      "metadata": {
        "id": "zQgQJUEdjg-7"
      }
    },
    {
      "cell_type": "code",
      "source": [
        "#finds the most positive (largest) value in the array\n",
        "x_array.max()"
      ],
      "metadata": {
        "id": "LRMtaF4Uj-ol",
        "colab": {
          "base_uri": "https://localhost:8080/"
        },
        "outputId": "cd13a911-0c4c-4691-8736-e6ad7a67e4a6"
      },
      "execution_count": null,
      "outputs": [
        {
          "output_type": "execute_result",
          "data": {
            "text/plain": [
              "9"
            ]
          },
          "metadata": {},
          "execution_count": 10
        }
      ]
    },
    {
      "cell_type": "code",
      "source": [
        "#finds the average of the values in x_array\n",
        "x_array.mean()"
      ],
      "metadata": {
        "id": "Mul5TjVGj3bX",
        "colab": {
          "base_uri": "https://localhost:8080/"
        },
        "outputId": "b8d98702-afa2-40ad-8636-9ddba9737dea"
      },
      "execution_count": null,
      "outputs": [
        {
          "output_type": "execute_result",
          "data": {
            "text/plain": [
              "4.5"
            ]
          },
          "metadata": {},
          "execution_count": 11
        }
      ]
    },
    {
      "cell_type": "markdown",
      "source": [
        "## Pandas Dataframes\n",
        "\n",
        "These are the data structure we will most often directly manipulate in this class. Paying special attention to this section will make your life easier later.\n",
        "\n",
        "Like numpy, we need to import pandas, and we often use an abreviation."
      ],
      "metadata": {
        "id": "vkWoeIclXkE3"
      }
    },
    {
      "cell_type": "code",
      "source": [
        "import pandas as pd"
      ],
      "metadata": {
        "id": "vpng4PWJY8dF"
      },
      "execution_count": null,
      "outputs": []
    },
    {
      "cell_type": "markdown",
      "source": [
        "We can make a pandas dataframe from any numpy array."
      ],
      "metadata": {
        "id": "dSkZCWaRY_x0"
      }
    },
    {
      "cell_type": "code",
      "source": [
        "x_df = pd.DataFrame(x_array)\n",
        "x_df"
      ],
      "metadata": {
        "id": "SqwgQYkRZUIt",
        "colab": {
          "base_uri": "https://localhost:8080/",
          "height": 363
        },
        "outputId": "12b082ec-8e4c-4028-ec57-58b7db6d8f09"
      },
      "execution_count": null,
      "outputs": [
        {
          "output_type": "execute_result",
          "data": {
            "text/plain": [
              "   0\n",
              "0  0\n",
              "1  1\n",
              "2  2\n",
              "3  3\n",
              "4  4\n",
              "5  5\n",
              "6  6\n",
              "7  7\n",
              "8  8\n",
              "9  9"
            ],
            "text/html": [
              "\n",
              "  <div id=\"df-c108b2e9-54ca-4f3e-b3c5-553e9910e527\" class=\"colab-df-container\">\n",
              "    <div>\n",
              "<style scoped>\n",
              "    .dataframe tbody tr th:only-of-type {\n",
              "        vertical-align: middle;\n",
              "    }\n",
              "\n",
              "    .dataframe tbody tr th {\n",
              "        vertical-align: top;\n",
              "    }\n",
              "\n",
              "    .dataframe thead th {\n",
              "        text-align: right;\n",
              "    }\n",
              "</style>\n",
              "<table border=\"1\" class=\"dataframe\">\n",
              "  <thead>\n",
              "    <tr style=\"text-align: right;\">\n",
              "      <th></th>\n",
              "      <th>0</th>\n",
              "    </tr>\n",
              "  </thead>\n",
              "  <tbody>\n",
              "    <tr>\n",
              "      <th>0</th>\n",
              "      <td>0</td>\n",
              "    </tr>\n",
              "    <tr>\n",
              "      <th>1</th>\n",
              "      <td>1</td>\n",
              "    </tr>\n",
              "    <tr>\n",
              "      <th>2</th>\n",
              "      <td>2</td>\n",
              "    </tr>\n",
              "    <tr>\n",
              "      <th>3</th>\n",
              "      <td>3</td>\n",
              "    </tr>\n",
              "    <tr>\n",
              "      <th>4</th>\n",
              "      <td>4</td>\n",
              "    </tr>\n",
              "    <tr>\n",
              "      <th>5</th>\n",
              "      <td>5</td>\n",
              "    </tr>\n",
              "    <tr>\n",
              "      <th>6</th>\n",
              "      <td>6</td>\n",
              "    </tr>\n",
              "    <tr>\n",
              "      <th>7</th>\n",
              "      <td>7</td>\n",
              "    </tr>\n",
              "    <tr>\n",
              "      <th>8</th>\n",
              "      <td>8</td>\n",
              "    </tr>\n",
              "    <tr>\n",
              "      <th>9</th>\n",
              "      <td>9</td>\n",
              "    </tr>\n",
              "  </tbody>\n",
              "</table>\n",
              "</div>\n",
              "    <div class=\"colab-df-buttons\">\n",
              "\n",
              "  <div class=\"colab-df-container\">\n",
              "    <button class=\"colab-df-convert\" onclick=\"convertToInteractive('df-c108b2e9-54ca-4f3e-b3c5-553e9910e527')\"\n",
              "            title=\"Convert this dataframe to an interactive table.\"\n",
              "            style=\"display:none;\">\n",
              "\n",
              "  <svg xmlns=\"http://www.w3.org/2000/svg\" height=\"24px\" viewBox=\"0 -960 960 960\">\n",
              "    <path d=\"M120-120v-720h720v720H120Zm60-500h600v-160H180v160Zm220 220h160v-160H400v160Zm0 220h160v-160H400v160ZM180-400h160v-160H180v160Zm440 0h160v-160H620v160ZM180-180h160v-160H180v160Zm440 0h160v-160H620v160Z\"/>\n",
              "  </svg>\n",
              "    </button>\n",
              "\n",
              "  <style>\n",
              "    .colab-df-container {\n",
              "      display:flex;\n",
              "      gap: 12px;\n",
              "    }\n",
              "\n",
              "    .colab-df-convert {\n",
              "      background-color: #E8F0FE;\n",
              "      border: none;\n",
              "      border-radius: 50%;\n",
              "      cursor: pointer;\n",
              "      display: none;\n",
              "      fill: #1967D2;\n",
              "      height: 32px;\n",
              "      padding: 0 0 0 0;\n",
              "      width: 32px;\n",
              "    }\n",
              "\n",
              "    .colab-df-convert:hover {\n",
              "      background-color: #E2EBFA;\n",
              "      box-shadow: 0px 1px 2px rgba(60, 64, 67, 0.3), 0px 1px 3px 1px rgba(60, 64, 67, 0.15);\n",
              "      fill: #174EA6;\n",
              "    }\n",
              "\n",
              "    .colab-df-buttons div {\n",
              "      margin-bottom: 4px;\n",
              "    }\n",
              "\n",
              "    [theme=dark] .colab-df-convert {\n",
              "      background-color: #3B4455;\n",
              "      fill: #D2E3FC;\n",
              "    }\n",
              "\n",
              "    [theme=dark] .colab-df-convert:hover {\n",
              "      background-color: #434B5C;\n",
              "      box-shadow: 0px 1px 3px 1px rgba(0, 0, 0, 0.15);\n",
              "      filter: drop-shadow(0px 1px 2px rgba(0, 0, 0, 0.3));\n",
              "      fill: #FFFFFF;\n",
              "    }\n",
              "  </style>\n",
              "\n",
              "    <script>\n",
              "      const buttonEl =\n",
              "        document.querySelector('#df-c108b2e9-54ca-4f3e-b3c5-553e9910e527 button.colab-df-convert');\n",
              "      buttonEl.style.display =\n",
              "        google.colab.kernel.accessAllowed ? 'block' : 'none';\n",
              "\n",
              "      async function convertToInteractive(key) {\n",
              "        const element = document.querySelector('#df-c108b2e9-54ca-4f3e-b3c5-553e9910e527');\n",
              "        const dataTable =\n",
              "          await google.colab.kernel.invokeFunction('convertToInteractive',\n",
              "                                                    [key], {});\n",
              "        if (!dataTable) return;\n",
              "\n",
              "        const docLinkHtml = 'Like what you see? Visit the ' +\n",
              "          '<a target=\"_blank\" href=https://colab.research.google.com/notebooks/data_table.ipynb>data table notebook</a>'\n",
              "          + ' to learn more about interactive tables.';\n",
              "        element.innerHTML = '';\n",
              "        dataTable['output_type'] = 'display_data';\n",
              "        await google.colab.output.renderOutput(dataTable, element);\n",
              "        const docLink = document.createElement('div');\n",
              "        docLink.innerHTML = docLinkHtml;\n",
              "        element.appendChild(docLink);\n",
              "      }\n",
              "    </script>\n",
              "  </div>\n",
              "\n",
              "\n",
              "<div id=\"df-004ce4a8-9200-4fc3-86de-bab92efbad74\">\n",
              "  <button class=\"colab-df-quickchart\" onclick=\"quickchart('df-004ce4a8-9200-4fc3-86de-bab92efbad74')\"\n",
              "            title=\"Suggest charts\"\n",
              "            style=\"display:none;\">\n",
              "\n",
              "<svg xmlns=\"http://www.w3.org/2000/svg\" height=\"24px\"viewBox=\"0 0 24 24\"\n",
              "     width=\"24px\">\n",
              "    <g>\n",
              "        <path d=\"M19 3H5c-1.1 0-2 .9-2 2v14c0 1.1.9 2 2 2h14c1.1 0 2-.9 2-2V5c0-1.1-.9-2-2-2zM9 17H7v-7h2v7zm4 0h-2V7h2v10zm4 0h-2v-4h2v4z\"/>\n",
              "    </g>\n",
              "</svg>\n",
              "  </button>\n",
              "\n",
              "<style>\n",
              "  .colab-df-quickchart {\n",
              "      --bg-color: #E8F0FE;\n",
              "      --fill-color: #1967D2;\n",
              "      --hover-bg-color: #E2EBFA;\n",
              "      --hover-fill-color: #174EA6;\n",
              "      --disabled-fill-color: #AAA;\n",
              "      --disabled-bg-color: #DDD;\n",
              "  }\n",
              "\n",
              "  [theme=dark] .colab-df-quickchart {\n",
              "      --bg-color: #3B4455;\n",
              "      --fill-color: #D2E3FC;\n",
              "      --hover-bg-color: #434B5C;\n",
              "      --hover-fill-color: #FFFFFF;\n",
              "      --disabled-bg-color: #3B4455;\n",
              "      --disabled-fill-color: #666;\n",
              "  }\n",
              "\n",
              "  .colab-df-quickchart {\n",
              "    background-color: var(--bg-color);\n",
              "    border: none;\n",
              "    border-radius: 50%;\n",
              "    cursor: pointer;\n",
              "    display: none;\n",
              "    fill: var(--fill-color);\n",
              "    height: 32px;\n",
              "    padding: 0;\n",
              "    width: 32px;\n",
              "  }\n",
              "\n",
              "  .colab-df-quickchart:hover {\n",
              "    background-color: var(--hover-bg-color);\n",
              "    box-shadow: 0 1px 2px rgba(60, 64, 67, 0.3), 0 1px 3px 1px rgba(60, 64, 67, 0.15);\n",
              "    fill: var(--button-hover-fill-color);\n",
              "  }\n",
              "\n",
              "  .colab-df-quickchart-complete:disabled,\n",
              "  .colab-df-quickchart-complete:disabled:hover {\n",
              "    background-color: var(--disabled-bg-color);\n",
              "    fill: var(--disabled-fill-color);\n",
              "    box-shadow: none;\n",
              "  }\n",
              "\n",
              "  .colab-df-spinner {\n",
              "    border: 2px solid var(--fill-color);\n",
              "    border-color: transparent;\n",
              "    border-bottom-color: var(--fill-color);\n",
              "    animation:\n",
              "      spin 1s steps(1) infinite;\n",
              "  }\n",
              "\n",
              "  @keyframes spin {\n",
              "    0% {\n",
              "      border-color: transparent;\n",
              "      border-bottom-color: var(--fill-color);\n",
              "      border-left-color: var(--fill-color);\n",
              "    }\n",
              "    20% {\n",
              "      border-color: transparent;\n",
              "      border-left-color: var(--fill-color);\n",
              "      border-top-color: var(--fill-color);\n",
              "    }\n",
              "    30% {\n",
              "      border-color: transparent;\n",
              "      border-left-color: var(--fill-color);\n",
              "      border-top-color: var(--fill-color);\n",
              "      border-right-color: var(--fill-color);\n",
              "    }\n",
              "    40% {\n",
              "      border-color: transparent;\n",
              "      border-right-color: var(--fill-color);\n",
              "      border-top-color: var(--fill-color);\n",
              "    }\n",
              "    60% {\n",
              "      border-color: transparent;\n",
              "      border-right-color: var(--fill-color);\n",
              "    }\n",
              "    80% {\n",
              "      border-color: transparent;\n",
              "      border-right-color: var(--fill-color);\n",
              "      border-bottom-color: var(--fill-color);\n",
              "    }\n",
              "    90% {\n",
              "      border-color: transparent;\n",
              "      border-bottom-color: var(--fill-color);\n",
              "    }\n",
              "  }\n",
              "</style>\n",
              "\n",
              "  <script>\n",
              "    async function quickchart(key) {\n",
              "      const quickchartButtonEl =\n",
              "        document.querySelector('#' + key + ' button');\n",
              "      quickchartButtonEl.disabled = true;  // To prevent multiple clicks.\n",
              "      quickchartButtonEl.classList.add('colab-df-spinner');\n",
              "      try {\n",
              "        const charts = await google.colab.kernel.invokeFunction(\n",
              "            'suggestCharts', [key], {});\n",
              "      } catch (error) {\n",
              "        console.error('Error during call to suggestCharts:', error);\n",
              "      }\n",
              "      quickchartButtonEl.classList.remove('colab-df-spinner');\n",
              "      quickchartButtonEl.classList.add('colab-df-quickchart-complete');\n",
              "    }\n",
              "    (() => {\n",
              "      let quickchartButtonEl =\n",
              "        document.querySelector('#df-004ce4a8-9200-4fc3-86de-bab92efbad74 button');\n",
              "      quickchartButtonEl.style.display =\n",
              "        google.colab.kernel.accessAllowed ? 'block' : 'none';\n",
              "    })();\n",
              "  </script>\n",
              "</div>\n",
              "    </div>\n",
              "  </div>\n"
            ],
            "application/vnd.google.colaboratory.intrinsic+json": {
              "type": "dataframe",
              "variable_name": "x_df",
              "summary": "{\n  \"name\": \"x_df\",\n  \"rows\": 10,\n  \"fields\": [\n    {\n      \"column\": 0,\n      \"properties\": {\n        \"dtype\": \"number\",\n        \"std\": 3,\n        \"min\": 0,\n        \"max\": 9,\n        \"num_unique_values\": 10,\n        \"samples\": [\n          8,\n          1,\n          5\n        ],\n        \"semantic_type\": \"\",\n        \"description\": \"\"\n      }\n    }\n  ]\n}"
            }
          },
          "metadata": {},
          "execution_count": 13
        }
      ]
    },
    {
      "cell_type": "markdown",
      "source": [
        "Notice how the one dimensional array was turned into a vertical column. Pandas dataframes frame (ahem) data around columns and column labels. There are row labels too, and these are refered to as indicies."
      ],
      "metadata": {
        "id": "ZCcmzU8TZmIU"
      }
    },
    {
      "cell_type": "code",
      "source": [
        "some_ones_df = pd.DataFrame(some_ones)\n",
        "some_ones_df"
      ],
      "metadata": {
        "id": "p8_JoDnIZFMD",
        "colab": {
          "base_uri": "https://localhost:8080/",
          "height": 162
        },
        "outputId": "67e090e0-6cb7-4e97-d217-849eab6f7b1a"
      },
      "execution_count": null,
      "outputs": [
        {
          "output_type": "error",
          "ename": "NameError",
          "evalue": "name 'some_ones' is not defined",
          "traceback": [
            "\u001b[0;31m---------------------------------------------------------------------------\u001b[0m",
            "\u001b[0;31mNameError\u001b[0m                                 Traceback (most recent call last)",
            "\u001b[0;32m<ipython-input-14-9fd586df4eaa>\u001b[0m in \u001b[0;36m<cell line: 1>\u001b[0;34m()\u001b[0m\n\u001b[0;32m----> 1\u001b[0;31m \u001b[0msome_ones_df\u001b[0m \u001b[0;34m=\u001b[0m \u001b[0mpd\u001b[0m\u001b[0;34m.\u001b[0m\u001b[0mDataFrame\u001b[0m\u001b[0;34m(\u001b[0m\u001b[0msome_ones\u001b[0m\u001b[0;34m)\u001b[0m\u001b[0;34m\u001b[0m\u001b[0;34m\u001b[0m\u001b[0m\n\u001b[0m\u001b[1;32m      2\u001b[0m \u001b[0msome_ones_df\u001b[0m\u001b[0;34m\u001b[0m\u001b[0;34m\u001b[0m\u001b[0m\n",
            "\u001b[0;31mNameError\u001b[0m: name 'some_ones' is not defined"
          ]
        }
      ]
    },
    {
      "cell_type": "markdown",
      "source": [
        "Pandas dataframes also have lots of methods, many of them vectorized operations, like numpy. This is because pandas was built on top of numpy."
      ],
      "metadata": {
        "id": "FF1gLUtJky6q"
      }
    },
    {
      "cell_type": "code",
      "source": [
        "#finds the largest value in column 0 of x_df\n",
        "x_df.max()"
      ],
      "metadata": {
        "id": "myskG9v1l2Py",
        "colab": {
          "base_uri": "https://localhost:8080/",
          "height": 115
        },
        "outputId": "6d5348e0-8d6d-4383-88d6-e5279c658009"
      },
      "execution_count": null,
      "outputs": [
        {
          "output_type": "execute_result",
          "data": {
            "text/plain": [
              "0    9\n",
              "dtype: int64"
            ],
            "text/html": [
              "<div>\n",
              "<style scoped>\n",
              "    .dataframe tbody tr th:only-of-type {\n",
              "        vertical-align: middle;\n",
              "    }\n",
              "\n",
              "    .dataframe tbody tr th {\n",
              "        vertical-align: top;\n",
              "    }\n",
              "\n",
              "    .dataframe thead th {\n",
              "        text-align: right;\n",
              "    }\n",
              "</style>\n",
              "<table border=\"1\" class=\"dataframe\">\n",
              "  <thead>\n",
              "    <tr style=\"text-align: right;\">\n",
              "      <th></th>\n",
              "      <th>0</th>\n",
              "    </tr>\n",
              "  </thead>\n",
              "  <tbody>\n",
              "    <tr>\n",
              "      <th>0</th>\n",
              "      <td>9</td>\n",
              "    </tr>\n",
              "  </tbody>\n",
              "</table>\n",
              "</div><br><label><b>dtype:</b> int64</label>"
            ]
          },
          "metadata": {},
          "execution_count": 15
        }
      ]
    },
    {
      "cell_type": "code",
      "source": [
        "#sums each row\n",
        "some_ones_df.sum(axis=0)"
      ],
      "metadata": {
        "id": "S1EXGe-PmltN",
        "colab": {
          "base_uri": "https://localhost:8080/",
          "height": 162
        },
        "outputId": "588baa82-e8a8-4f3b-f204-58e699ffd46b"
      },
      "execution_count": null,
      "outputs": [
        {
          "output_type": "error",
          "ename": "NameError",
          "evalue": "name 'some_ones_df' is not defined",
          "traceback": [
            "\u001b[0;31m---------------------------------------------------------------------------\u001b[0m",
            "\u001b[0;31mNameError\u001b[0m                                 Traceback (most recent call last)",
            "\u001b[0;32m<ipython-input-16-3d855b29fe2d>\u001b[0m in \u001b[0;36m<cell line: 2>\u001b[0;34m()\u001b[0m\n\u001b[1;32m      1\u001b[0m \u001b[0;31m#sums each row\u001b[0m\u001b[0;34m\u001b[0m\u001b[0;34m\u001b[0m\u001b[0m\n\u001b[0;32m----> 2\u001b[0;31m \u001b[0msome_ones_df\u001b[0m\u001b[0;34m.\u001b[0m\u001b[0msum\u001b[0m\u001b[0;34m(\u001b[0m\u001b[0maxis\u001b[0m\u001b[0;34m=\u001b[0m\u001b[0;36m0\u001b[0m\u001b[0;34m)\u001b[0m\u001b[0;34m\u001b[0m\u001b[0;34m\u001b[0m\u001b[0m\n\u001b[0m",
            "\u001b[0;31mNameError\u001b[0m: name 'some_ones_df' is not defined"
          ]
        }
      ]
    },
    {
      "cell_type": "markdown",
      "source": [
        "### Slicing Dataframes\n",
        "\n",
        "For the next part, we're going to need a more interesting example than some_ones_df.\n",
        "\n",
        "To get a more interesting dataframe, I'm going to pull one from my github using pd.read_csv. This is the most common way you'll get data in this course, but pandas offers more versitile options. You can view them [here](https://pandas.pydata.org/docs/reference/io.html)."
      ],
      "metadata": {
        "id": "zVJ78NjVbVQx"
      }
    },
    {
      "cell_type": "code",
      "source": [
        "#make a string of the webpage where my data lives\n",
        "url_basketball = 'https://raw.githubusercontent.com/thedarredondo/data-science-fundamentals/main/Data/basketball2324.csv'\n",
        "#feed that string into the pandas read csv function\n",
        "basketball = pd.read_csv(url_basketball)"
      ],
      "metadata": {
        "id": "5HhlGXKYbJBc"
      },
      "execution_count": null,
      "outputs": []
    },
    {
      "cell_type": "code",
      "source": [
        "basketball"
      ],
      "metadata": {
        "id": "l-IuScDRc-o6",
        "colab": {
          "base_uri": "https://localhost:8080/",
          "height": 424
        },
        "outputId": "d6731906-51e4-4cd3-83dd-9f4486839832"
      },
      "execution_count": null,
      "outputs": [
        {
          "output_type": "execute_result",
          "data": {
            "text/plain": [
              "                       Player   Pos  Age   Tm   G  GS    MP   FG   FGA    FG%  \\\n",
              "0            Precious Achiuwa  PF-C   24  TOT  74  18  1624  235   469  0.501   \n",
              "1                 Bam Adebayo     C   26  MIA  71  71  2416  530  1017  0.521   \n",
              "2                Ochai Agbaji    SG   23  TOT  78  28  1641  178   433  0.411   \n",
              "3                Santi Aldama    PF   23  MEM  61  35  1618  247   568  0.435   \n",
              "4    Nickeil Alexander-Walker    SG   25  MIN  82  20  1921  236   538  0.439   \n",
              "..                        ...   ...  ...  ...  ..  ..   ...  ...   ...    ...   \n",
              "567            Thaddeus Young    PF   35  TOT  33   6   439   65   108  0.602   \n",
              "568                Trae Young    PG   25  ATL  54  54  1942  433  1008  0.430   \n",
              "569            Omer Yurtseven     C   25  UTA  48  12   545   99   184  0.538   \n",
              "570               Cody Zeller     C   31  NOP  43   0   320   26    62  0.419   \n",
              "571               Ivica Zubac     C   26  LAC  68  68  1794  337   519  0.649   \n",
              "\n",
              "     ...  ORB  DRB  TRB  AST  STL  BLK  TOV   PF   PTS  Player-additional  \n",
              "0    ...  191  296  487   97   46   68   83  143   565          achiupr01  \n",
              "1    ...  159  578  737  278   81   66  162  159  1367          adebaba01  \n",
              "2    ...   74  142  216   83   47   44   64  117   455          agbajoc01  \n",
              "3    ...   72  280  352  138   43   54   69   89   654          aldamsa01  \n",
              "4    ...   35  132  167  204   64   42   76  143   655          alexani01  \n",
              "..   ...  ...  ...  ...  ...  ...  ...  ...  ...   ...                ...  \n",
              "567  ...   46   57  103   57   23    5   15   49   137          youngth01  \n",
              "568  ...   23  126  149  583   72   11  235  109  1389          youngtr01  \n",
              "569  ...   72  136  208   29    8   18   37   52   222          yurtsom01  \n",
              "570  ...   48   64  112   39    9    5   16   45    76          zelleco01  \n",
              "571  ...  196  430  626   93   22   83   79  180   794          zubaciv01  \n",
              "\n",
              "[572 rows x 30 columns]"
            ],
            "text/html": [
              "\n",
              "  <div id=\"df-c35ccdc8-348f-435f-a89b-9114a70c52f1\" class=\"colab-df-container\">\n",
              "    <div>\n",
              "<style scoped>\n",
              "    .dataframe tbody tr th:only-of-type {\n",
              "        vertical-align: middle;\n",
              "    }\n",
              "\n",
              "    .dataframe tbody tr th {\n",
              "        vertical-align: top;\n",
              "    }\n",
              "\n",
              "    .dataframe thead th {\n",
              "        text-align: right;\n",
              "    }\n",
              "</style>\n",
              "<table border=\"1\" class=\"dataframe\">\n",
              "  <thead>\n",
              "    <tr style=\"text-align: right;\">\n",
              "      <th></th>\n",
              "      <th>Player</th>\n",
              "      <th>Pos</th>\n",
              "      <th>Age</th>\n",
              "      <th>Tm</th>\n",
              "      <th>G</th>\n",
              "      <th>GS</th>\n",
              "      <th>MP</th>\n",
              "      <th>FG</th>\n",
              "      <th>FGA</th>\n",
              "      <th>FG%</th>\n",
              "      <th>...</th>\n",
              "      <th>ORB</th>\n",
              "      <th>DRB</th>\n",
              "      <th>TRB</th>\n",
              "      <th>AST</th>\n",
              "      <th>STL</th>\n",
              "      <th>BLK</th>\n",
              "      <th>TOV</th>\n",
              "      <th>PF</th>\n",
              "      <th>PTS</th>\n",
              "      <th>Player-additional</th>\n",
              "    </tr>\n",
              "  </thead>\n",
              "  <tbody>\n",
              "    <tr>\n",
              "      <th>0</th>\n",
              "      <td>Precious Achiuwa</td>\n",
              "      <td>PF-C</td>\n",
              "      <td>24</td>\n",
              "      <td>TOT</td>\n",
              "      <td>74</td>\n",
              "      <td>18</td>\n",
              "      <td>1624</td>\n",
              "      <td>235</td>\n",
              "      <td>469</td>\n",
              "      <td>0.501</td>\n",
              "      <td>...</td>\n",
              "      <td>191</td>\n",
              "      <td>296</td>\n",
              "      <td>487</td>\n",
              "      <td>97</td>\n",
              "      <td>46</td>\n",
              "      <td>68</td>\n",
              "      <td>83</td>\n",
              "      <td>143</td>\n",
              "      <td>565</td>\n",
              "      <td>achiupr01</td>\n",
              "    </tr>\n",
              "    <tr>\n",
              "      <th>1</th>\n",
              "      <td>Bam Adebayo</td>\n",
              "      <td>C</td>\n",
              "      <td>26</td>\n",
              "      <td>MIA</td>\n",
              "      <td>71</td>\n",
              "      <td>71</td>\n",
              "      <td>2416</td>\n",
              "      <td>530</td>\n",
              "      <td>1017</td>\n",
              "      <td>0.521</td>\n",
              "      <td>...</td>\n",
              "      <td>159</td>\n",
              "      <td>578</td>\n",
              "      <td>737</td>\n",
              "      <td>278</td>\n",
              "      <td>81</td>\n",
              "      <td>66</td>\n",
              "      <td>162</td>\n",
              "      <td>159</td>\n",
              "      <td>1367</td>\n",
              "      <td>adebaba01</td>\n",
              "    </tr>\n",
              "    <tr>\n",
              "      <th>2</th>\n",
              "      <td>Ochai Agbaji</td>\n",
              "      <td>SG</td>\n",
              "      <td>23</td>\n",
              "      <td>TOT</td>\n",
              "      <td>78</td>\n",
              "      <td>28</td>\n",
              "      <td>1641</td>\n",
              "      <td>178</td>\n",
              "      <td>433</td>\n",
              "      <td>0.411</td>\n",
              "      <td>...</td>\n",
              "      <td>74</td>\n",
              "      <td>142</td>\n",
              "      <td>216</td>\n",
              "      <td>83</td>\n",
              "      <td>47</td>\n",
              "      <td>44</td>\n",
              "      <td>64</td>\n",
              "      <td>117</td>\n",
              "      <td>455</td>\n",
              "      <td>agbajoc01</td>\n",
              "    </tr>\n",
              "    <tr>\n",
              "      <th>3</th>\n",
              "      <td>Santi Aldama</td>\n",
              "      <td>PF</td>\n",
              "      <td>23</td>\n",
              "      <td>MEM</td>\n",
              "      <td>61</td>\n",
              "      <td>35</td>\n",
              "      <td>1618</td>\n",
              "      <td>247</td>\n",
              "      <td>568</td>\n",
              "      <td>0.435</td>\n",
              "      <td>...</td>\n",
              "      <td>72</td>\n",
              "      <td>280</td>\n",
              "      <td>352</td>\n",
              "      <td>138</td>\n",
              "      <td>43</td>\n",
              "      <td>54</td>\n",
              "      <td>69</td>\n",
              "      <td>89</td>\n",
              "      <td>654</td>\n",
              "      <td>aldamsa01</td>\n",
              "    </tr>\n",
              "    <tr>\n",
              "      <th>4</th>\n",
              "      <td>Nickeil Alexander-Walker</td>\n",
              "      <td>SG</td>\n",
              "      <td>25</td>\n",
              "      <td>MIN</td>\n",
              "      <td>82</td>\n",
              "      <td>20</td>\n",
              "      <td>1921</td>\n",
              "      <td>236</td>\n",
              "      <td>538</td>\n",
              "      <td>0.439</td>\n",
              "      <td>...</td>\n",
              "      <td>35</td>\n",
              "      <td>132</td>\n",
              "      <td>167</td>\n",
              "      <td>204</td>\n",
              "      <td>64</td>\n",
              "      <td>42</td>\n",
              "      <td>76</td>\n",
              "      <td>143</td>\n",
              "      <td>655</td>\n",
              "      <td>alexani01</td>\n",
              "    </tr>\n",
              "    <tr>\n",
              "      <th>...</th>\n",
              "      <td>...</td>\n",
              "      <td>...</td>\n",
              "      <td>...</td>\n",
              "      <td>...</td>\n",
              "      <td>...</td>\n",
              "      <td>...</td>\n",
              "      <td>...</td>\n",
              "      <td>...</td>\n",
              "      <td>...</td>\n",
              "      <td>...</td>\n",
              "      <td>...</td>\n",
              "      <td>...</td>\n",
              "      <td>...</td>\n",
              "      <td>...</td>\n",
              "      <td>...</td>\n",
              "      <td>...</td>\n",
              "      <td>...</td>\n",
              "      <td>...</td>\n",
              "      <td>...</td>\n",
              "      <td>...</td>\n",
              "      <td>...</td>\n",
              "    </tr>\n",
              "    <tr>\n",
              "      <th>567</th>\n",
              "      <td>Thaddeus Young</td>\n",
              "      <td>PF</td>\n",
              "      <td>35</td>\n",
              "      <td>TOT</td>\n",
              "      <td>33</td>\n",
              "      <td>6</td>\n",
              "      <td>439</td>\n",
              "      <td>65</td>\n",
              "      <td>108</td>\n",
              "      <td>0.602</td>\n",
              "      <td>...</td>\n",
              "      <td>46</td>\n",
              "      <td>57</td>\n",
              "      <td>103</td>\n",
              "      <td>57</td>\n",
              "      <td>23</td>\n",
              "      <td>5</td>\n",
              "      <td>15</td>\n",
              "      <td>49</td>\n",
              "      <td>137</td>\n",
              "      <td>youngth01</td>\n",
              "    </tr>\n",
              "    <tr>\n",
              "      <th>568</th>\n",
              "      <td>Trae Young</td>\n",
              "      <td>PG</td>\n",
              "      <td>25</td>\n",
              "      <td>ATL</td>\n",
              "      <td>54</td>\n",
              "      <td>54</td>\n",
              "      <td>1942</td>\n",
              "      <td>433</td>\n",
              "      <td>1008</td>\n",
              "      <td>0.430</td>\n",
              "      <td>...</td>\n",
              "      <td>23</td>\n",
              "      <td>126</td>\n",
              "      <td>149</td>\n",
              "      <td>583</td>\n",
              "      <td>72</td>\n",
              "      <td>11</td>\n",
              "      <td>235</td>\n",
              "      <td>109</td>\n",
              "      <td>1389</td>\n",
              "      <td>youngtr01</td>\n",
              "    </tr>\n",
              "    <tr>\n",
              "      <th>569</th>\n",
              "      <td>Omer Yurtseven</td>\n",
              "      <td>C</td>\n",
              "      <td>25</td>\n",
              "      <td>UTA</td>\n",
              "      <td>48</td>\n",
              "      <td>12</td>\n",
              "      <td>545</td>\n",
              "      <td>99</td>\n",
              "      <td>184</td>\n",
              "      <td>0.538</td>\n",
              "      <td>...</td>\n",
              "      <td>72</td>\n",
              "      <td>136</td>\n",
              "      <td>208</td>\n",
              "      <td>29</td>\n",
              "      <td>8</td>\n",
              "      <td>18</td>\n",
              "      <td>37</td>\n",
              "      <td>52</td>\n",
              "      <td>222</td>\n",
              "      <td>yurtsom01</td>\n",
              "    </tr>\n",
              "    <tr>\n",
              "      <th>570</th>\n",
              "      <td>Cody Zeller</td>\n",
              "      <td>C</td>\n",
              "      <td>31</td>\n",
              "      <td>NOP</td>\n",
              "      <td>43</td>\n",
              "      <td>0</td>\n",
              "      <td>320</td>\n",
              "      <td>26</td>\n",
              "      <td>62</td>\n",
              "      <td>0.419</td>\n",
              "      <td>...</td>\n",
              "      <td>48</td>\n",
              "      <td>64</td>\n",
              "      <td>112</td>\n",
              "      <td>39</td>\n",
              "      <td>9</td>\n",
              "      <td>5</td>\n",
              "      <td>16</td>\n",
              "      <td>45</td>\n",
              "      <td>76</td>\n",
              "      <td>zelleco01</td>\n",
              "    </tr>\n",
              "    <tr>\n",
              "      <th>571</th>\n",
              "      <td>Ivica Zubac</td>\n",
              "      <td>C</td>\n",
              "      <td>26</td>\n",
              "      <td>LAC</td>\n",
              "      <td>68</td>\n",
              "      <td>68</td>\n",
              "      <td>1794</td>\n",
              "      <td>337</td>\n",
              "      <td>519</td>\n",
              "      <td>0.649</td>\n",
              "      <td>...</td>\n",
              "      <td>196</td>\n",
              "      <td>430</td>\n",
              "      <td>626</td>\n",
              "      <td>93</td>\n",
              "      <td>22</td>\n",
              "      <td>83</td>\n",
              "      <td>79</td>\n",
              "      <td>180</td>\n",
              "      <td>794</td>\n",
              "      <td>zubaciv01</td>\n",
              "    </tr>\n",
              "  </tbody>\n",
              "</table>\n",
              "<p>572 rows × 30 columns</p>\n",
              "</div>\n",
              "    <div class=\"colab-df-buttons\">\n",
              "\n",
              "  <div class=\"colab-df-container\">\n",
              "    <button class=\"colab-df-convert\" onclick=\"convertToInteractive('df-c35ccdc8-348f-435f-a89b-9114a70c52f1')\"\n",
              "            title=\"Convert this dataframe to an interactive table.\"\n",
              "            style=\"display:none;\">\n",
              "\n",
              "  <svg xmlns=\"http://www.w3.org/2000/svg\" height=\"24px\" viewBox=\"0 -960 960 960\">\n",
              "    <path d=\"M120-120v-720h720v720H120Zm60-500h600v-160H180v160Zm220 220h160v-160H400v160Zm0 220h160v-160H400v160ZM180-400h160v-160H180v160Zm440 0h160v-160H620v160ZM180-180h160v-160H180v160Zm440 0h160v-160H620v160Z\"/>\n",
              "  </svg>\n",
              "    </button>\n",
              "\n",
              "  <style>\n",
              "    .colab-df-container {\n",
              "      display:flex;\n",
              "      gap: 12px;\n",
              "    }\n",
              "\n",
              "    .colab-df-convert {\n",
              "      background-color: #E8F0FE;\n",
              "      border: none;\n",
              "      border-radius: 50%;\n",
              "      cursor: pointer;\n",
              "      display: none;\n",
              "      fill: #1967D2;\n",
              "      height: 32px;\n",
              "      padding: 0 0 0 0;\n",
              "      width: 32px;\n",
              "    }\n",
              "\n",
              "    .colab-df-convert:hover {\n",
              "      background-color: #E2EBFA;\n",
              "      box-shadow: 0px 1px 2px rgba(60, 64, 67, 0.3), 0px 1px 3px 1px rgba(60, 64, 67, 0.15);\n",
              "      fill: #174EA6;\n",
              "    }\n",
              "\n",
              "    .colab-df-buttons div {\n",
              "      margin-bottom: 4px;\n",
              "    }\n",
              "\n",
              "    [theme=dark] .colab-df-convert {\n",
              "      background-color: #3B4455;\n",
              "      fill: #D2E3FC;\n",
              "    }\n",
              "\n",
              "    [theme=dark] .colab-df-convert:hover {\n",
              "      background-color: #434B5C;\n",
              "      box-shadow: 0px 1px 3px 1px rgba(0, 0, 0, 0.15);\n",
              "      filter: drop-shadow(0px 1px 2px rgba(0, 0, 0, 0.3));\n",
              "      fill: #FFFFFF;\n",
              "    }\n",
              "  </style>\n",
              "\n",
              "    <script>\n",
              "      const buttonEl =\n",
              "        document.querySelector('#df-c35ccdc8-348f-435f-a89b-9114a70c52f1 button.colab-df-convert');\n",
              "      buttonEl.style.display =\n",
              "        google.colab.kernel.accessAllowed ? 'block' : 'none';\n",
              "\n",
              "      async function convertToInteractive(key) {\n",
              "        const element = document.querySelector('#df-c35ccdc8-348f-435f-a89b-9114a70c52f1');\n",
              "        const dataTable =\n",
              "          await google.colab.kernel.invokeFunction('convertToInteractive',\n",
              "                                                    [key], {});\n",
              "        if (!dataTable) return;\n",
              "\n",
              "        const docLinkHtml = 'Like what you see? Visit the ' +\n",
              "          '<a target=\"_blank\" href=https://colab.research.google.com/notebooks/data_table.ipynb>data table notebook</a>'\n",
              "          + ' to learn more about interactive tables.';\n",
              "        element.innerHTML = '';\n",
              "        dataTable['output_type'] = 'display_data';\n",
              "        await google.colab.output.renderOutput(dataTable, element);\n",
              "        const docLink = document.createElement('div');\n",
              "        docLink.innerHTML = docLinkHtml;\n",
              "        element.appendChild(docLink);\n",
              "      }\n",
              "    </script>\n",
              "  </div>\n",
              "\n",
              "\n",
              "<div id=\"df-de501796-59b8-4a9c-b309-f01010f7a6fa\">\n",
              "  <button class=\"colab-df-quickchart\" onclick=\"quickchart('df-de501796-59b8-4a9c-b309-f01010f7a6fa')\"\n",
              "            title=\"Suggest charts\"\n",
              "            style=\"display:none;\">\n",
              "\n",
              "<svg xmlns=\"http://www.w3.org/2000/svg\" height=\"24px\"viewBox=\"0 0 24 24\"\n",
              "     width=\"24px\">\n",
              "    <g>\n",
              "        <path d=\"M19 3H5c-1.1 0-2 .9-2 2v14c0 1.1.9 2 2 2h14c1.1 0 2-.9 2-2V5c0-1.1-.9-2-2-2zM9 17H7v-7h2v7zm4 0h-2V7h2v10zm4 0h-2v-4h2v4z\"/>\n",
              "    </g>\n",
              "</svg>\n",
              "  </button>\n",
              "\n",
              "<style>\n",
              "  .colab-df-quickchart {\n",
              "      --bg-color: #E8F0FE;\n",
              "      --fill-color: #1967D2;\n",
              "      --hover-bg-color: #E2EBFA;\n",
              "      --hover-fill-color: #174EA6;\n",
              "      --disabled-fill-color: #AAA;\n",
              "      --disabled-bg-color: #DDD;\n",
              "  }\n",
              "\n",
              "  [theme=dark] .colab-df-quickchart {\n",
              "      --bg-color: #3B4455;\n",
              "      --fill-color: #D2E3FC;\n",
              "      --hover-bg-color: #434B5C;\n",
              "      --hover-fill-color: #FFFFFF;\n",
              "      --disabled-bg-color: #3B4455;\n",
              "      --disabled-fill-color: #666;\n",
              "  }\n",
              "\n",
              "  .colab-df-quickchart {\n",
              "    background-color: var(--bg-color);\n",
              "    border: none;\n",
              "    border-radius: 50%;\n",
              "    cursor: pointer;\n",
              "    display: none;\n",
              "    fill: var(--fill-color);\n",
              "    height: 32px;\n",
              "    padding: 0;\n",
              "    width: 32px;\n",
              "  }\n",
              "\n",
              "  .colab-df-quickchart:hover {\n",
              "    background-color: var(--hover-bg-color);\n",
              "    box-shadow: 0 1px 2px rgba(60, 64, 67, 0.3), 0 1px 3px 1px rgba(60, 64, 67, 0.15);\n",
              "    fill: var(--button-hover-fill-color);\n",
              "  }\n",
              "\n",
              "  .colab-df-quickchart-complete:disabled,\n",
              "  .colab-df-quickchart-complete:disabled:hover {\n",
              "    background-color: var(--disabled-bg-color);\n",
              "    fill: var(--disabled-fill-color);\n",
              "    box-shadow: none;\n",
              "  }\n",
              "\n",
              "  .colab-df-spinner {\n",
              "    border: 2px solid var(--fill-color);\n",
              "    border-color: transparent;\n",
              "    border-bottom-color: var(--fill-color);\n",
              "    animation:\n",
              "      spin 1s steps(1) infinite;\n",
              "  }\n",
              "\n",
              "  @keyframes spin {\n",
              "    0% {\n",
              "      border-color: transparent;\n",
              "      border-bottom-color: var(--fill-color);\n",
              "      border-left-color: var(--fill-color);\n",
              "    }\n",
              "    20% {\n",
              "      border-color: transparent;\n",
              "      border-left-color: var(--fill-color);\n",
              "      border-top-color: var(--fill-color);\n",
              "    }\n",
              "    30% {\n",
              "      border-color: transparent;\n",
              "      border-left-color: var(--fill-color);\n",
              "      border-top-color: var(--fill-color);\n",
              "      border-right-color: var(--fill-color);\n",
              "    }\n",
              "    40% {\n",
              "      border-color: transparent;\n",
              "      border-right-color: var(--fill-color);\n",
              "      border-top-color: var(--fill-color);\n",
              "    }\n",
              "    60% {\n",
              "      border-color: transparent;\n",
              "      border-right-color: var(--fill-color);\n",
              "    }\n",
              "    80% {\n",
              "      border-color: transparent;\n",
              "      border-right-color: var(--fill-color);\n",
              "      border-bottom-color: var(--fill-color);\n",
              "    }\n",
              "    90% {\n",
              "      border-color: transparent;\n",
              "      border-bottom-color: var(--fill-color);\n",
              "    }\n",
              "  }\n",
              "</style>\n",
              "\n",
              "  <script>\n",
              "    async function quickchart(key) {\n",
              "      const quickchartButtonEl =\n",
              "        document.querySelector('#' + key + ' button');\n",
              "      quickchartButtonEl.disabled = true;  // To prevent multiple clicks.\n",
              "      quickchartButtonEl.classList.add('colab-df-spinner');\n",
              "      try {\n",
              "        const charts = await google.colab.kernel.invokeFunction(\n",
              "            'suggestCharts', [key], {});\n",
              "      } catch (error) {\n",
              "        console.error('Error during call to suggestCharts:', error);\n",
              "      }\n",
              "      quickchartButtonEl.classList.remove('colab-df-spinner');\n",
              "      quickchartButtonEl.classList.add('colab-df-quickchart-complete');\n",
              "    }\n",
              "    (() => {\n",
              "      let quickchartButtonEl =\n",
              "        document.querySelector('#df-de501796-59b8-4a9c-b309-f01010f7a6fa button');\n",
              "      quickchartButtonEl.style.display =\n",
              "        google.colab.kernel.accessAllowed ? 'block' : 'none';\n",
              "    })();\n",
              "  </script>\n",
              "</div>\n",
              "    </div>\n",
              "  </div>\n"
            ],
            "application/vnd.google.colaboratory.intrinsic+json": {
              "type": "dataframe",
              "variable_name": "basketball"
            }
          },
          "metadata": {},
          "execution_count": 18
        }
      ]
    },
    {
      "cell_type": "markdown",
      "source": [
        "Its easy to call the column names and rows. You can also call the shape, but note that printing the dataframe also tells you the shape."
      ],
      "metadata": {
        "id": "ObYxzjtxdELR"
      }
    },
    {
      "cell_type": "code",
      "source": [
        "basketball.columns"
      ],
      "metadata": {
        "id": "_366zzNydTgG",
        "colab": {
          "base_uri": "https://localhost:8080/"
        },
        "outputId": "e0a691e4-2fa1-48d0-ec5b-25fdfc281875"
      },
      "execution_count": null,
      "outputs": [
        {
          "output_type": "execute_result",
          "data": {
            "text/plain": [
              "Index(['Player', 'Pos', 'Age', 'Tm', 'G', 'GS', 'MP', 'FG', 'FGA', 'FG%', '3P',\n",
              "       '3PA', '3P%', '2P', '2PA', '2P%', 'eFG%', 'FT', 'FTA', 'FT%', 'ORB',\n",
              "       'DRB', 'TRB', 'AST', 'STL', 'BLK', 'TOV', 'PF', 'PTS',\n",
              "       'Player-additional'],\n",
              "      dtype='object')"
            ]
          },
          "metadata": {},
          "execution_count": 19
        }
      ]
    },
    {
      "cell_type": "code",
      "source": [
        "basketball.index"
      ],
      "metadata": {
        "id": "nYX_wKbIdXB-",
        "colab": {
          "base_uri": "https://localhost:8080/"
        },
        "outputId": "d63fe1f9-218c-406a-a966-373a0d673a99"
      },
      "execution_count": null,
      "outputs": [
        {
          "output_type": "execute_result",
          "data": {
            "text/plain": [
              "RangeIndex(start=0, stop=572, step=1)"
            ]
          },
          "metadata": {},
          "execution_count": 20
        }
      ]
    },
    {
      "cell_type": "code",
      "source": [
        "basketball.shape"
      ],
      "metadata": {
        "id": "E-5l-VS0dZj3",
        "colab": {
          "base_uri": "https://localhost:8080/"
        },
        "outputId": "abc8b031-85a8-44b8-fd7a-2e7a4645758b"
      },
      "execution_count": null,
      "outputs": [
        {
          "output_type": "execute_result",
          "data": {
            "text/plain": [
              "(572, 30)"
            ]
          },
          "metadata": {},
          "execution_count": 21
        }
      ]
    },
    {
      "cell_type": "markdown",
      "source": [
        "We call columns by name."
      ],
      "metadata": {
        "id": "D9yJ4uQOdmog"
      }
    },
    {
      "cell_type": "code",
      "source": [
        "basketball.Player"
      ],
      "metadata": {
        "id": "KtFz8lZRdtBF",
        "colab": {
          "base_uri": "https://localhost:8080/",
          "height": 458
        },
        "outputId": "eb72ba0a-a06f-4100-e816-74dd78c81809"
      },
      "execution_count": null,
      "outputs": [
        {
          "output_type": "execute_result",
          "data": {
            "text/plain": [
              "0              Precious Achiuwa\n",
              "1                   Bam Adebayo\n",
              "2                  Ochai Agbaji\n",
              "3                  Santi Aldama\n",
              "4      Nickeil Alexander-Walker\n",
              "                 ...           \n",
              "567              Thaddeus Young\n",
              "568                  Trae Young\n",
              "569              Omer Yurtseven\n",
              "570                 Cody Zeller\n",
              "571                 Ivica Zubac\n",
              "Name: Player, Length: 572, dtype: object"
            ],
            "text/html": [
              "<div>\n",
              "<style scoped>\n",
              "    .dataframe tbody tr th:only-of-type {\n",
              "        vertical-align: middle;\n",
              "    }\n",
              "\n",
              "    .dataframe tbody tr th {\n",
              "        vertical-align: top;\n",
              "    }\n",
              "\n",
              "    .dataframe thead th {\n",
              "        text-align: right;\n",
              "    }\n",
              "</style>\n",
              "<table border=\"1\" class=\"dataframe\">\n",
              "  <thead>\n",
              "    <tr style=\"text-align: right;\">\n",
              "      <th></th>\n",
              "      <th>Player</th>\n",
              "    </tr>\n",
              "  </thead>\n",
              "  <tbody>\n",
              "    <tr>\n",
              "      <th>0</th>\n",
              "      <td>Precious Achiuwa</td>\n",
              "    </tr>\n",
              "    <tr>\n",
              "      <th>1</th>\n",
              "      <td>Bam Adebayo</td>\n",
              "    </tr>\n",
              "    <tr>\n",
              "      <th>2</th>\n",
              "      <td>Ochai Agbaji</td>\n",
              "    </tr>\n",
              "    <tr>\n",
              "      <th>3</th>\n",
              "      <td>Santi Aldama</td>\n",
              "    </tr>\n",
              "    <tr>\n",
              "      <th>4</th>\n",
              "      <td>Nickeil Alexander-Walker</td>\n",
              "    </tr>\n",
              "    <tr>\n",
              "      <th>...</th>\n",
              "      <td>...</td>\n",
              "    </tr>\n",
              "    <tr>\n",
              "      <th>567</th>\n",
              "      <td>Thaddeus Young</td>\n",
              "    </tr>\n",
              "    <tr>\n",
              "      <th>568</th>\n",
              "      <td>Trae Young</td>\n",
              "    </tr>\n",
              "    <tr>\n",
              "      <th>569</th>\n",
              "      <td>Omer Yurtseven</td>\n",
              "    </tr>\n",
              "    <tr>\n",
              "      <th>570</th>\n",
              "      <td>Cody Zeller</td>\n",
              "    </tr>\n",
              "    <tr>\n",
              "      <th>571</th>\n",
              "      <td>Ivica Zubac</td>\n",
              "    </tr>\n",
              "  </tbody>\n",
              "</table>\n",
              "<p>572 rows × 1 columns</p>\n",
              "</div><br><label><b>dtype:</b> object</label>"
            ]
          },
          "metadata": {},
          "execution_count": 22
        }
      ]
    },
    {
      "cell_type": "code",
      "source": [
        "basketball['Player']"
      ],
      "metadata": {
        "id": "M37m1kgUh38F",
        "colab": {
          "base_uri": "https://localhost:8080/",
          "height": 458
        },
        "outputId": "18ffa76e-ec37-495f-e89b-1c8bba23989c"
      },
      "execution_count": null,
      "outputs": [
        {
          "output_type": "execute_result",
          "data": {
            "text/plain": [
              "0              Precious Achiuwa\n",
              "1                   Bam Adebayo\n",
              "2                  Ochai Agbaji\n",
              "3                  Santi Aldama\n",
              "4      Nickeil Alexander-Walker\n",
              "                 ...           \n",
              "567              Thaddeus Young\n",
              "568                  Trae Young\n",
              "569              Omer Yurtseven\n",
              "570                 Cody Zeller\n",
              "571                 Ivica Zubac\n",
              "Name: Player, Length: 572, dtype: object"
            ],
            "text/html": [
              "<div>\n",
              "<style scoped>\n",
              "    .dataframe tbody tr th:only-of-type {\n",
              "        vertical-align: middle;\n",
              "    }\n",
              "\n",
              "    .dataframe tbody tr th {\n",
              "        vertical-align: top;\n",
              "    }\n",
              "\n",
              "    .dataframe thead th {\n",
              "        text-align: right;\n",
              "    }\n",
              "</style>\n",
              "<table border=\"1\" class=\"dataframe\">\n",
              "  <thead>\n",
              "    <tr style=\"text-align: right;\">\n",
              "      <th></th>\n",
              "      <th>Player</th>\n",
              "    </tr>\n",
              "  </thead>\n",
              "  <tbody>\n",
              "    <tr>\n",
              "      <th>0</th>\n",
              "      <td>Precious Achiuwa</td>\n",
              "    </tr>\n",
              "    <tr>\n",
              "      <th>1</th>\n",
              "      <td>Bam Adebayo</td>\n",
              "    </tr>\n",
              "    <tr>\n",
              "      <th>2</th>\n",
              "      <td>Ochai Agbaji</td>\n",
              "    </tr>\n",
              "    <tr>\n",
              "      <th>3</th>\n",
              "      <td>Santi Aldama</td>\n",
              "    </tr>\n",
              "    <tr>\n",
              "      <th>4</th>\n",
              "      <td>Nickeil Alexander-Walker</td>\n",
              "    </tr>\n",
              "    <tr>\n",
              "      <th>...</th>\n",
              "      <td>...</td>\n",
              "    </tr>\n",
              "    <tr>\n",
              "      <th>567</th>\n",
              "      <td>Thaddeus Young</td>\n",
              "    </tr>\n",
              "    <tr>\n",
              "      <th>568</th>\n",
              "      <td>Trae Young</td>\n",
              "    </tr>\n",
              "    <tr>\n",
              "      <th>569</th>\n",
              "      <td>Omer Yurtseven</td>\n",
              "    </tr>\n",
              "    <tr>\n",
              "      <th>570</th>\n",
              "      <td>Cody Zeller</td>\n",
              "    </tr>\n",
              "    <tr>\n",
              "      <th>571</th>\n",
              "      <td>Ivica Zubac</td>\n",
              "    </tr>\n",
              "  </tbody>\n",
              "</table>\n",
              "<p>572 rows × 1 columns</p>\n",
              "</div><br><label><b>dtype:</b> object</label>"
            ]
          },
          "metadata": {},
          "execution_count": 23
        }
      ]
    },
    {
      "cell_type": "code",
      "source": [
        "#the double brackets returns a data frame\n",
        "basketball[['Player']]"
      ],
      "metadata": {
        "id": "fPkCewXndys2",
        "colab": {
          "base_uri": "https://localhost:8080/",
          "height": 424
        },
        "outputId": "af4faab6-0a43-457f-a7f2-bb6389c4a809"
      },
      "execution_count": null,
      "outputs": [
        {
          "output_type": "execute_result",
          "data": {
            "text/plain": [
              "                       Player\n",
              "0            Precious Achiuwa\n",
              "1                 Bam Adebayo\n",
              "2                Ochai Agbaji\n",
              "3                Santi Aldama\n",
              "4    Nickeil Alexander-Walker\n",
              "..                        ...\n",
              "567            Thaddeus Young\n",
              "568                Trae Young\n",
              "569            Omer Yurtseven\n",
              "570               Cody Zeller\n",
              "571               Ivica Zubac\n",
              "\n",
              "[572 rows x 1 columns]"
            ],
            "text/html": [
              "\n",
              "  <div id=\"df-3bc85b65-6004-4799-b65f-53cdaf89be1d\" class=\"colab-df-container\">\n",
              "    <div>\n",
              "<style scoped>\n",
              "    .dataframe tbody tr th:only-of-type {\n",
              "        vertical-align: middle;\n",
              "    }\n",
              "\n",
              "    .dataframe tbody tr th {\n",
              "        vertical-align: top;\n",
              "    }\n",
              "\n",
              "    .dataframe thead th {\n",
              "        text-align: right;\n",
              "    }\n",
              "</style>\n",
              "<table border=\"1\" class=\"dataframe\">\n",
              "  <thead>\n",
              "    <tr style=\"text-align: right;\">\n",
              "      <th></th>\n",
              "      <th>Player</th>\n",
              "    </tr>\n",
              "  </thead>\n",
              "  <tbody>\n",
              "    <tr>\n",
              "      <th>0</th>\n",
              "      <td>Precious Achiuwa</td>\n",
              "    </tr>\n",
              "    <tr>\n",
              "      <th>1</th>\n",
              "      <td>Bam Adebayo</td>\n",
              "    </tr>\n",
              "    <tr>\n",
              "      <th>2</th>\n",
              "      <td>Ochai Agbaji</td>\n",
              "    </tr>\n",
              "    <tr>\n",
              "      <th>3</th>\n",
              "      <td>Santi Aldama</td>\n",
              "    </tr>\n",
              "    <tr>\n",
              "      <th>4</th>\n",
              "      <td>Nickeil Alexander-Walker</td>\n",
              "    </tr>\n",
              "    <tr>\n",
              "      <th>...</th>\n",
              "      <td>...</td>\n",
              "    </tr>\n",
              "    <tr>\n",
              "      <th>567</th>\n",
              "      <td>Thaddeus Young</td>\n",
              "    </tr>\n",
              "    <tr>\n",
              "      <th>568</th>\n",
              "      <td>Trae Young</td>\n",
              "    </tr>\n",
              "    <tr>\n",
              "      <th>569</th>\n",
              "      <td>Omer Yurtseven</td>\n",
              "    </tr>\n",
              "    <tr>\n",
              "      <th>570</th>\n",
              "      <td>Cody Zeller</td>\n",
              "    </tr>\n",
              "    <tr>\n",
              "      <th>571</th>\n",
              "      <td>Ivica Zubac</td>\n",
              "    </tr>\n",
              "  </tbody>\n",
              "</table>\n",
              "<p>572 rows × 1 columns</p>\n",
              "</div>\n",
              "    <div class=\"colab-df-buttons\">\n",
              "\n",
              "  <div class=\"colab-df-container\">\n",
              "    <button class=\"colab-df-convert\" onclick=\"convertToInteractive('df-3bc85b65-6004-4799-b65f-53cdaf89be1d')\"\n",
              "            title=\"Convert this dataframe to an interactive table.\"\n",
              "            style=\"display:none;\">\n",
              "\n",
              "  <svg xmlns=\"http://www.w3.org/2000/svg\" height=\"24px\" viewBox=\"0 -960 960 960\">\n",
              "    <path d=\"M120-120v-720h720v720H120Zm60-500h600v-160H180v160Zm220 220h160v-160H400v160Zm0 220h160v-160H400v160ZM180-400h160v-160H180v160Zm440 0h160v-160H620v160ZM180-180h160v-160H180v160Zm440 0h160v-160H620v160Z\"/>\n",
              "  </svg>\n",
              "    </button>\n",
              "\n",
              "  <style>\n",
              "    .colab-df-container {\n",
              "      display:flex;\n",
              "      gap: 12px;\n",
              "    }\n",
              "\n",
              "    .colab-df-convert {\n",
              "      background-color: #E8F0FE;\n",
              "      border: none;\n",
              "      border-radius: 50%;\n",
              "      cursor: pointer;\n",
              "      display: none;\n",
              "      fill: #1967D2;\n",
              "      height: 32px;\n",
              "      padding: 0 0 0 0;\n",
              "      width: 32px;\n",
              "    }\n",
              "\n",
              "    .colab-df-convert:hover {\n",
              "      background-color: #E2EBFA;\n",
              "      box-shadow: 0px 1px 2px rgba(60, 64, 67, 0.3), 0px 1px 3px 1px rgba(60, 64, 67, 0.15);\n",
              "      fill: #174EA6;\n",
              "    }\n",
              "\n",
              "    .colab-df-buttons div {\n",
              "      margin-bottom: 4px;\n",
              "    }\n",
              "\n",
              "    [theme=dark] .colab-df-convert {\n",
              "      background-color: #3B4455;\n",
              "      fill: #D2E3FC;\n",
              "    }\n",
              "\n",
              "    [theme=dark] .colab-df-convert:hover {\n",
              "      background-color: #434B5C;\n",
              "      box-shadow: 0px 1px 3px 1px rgba(0, 0, 0, 0.15);\n",
              "      filter: drop-shadow(0px 1px 2px rgba(0, 0, 0, 0.3));\n",
              "      fill: #FFFFFF;\n",
              "    }\n",
              "  </style>\n",
              "\n",
              "    <script>\n",
              "      const buttonEl =\n",
              "        document.querySelector('#df-3bc85b65-6004-4799-b65f-53cdaf89be1d button.colab-df-convert');\n",
              "      buttonEl.style.display =\n",
              "        google.colab.kernel.accessAllowed ? 'block' : 'none';\n",
              "\n",
              "      async function convertToInteractive(key) {\n",
              "        const element = document.querySelector('#df-3bc85b65-6004-4799-b65f-53cdaf89be1d');\n",
              "        const dataTable =\n",
              "          await google.colab.kernel.invokeFunction('convertToInteractive',\n",
              "                                                    [key], {});\n",
              "        if (!dataTable) return;\n",
              "\n",
              "        const docLinkHtml = 'Like what you see? Visit the ' +\n",
              "          '<a target=\"_blank\" href=https://colab.research.google.com/notebooks/data_table.ipynb>data table notebook</a>'\n",
              "          + ' to learn more about interactive tables.';\n",
              "        element.innerHTML = '';\n",
              "        dataTable['output_type'] = 'display_data';\n",
              "        await google.colab.output.renderOutput(dataTable, element);\n",
              "        const docLink = document.createElement('div');\n",
              "        docLink.innerHTML = docLinkHtml;\n",
              "        element.appendChild(docLink);\n",
              "      }\n",
              "    </script>\n",
              "  </div>\n",
              "\n",
              "\n",
              "<div id=\"df-325df9f9-c5fb-4d58-97f3-d44dc2752ea9\">\n",
              "  <button class=\"colab-df-quickchart\" onclick=\"quickchart('df-325df9f9-c5fb-4d58-97f3-d44dc2752ea9')\"\n",
              "            title=\"Suggest charts\"\n",
              "            style=\"display:none;\">\n",
              "\n",
              "<svg xmlns=\"http://www.w3.org/2000/svg\" height=\"24px\"viewBox=\"0 0 24 24\"\n",
              "     width=\"24px\">\n",
              "    <g>\n",
              "        <path d=\"M19 3H5c-1.1 0-2 .9-2 2v14c0 1.1.9 2 2 2h14c1.1 0 2-.9 2-2V5c0-1.1-.9-2-2-2zM9 17H7v-7h2v7zm4 0h-2V7h2v10zm4 0h-2v-4h2v4z\"/>\n",
              "    </g>\n",
              "</svg>\n",
              "  </button>\n",
              "\n",
              "<style>\n",
              "  .colab-df-quickchart {\n",
              "      --bg-color: #E8F0FE;\n",
              "      --fill-color: #1967D2;\n",
              "      --hover-bg-color: #E2EBFA;\n",
              "      --hover-fill-color: #174EA6;\n",
              "      --disabled-fill-color: #AAA;\n",
              "      --disabled-bg-color: #DDD;\n",
              "  }\n",
              "\n",
              "  [theme=dark] .colab-df-quickchart {\n",
              "      --bg-color: #3B4455;\n",
              "      --fill-color: #D2E3FC;\n",
              "      --hover-bg-color: #434B5C;\n",
              "      --hover-fill-color: #FFFFFF;\n",
              "      --disabled-bg-color: #3B4455;\n",
              "      --disabled-fill-color: #666;\n",
              "  }\n",
              "\n",
              "  .colab-df-quickchart {\n",
              "    background-color: var(--bg-color);\n",
              "    border: none;\n",
              "    border-radius: 50%;\n",
              "    cursor: pointer;\n",
              "    display: none;\n",
              "    fill: var(--fill-color);\n",
              "    height: 32px;\n",
              "    padding: 0;\n",
              "    width: 32px;\n",
              "  }\n",
              "\n",
              "  .colab-df-quickchart:hover {\n",
              "    background-color: var(--hover-bg-color);\n",
              "    box-shadow: 0 1px 2px rgba(60, 64, 67, 0.3), 0 1px 3px 1px rgba(60, 64, 67, 0.15);\n",
              "    fill: var(--button-hover-fill-color);\n",
              "  }\n",
              "\n",
              "  .colab-df-quickchart-complete:disabled,\n",
              "  .colab-df-quickchart-complete:disabled:hover {\n",
              "    background-color: var(--disabled-bg-color);\n",
              "    fill: var(--disabled-fill-color);\n",
              "    box-shadow: none;\n",
              "  }\n",
              "\n",
              "  .colab-df-spinner {\n",
              "    border: 2px solid var(--fill-color);\n",
              "    border-color: transparent;\n",
              "    border-bottom-color: var(--fill-color);\n",
              "    animation:\n",
              "      spin 1s steps(1) infinite;\n",
              "  }\n",
              "\n",
              "  @keyframes spin {\n",
              "    0% {\n",
              "      border-color: transparent;\n",
              "      border-bottom-color: var(--fill-color);\n",
              "      border-left-color: var(--fill-color);\n",
              "    }\n",
              "    20% {\n",
              "      border-color: transparent;\n",
              "      border-left-color: var(--fill-color);\n",
              "      border-top-color: var(--fill-color);\n",
              "    }\n",
              "    30% {\n",
              "      border-color: transparent;\n",
              "      border-left-color: var(--fill-color);\n",
              "      border-top-color: var(--fill-color);\n",
              "      border-right-color: var(--fill-color);\n",
              "    }\n",
              "    40% {\n",
              "      border-color: transparent;\n",
              "      border-right-color: var(--fill-color);\n",
              "      border-top-color: var(--fill-color);\n",
              "    }\n",
              "    60% {\n",
              "      border-color: transparent;\n",
              "      border-right-color: var(--fill-color);\n",
              "    }\n",
              "    80% {\n",
              "      border-color: transparent;\n",
              "      border-right-color: var(--fill-color);\n",
              "      border-bottom-color: var(--fill-color);\n",
              "    }\n",
              "    90% {\n",
              "      border-color: transparent;\n",
              "      border-bottom-color: var(--fill-color);\n",
              "    }\n",
              "  }\n",
              "</style>\n",
              "\n",
              "  <script>\n",
              "    async function quickchart(key) {\n",
              "      const quickchartButtonEl =\n",
              "        document.querySelector('#' + key + ' button');\n",
              "      quickchartButtonEl.disabled = true;  // To prevent multiple clicks.\n",
              "      quickchartButtonEl.classList.add('colab-df-spinner');\n",
              "      try {\n",
              "        const charts = await google.colab.kernel.invokeFunction(\n",
              "            'suggestCharts', [key], {});\n",
              "      } catch (error) {\n",
              "        console.error('Error during call to suggestCharts:', error);\n",
              "      }\n",
              "      quickchartButtonEl.classList.remove('colab-df-spinner');\n",
              "      quickchartButtonEl.classList.add('colab-df-quickchart-complete');\n",
              "    }\n",
              "    (() => {\n",
              "      let quickchartButtonEl =\n",
              "        document.querySelector('#df-325df9f9-c5fb-4d58-97f3-d44dc2752ea9 button');\n",
              "      quickchartButtonEl.style.display =\n",
              "        google.colab.kernel.accessAllowed ? 'block' : 'none';\n",
              "    })();\n",
              "  </script>\n",
              "</div>\n",
              "    </div>\n",
              "  </div>\n"
            ],
            "application/vnd.google.colaboratory.intrinsic+json": {
              "type": "dataframe",
              "summary": "{\n  \"name\": \"basketball[['Player']]\",\n  \"rows\": 572,\n  \"fields\": [\n    {\n      \"column\": \"Player\",\n      \"properties\": {\n        \"dtype\": \"string\",\n        \"num_unique_values\": 572,\n        \"samples\": [\n          \"Jonas Valan\\u010di\\u016bnas\",\n          \"Jaylen Brown\",\n          \"Henri Drell\"\n        ],\n        \"semantic_type\": \"\",\n        \"description\": \"\"\n      }\n    }\n  ]\n}"
            }
          },
          "metadata": {},
          "execution_count": 24
        }
      ]
    },
    {
      "cell_type": "markdown",
      "source": [
        "The second brackets method is required when we want a column with funky characters in its name."
      ],
      "metadata": {
        "id": "6qAg31ujeIgg"
      }
    },
    {
      "cell_type": "markdown",
      "source": [
        "Want to slice multiple columns?"
      ],
      "metadata": {
        "id": "gxR4s5ZdfQGZ"
      }
    },
    {
      "cell_type": "code",
      "source": [
        "basketball[['Player','FG%']]"
      ],
      "metadata": {
        "id": "W32u2GCzeTUS",
        "colab": {
          "base_uri": "https://localhost:8080/",
          "height": 424
        },
        "outputId": "dd67f9cb-772e-4b35-e51b-0534aa5e65e0"
      },
      "execution_count": null,
      "outputs": [
        {
          "output_type": "execute_result",
          "data": {
            "text/plain": [
              "                       Player    FG%\n",
              "0            Precious Achiuwa  0.501\n",
              "1                 Bam Adebayo  0.521\n",
              "2                Ochai Agbaji  0.411\n",
              "3                Santi Aldama  0.435\n",
              "4    Nickeil Alexander-Walker  0.439\n",
              "..                        ...    ...\n",
              "567            Thaddeus Young  0.602\n",
              "568                Trae Young  0.430\n",
              "569            Omer Yurtseven  0.538\n",
              "570               Cody Zeller  0.419\n",
              "571               Ivica Zubac  0.649\n",
              "\n",
              "[572 rows x 2 columns]"
            ],
            "text/html": [
              "\n",
              "  <div id=\"df-e3cd9df2-e868-48e0-adcc-cfca4d6db144\" class=\"colab-df-container\">\n",
              "    <div>\n",
              "<style scoped>\n",
              "    .dataframe tbody tr th:only-of-type {\n",
              "        vertical-align: middle;\n",
              "    }\n",
              "\n",
              "    .dataframe tbody tr th {\n",
              "        vertical-align: top;\n",
              "    }\n",
              "\n",
              "    .dataframe thead th {\n",
              "        text-align: right;\n",
              "    }\n",
              "</style>\n",
              "<table border=\"1\" class=\"dataframe\">\n",
              "  <thead>\n",
              "    <tr style=\"text-align: right;\">\n",
              "      <th></th>\n",
              "      <th>Player</th>\n",
              "      <th>FG%</th>\n",
              "    </tr>\n",
              "  </thead>\n",
              "  <tbody>\n",
              "    <tr>\n",
              "      <th>0</th>\n",
              "      <td>Precious Achiuwa</td>\n",
              "      <td>0.501</td>\n",
              "    </tr>\n",
              "    <tr>\n",
              "      <th>1</th>\n",
              "      <td>Bam Adebayo</td>\n",
              "      <td>0.521</td>\n",
              "    </tr>\n",
              "    <tr>\n",
              "      <th>2</th>\n",
              "      <td>Ochai Agbaji</td>\n",
              "      <td>0.411</td>\n",
              "    </tr>\n",
              "    <tr>\n",
              "      <th>3</th>\n",
              "      <td>Santi Aldama</td>\n",
              "      <td>0.435</td>\n",
              "    </tr>\n",
              "    <tr>\n",
              "      <th>4</th>\n",
              "      <td>Nickeil Alexander-Walker</td>\n",
              "      <td>0.439</td>\n",
              "    </tr>\n",
              "    <tr>\n",
              "      <th>...</th>\n",
              "      <td>...</td>\n",
              "      <td>...</td>\n",
              "    </tr>\n",
              "    <tr>\n",
              "      <th>567</th>\n",
              "      <td>Thaddeus Young</td>\n",
              "      <td>0.602</td>\n",
              "    </tr>\n",
              "    <tr>\n",
              "      <th>568</th>\n",
              "      <td>Trae Young</td>\n",
              "      <td>0.430</td>\n",
              "    </tr>\n",
              "    <tr>\n",
              "      <th>569</th>\n",
              "      <td>Omer Yurtseven</td>\n",
              "      <td>0.538</td>\n",
              "    </tr>\n",
              "    <tr>\n",
              "      <th>570</th>\n",
              "      <td>Cody Zeller</td>\n",
              "      <td>0.419</td>\n",
              "    </tr>\n",
              "    <tr>\n",
              "      <th>571</th>\n",
              "      <td>Ivica Zubac</td>\n",
              "      <td>0.649</td>\n",
              "    </tr>\n",
              "  </tbody>\n",
              "</table>\n",
              "<p>572 rows × 2 columns</p>\n",
              "</div>\n",
              "    <div class=\"colab-df-buttons\">\n",
              "\n",
              "  <div class=\"colab-df-container\">\n",
              "    <button class=\"colab-df-convert\" onclick=\"convertToInteractive('df-e3cd9df2-e868-48e0-adcc-cfca4d6db144')\"\n",
              "            title=\"Convert this dataframe to an interactive table.\"\n",
              "            style=\"display:none;\">\n",
              "\n",
              "  <svg xmlns=\"http://www.w3.org/2000/svg\" height=\"24px\" viewBox=\"0 -960 960 960\">\n",
              "    <path d=\"M120-120v-720h720v720H120Zm60-500h600v-160H180v160Zm220 220h160v-160H400v160Zm0 220h160v-160H400v160ZM180-400h160v-160H180v160Zm440 0h160v-160H620v160ZM180-180h160v-160H180v160Zm440 0h160v-160H620v160Z\"/>\n",
              "  </svg>\n",
              "    </button>\n",
              "\n",
              "  <style>\n",
              "    .colab-df-container {\n",
              "      display:flex;\n",
              "      gap: 12px;\n",
              "    }\n",
              "\n",
              "    .colab-df-convert {\n",
              "      background-color: #E8F0FE;\n",
              "      border: none;\n",
              "      border-radius: 50%;\n",
              "      cursor: pointer;\n",
              "      display: none;\n",
              "      fill: #1967D2;\n",
              "      height: 32px;\n",
              "      padding: 0 0 0 0;\n",
              "      width: 32px;\n",
              "    }\n",
              "\n",
              "    .colab-df-convert:hover {\n",
              "      background-color: #E2EBFA;\n",
              "      box-shadow: 0px 1px 2px rgba(60, 64, 67, 0.3), 0px 1px 3px 1px rgba(60, 64, 67, 0.15);\n",
              "      fill: #174EA6;\n",
              "    }\n",
              "\n",
              "    .colab-df-buttons div {\n",
              "      margin-bottom: 4px;\n",
              "    }\n",
              "\n",
              "    [theme=dark] .colab-df-convert {\n",
              "      background-color: #3B4455;\n",
              "      fill: #D2E3FC;\n",
              "    }\n",
              "\n",
              "    [theme=dark] .colab-df-convert:hover {\n",
              "      background-color: #434B5C;\n",
              "      box-shadow: 0px 1px 3px 1px rgba(0, 0, 0, 0.15);\n",
              "      filter: drop-shadow(0px 1px 2px rgba(0, 0, 0, 0.3));\n",
              "      fill: #FFFFFF;\n",
              "    }\n",
              "  </style>\n",
              "\n",
              "    <script>\n",
              "      const buttonEl =\n",
              "        document.querySelector('#df-e3cd9df2-e868-48e0-adcc-cfca4d6db144 button.colab-df-convert');\n",
              "      buttonEl.style.display =\n",
              "        google.colab.kernel.accessAllowed ? 'block' : 'none';\n",
              "\n",
              "      async function convertToInteractive(key) {\n",
              "        const element = document.querySelector('#df-e3cd9df2-e868-48e0-adcc-cfca4d6db144');\n",
              "        const dataTable =\n",
              "          await google.colab.kernel.invokeFunction('convertToInteractive',\n",
              "                                                    [key], {});\n",
              "        if (!dataTable) return;\n",
              "\n",
              "        const docLinkHtml = 'Like what you see? Visit the ' +\n",
              "          '<a target=\"_blank\" href=https://colab.research.google.com/notebooks/data_table.ipynb>data table notebook</a>'\n",
              "          + ' to learn more about interactive tables.';\n",
              "        element.innerHTML = '';\n",
              "        dataTable['output_type'] = 'display_data';\n",
              "        await google.colab.output.renderOutput(dataTable, element);\n",
              "        const docLink = document.createElement('div');\n",
              "        docLink.innerHTML = docLinkHtml;\n",
              "        element.appendChild(docLink);\n",
              "      }\n",
              "    </script>\n",
              "  </div>\n",
              "\n",
              "\n",
              "<div id=\"df-9b18868d-5e42-4361-8545-5c612ec2f37a\">\n",
              "  <button class=\"colab-df-quickchart\" onclick=\"quickchart('df-9b18868d-5e42-4361-8545-5c612ec2f37a')\"\n",
              "            title=\"Suggest charts\"\n",
              "            style=\"display:none;\">\n",
              "\n",
              "<svg xmlns=\"http://www.w3.org/2000/svg\" height=\"24px\"viewBox=\"0 0 24 24\"\n",
              "     width=\"24px\">\n",
              "    <g>\n",
              "        <path d=\"M19 3H5c-1.1 0-2 .9-2 2v14c0 1.1.9 2 2 2h14c1.1 0 2-.9 2-2V5c0-1.1-.9-2-2-2zM9 17H7v-7h2v7zm4 0h-2V7h2v10zm4 0h-2v-4h2v4z\"/>\n",
              "    </g>\n",
              "</svg>\n",
              "  </button>\n",
              "\n",
              "<style>\n",
              "  .colab-df-quickchart {\n",
              "      --bg-color: #E8F0FE;\n",
              "      --fill-color: #1967D2;\n",
              "      --hover-bg-color: #E2EBFA;\n",
              "      --hover-fill-color: #174EA6;\n",
              "      --disabled-fill-color: #AAA;\n",
              "      --disabled-bg-color: #DDD;\n",
              "  }\n",
              "\n",
              "  [theme=dark] .colab-df-quickchart {\n",
              "      --bg-color: #3B4455;\n",
              "      --fill-color: #D2E3FC;\n",
              "      --hover-bg-color: #434B5C;\n",
              "      --hover-fill-color: #FFFFFF;\n",
              "      --disabled-bg-color: #3B4455;\n",
              "      --disabled-fill-color: #666;\n",
              "  }\n",
              "\n",
              "  .colab-df-quickchart {\n",
              "    background-color: var(--bg-color);\n",
              "    border: none;\n",
              "    border-radius: 50%;\n",
              "    cursor: pointer;\n",
              "    display: none;\n",
              "    fill: var(--fill-color);\n",
              "    height: 32px;\n",
              "    padding: 0;\n",
              "    width: 32px;\n",
              "  }\n",
              "\n",
              "  .colab-df-quickchart:hover {\n",
              "    background-color: var(--hover-bg-color);\n",
              "    box-shadow: 0 1px 2px rgba(60, 64, 67, 0.3), 0 1px 3px 1px rgba(60, 64, 67, 0.15);\n",
              "    fill: var(--button-hover-fill-color);\n",
              "  }\n",
              "\n",
              "  .colab-df-quickchart-complete:disabled,\n",
              "  .colab-df-quickchart-complete:disabled:hover {\n",
              "    background-color: var(--disabled-bg-color);\n",
              "    fill: var(--disabled-fill-color);\n",
              "    box-shadow: none;\n",
              "  }\n",
              "\n",
              "  .colab-df-spinner {\n",
              "    border: 2px solid var(--fill-color);\n",
              "    border-color: transparent;\n",
              "    border-bottom-color: var(--fill-color);\n",
              "    animation:\n",
              "      spin 1s steps(1) infinite;\n",
              "  }\n",
              "\n",
              "  @keyframes spin {\n",
              "    0% {\n",
              "      border-color: transparent;\n",
              "      border-bottom-color: var(--fill-color);\n",
              "      border-left-color: var(--fill-color);\n",
              "    }\n",
              "    20% {\n",
              "      border-color: transparent;\n",
              "      border-left-color: var(--fill-color);\n",
              "      border-top-color: var(--fill-color);\n",
              "    }\n",
              "    30% {\n",
              "      border-color: transparent;\n",
              "      border-left-color: var(--fill-color);\n",
              "      border-top-color: var(--fill-color);\n",
              "      border-right-color: var(--fill-color);\n",
              "    }\n",
              "    40% {\n",
              "      border-color: transparent;\n",
              "      border-right-color: var(--fill-color);\n",
              "      border-top-color: var(--fill-color);\n",
              "    }\n",
              "    60% {\n",
              "      border-color: transparent;\n",
              "      border-right-color: var(--fill-color);\n",
              "    }\n",
              "    80% {\n",
              "      border-color: transparent;\n",
              "      border-right-color: var(--fill-color);\n",
              "      border-bottom-color: var(--fill-color);\n",
              "    }\n",
              "    90% {\n",
              "      border-color: transparent;\n",
              "      border-bottom-color: var(--fill-color);\n",
              "    }\n",
              "  }\n",
              "</style>\n",
              "\n",
              "  <script>\n",
              "    async function quickchart(key) {\n",
              "      const quickchartButtonEl =\n",
              "        document.querySelector('#' + key + ' button');\n",
              "      quickchartButtonEl.disabled = true;  // To prevent multiple clicks.\n",
              "      quickchartButtonEl.classList.add('colab-df-spinner');\n",
              "      try {\n",
              "        const charts = await google.colab.kernel.invokeFunction(\n",
              "            'suggestCharts', [key], {});\n",
              "      } catch (error) {\n",
              "        console.error('Error during call to suggestCharts:', error);\n",
              "      }\n",
              "      quickchartButtonEl.classList.remove('colab-df-spinner');\n",
              "      quickchartButtonEl.classList.add('colab-df-quickchart-complete');\n",
              "    }\n",
              "    (() => {\n",
              "      let quickchartButtonEl =\n",
              "        document.querySelector('#df-9b18868d-5e42-4361-8545-5c612ec2f37a button');\n",
              "      quickchartButtonEl.style.display =\n",
              "        google.colab.kernel.accessAllowed ? 'block' : 'none';\n",
              "    })();\n",
              "  </script>\n",
              "</div>\n",
              "    </div>\n",
              "  </div>\n"
            ],
            "application/vnd.google.colaboratory.intrinsic+json": {
              "type": "dataframe",
              "summary": "{\n  \"name\": \"basketball[['Player','FG%']]\",\n  \"rows\": 572,\n  \"fields\": [\n    {\n      \"column\": \"Player\",\n      \"properties\": {\n        \"dtype\": \"string\",\n        \"num_unique_values\": 572,\n        \"samples\": [\n          \"Jonas Valan\\u010di\\u016bnas\",\n          \"Jaylen Brown\",\n          \"Henri Drell\"\n        ],\n        \"semantic_type\": \"\",\n        \"description\": \"\"\n      }\n    },\n    {\n      \"column\": \"FG%\",\n      \"properties\": {\n        \"dtype\": \"number\",\n        \"std\": 0.10725905691831013,\n        \"min\": 0.0,\n        \"max\": 0.747,\n        \"num_unique_values\": 242,\n        \"samples\": [\n          0.464,\n          0.634,\n          0.353\n        ],\n        \"semantic_type\": \"\",\n        \"description\": \"\"\n      }\n    }\n  ]\n}"
            }
          },
          "metadata": {},
          "execution_count": 25
        }
      ]
    },
    {
      "cell_type": "markdown",
      "source": [
        "Want to slice multiple rows and multiple columns?"
      ],
      "metadata": {
        "id": "UmEjf6WqiOFO"
      }
    },
    {
      "cell_type": "code",
      "source": [
        "#use loc to grab the zeroth, second, and 207th row.\n",
        "basketball[['Player', 'FG%']].loc[[0,4,207]]"
      ],
      "metadata": {
        "id": "PRJxUIb_fUsg",
        "colab": {
          "base_uri": "https://localhost:8080/",
          "height": 143
        },
        "outputId": "e3e56b10-002c-4e01-9a26-c07546fb5b55"
      },
      "execution_count": null,
      "outputs": [
        {
          "output_type": "execute_result",
          "data": {
            "text/plain": [
              "                       Player    FG%\n",
              "0            Precious Achiuwa  0.501\n",
              "4    Nickeil Alexander-Walker  0.439\n",
              "207        Isaiah Hartenstein  0.644"
            ],
            "text/html": [
              "\n",
              "  <div id=\"df-c62bc913-5954-4d5b-a6f6-e316db37760e\" class=\"colab-df-container\">\n",
              "    <div>\n",
              "<style scoped>\n",
              "    .dataframe tbody tr th:only-of-type {\n",
              "        vertical-align: middle;\n",
              "    }\n",
              "\n",
              "    .dataframe tbody tr th {\n",
              "        vertical-align: top;\n",
              "    }\n",
              "\n",
              "    .dataframe thead th {\n",
              "        text-align: right;\n",
              "    }\n",
              "</style>\n",
              "<table border=\"1\" class=\"dataframe\">\n",
              "  <thead>\n",
              "    <tr style=\"text-align: right;\">\n",
              "      <th></th>\n",
              "      <th>Player</th>\n",
              "      <th>FG%</th>\n",
              "    </tr>\n",
              "  </thead>\n",
              "  <tbody>\n",
              "    <tr>\n",
              "      <th>0</th>\n",
              "      <td>Precious Achiuwa</td>\n",
              "      <td>0.501</td>\n",
              "    </tr>\n",
              "    <tr>\n",
              "      <th>4</th>\n",
              "      <td>Nickeil Alexander-Walker</td>\n",
              "      <td>0.439</td>\n",
              "    </tr>\n",
              "    <tr>\n",
              "      <th>207</th>\n",
              "      <td>Isaiah Hartenstein</td>\n",
              "      <td>0.644</td>\n",
              "    </tr>\n",
              "  </tbody>\n",
              "</table>\n",
              "</div>\n",
              "    <div class=\"colab-df-buttons\">\n",
              "\n",
              "  <div class=\"colab-df-container\">\n",
              "    <button class=\"colab-df-convert\" onclick=\"convertToInteractive('df-c62bc913-5954-4d5b-a6f6-e316db37760e')\"\n",
              "            title=\"Convert this dataframe to an interactive table.\"\n",
              "            style=\"display:none;\">\n",
              "\n",
              "  <svg xmlns=\"http://www.w3.org/2000/svg\" height=\"24px\" viewBox=\"0 -960 960 960\">\n",
              "    <path d=\"M120-120v-720h720v720H120Zm60-500h600v-160H180v160Zm220 220h160v-160H400v160Zm0 220h160v-160H400v160ZM180-400h160v-160H180v160Zm440 0h160v-160H620v160ZM180-180h160v-160H180v160Zm440 0h160v-160H620v160Z\"/>\n",
              "  </svg>\n",
              "    </button>\n",
              "\n",
              "  <style>\n",
              "    .colab-df-container {\n",
              "      display:flex;\n",
              "      gap: 12px;\n",
              "    }\n",
              "\n",
              "    .colab-df-convert {\n",
              "      background-color: #E8F0FE;\n",
              "      border: none;\n",
              "      border-radius: 50%;\n",
              "      cursor: pointer;\n",
              "      display: none;\n",
              "      fill: #1967D2;\n",
              "      height: 32px;\n",
              "      padding: 0 0 0 0;\n",
              "      width: 32px;\n",
              "    }\n",
              "\n",
              "    .colab-df-convert:hover {\n",
              "      background-color: #E2EBFA;\n",
              "      box-shadow: 0px 1px 2px rgba(60, 64, 67, 0.3), 0px 1px 3px 1px rgba(60, 64, 67, 0.15);\n",
              "      fill: #174EA6;\n",
              "    }\n",
              "\n",
              "    .colab-df-buttons div {\n",
              "      margin-bottom: 4px;\n",
              "    }\n",
              "\n",
              "    [theme=dark] .colab-df-convert {\n",
              "      background-color: #3B4455;\n",
              "      fill: #D2E3FC;\n",
              "    }\n",
              "\n",
              "    [theme=dark] .colab-df-convert:hover {\n",
              "      background-color: #434B5C;\n",
              "      box-shadow: 0px 1px 3px 1px rgba(0, 0, 0, 0.15);\n",
              "      filter: drop-shadow(0px 1px 2px rgba(0, 0, 0, 0.3));\n",
              "      fill: #FFFFFF;\n",
              "    }\n",
              "  </style>\n",
              "\n",
              "    <script>\n",
              "      const buttonEl =\n",
              "        document.querySelector('#df-c62bc913-5954-4d5b-a6f6-e316db37760e button.colab-df-convert');\n",
              "      buttonEl.style.display =\n",
              "        google.colab.kernel.accessAllowed ? 'block' : 'none';\n",
              "\n",
              "      async function convertToInteractive(key) {\n",
              "        const element = document.querySelector('#df-c62bc913-5954-4d5b-a6f6-e316db37760e');\n",
              "        const dataTable =\n",
              "          await google.colab.kernel.invokeFunction('convertToInteractive',\n",
              "                                                    [key], {});\n",
              "        if (!dataTable) return;\n",
              "\n",
              "        const docLinkHtml = 'Like what you see? Visit the ' +\n",
              "          '<a target=\"_blank\" href=https://colab.research.google.com/notebooks/data_table.ipynb>data table notebook</a>'\n",
              "          + ' to learn more about interactive tables.';\n",
              "        element.innerHTML = '';\n",
              "        dataTable['output_type'] = 'display_data';\n",
              "        await google.colab.output.renderOutput(dataTable, element);\n",
              "        const docLink = document.createElement('div');\n",
              "        docLink.innerHTML = docLinkHtml;\n",
              "        element.appendChild(docLink);\n",
              "      }\n",
              "    </script>\n",
              "  </div>\n",
              "\n",
              "\n",
              "<div id=\"df-27e7896a-5566-4e5a-b7ce-2231875c0818\">\n",
              "  <button class=\"colab-df-quickchart\" onclick=\"quickchart('df-27e7896a-5566-4e5a-b7ce-2231875c0818')\"\n",
              "            title=\"Suggest charts\"\n",
              "            style=\"display:none;\">\n",
              "\n",
              "<svg xmlns=\"http://www.w3.org/2000/svg\" height=\"24px\"viewBox=\"0 0 24 24\"\n",
              "     width=\"24px\">\n",
              "    <g>\n",
              "        <path d=\"M19 3H5c-1.1 0-2 .9-2 2v14c0 1.1.9 2 2 2h14c1.1 0 2-.9 2-2V5c0-1.1-.9-2-2-2zM9 17H7v-7h2v7zm4 0h-2V7h2v10zm4 0h-2v-4h2v4z\"/>\n",
              "    </g>\n",
              "</svg>\n",
              "  </button>\n",
              "\n",
              "<style>\n",
              "  .colab-df-quickchart {\n",
              "      --bg-color: #E8F0FE;\n",
              "      --fill-color: #1967D2;\n",
              "      --hover-bg-color: #E2EBFA;\n",
              "      --hover-fill-color: #174EA6;\n",
              "      --disabled-fill-color: #AAA;\n",
              "      --disabled-bg-color: #DDD;\n",
              "  }\n",
              "\n",
              "  [theme=dark] .colab-df-quickchart {\n",
              "      --bg-color: #3B4455;\n",
              "      --fill-color: #D2E3FC;\n",
              "      --hover-bg-color: #434B5C;\n",
              "      --hover-fill-color: #FFFFFF;\n",
              "      --disabled-bg-color: #3B4455;\n",
              "      --disabled-fill-color: #666;\n",
              "  }\n",
              "\n",
              "  .colab-df-quickchart {\n",
              "    background-color: var(--bg-color);\n",
              "    border: none;\n",
              "    border-radius: 50%;\n",
              "    cursor: pointer;\n",
              "    display: none;\n",
              "    fill: var(--fill-color);\n",
              "    height: 32px;\n",
              "    padding: 0;\n",
              "    width: 32px;\n",
              "  }\n",
              "\n",
              "  .colab-df-quickchart:hover {\n",
              "    background-color: var(--hover-bg-color);\n",
              "    box-shadow: 0 1px 2px rgba(60, 64, 67, 0.3), 0 1px 3px 1px rgba(60, 64, 67, 0.15);\n",
              "    fill: var(--button-hover-fill-color);\n",
              "  }\n",
              "\n",
              "  .colab-df-quickchart-complete:disabled,\n",
              "  .colab-df-quickchart-complete:disabled:hover {\n",
              "    background-color: var(--disabled-bg-color);\n",
              "    fill: var(--disabled-fill-color);\n",
              "    box-shadow: none;\n",
              "  }\n",
              "\n",
              "  .colab-df-spinner {\n",
              "    border: 2px solid var(--fill-color);\n",
              "    border-color: transparent;\n",
              "    border-bottom-color: var(--fill-color);\n",
              "    animation:\n",
              "      spin 1s steps(1) infinite;\n",
              "  }\n",
              "\n",
              "  @keyframes spin {\n",
              "    0% {\n",
              "      border-color: transparent;\n",
              "      border-bottom-color: var(--fill-color);\n",
              "      border-left-color: var(--fill-color);\n",
              "    }\n",
              "    20% {\n",
              "      border-color: transparent;\n",
              "      border-left-color: var(--fill-color);\n",
              "      border-top-color: var(--fill-color);\n",
              "    }\n",
              "    30% {\n",
              "      border-color: transparent;\n",
              "      border-left-color: var(--fill-color);\n",
              "      border-top-color: var(--fill-color);\n",
              "      border-right-color: var(--fill-color);\n",
              "    }\n",
              "    40% {\n",
              "      border-color: transparent;\n",
              "      border-right-color: var(--fill-color);\n",
              "      border-top-color: var(--fill-color);\n",
              "    }\n",
              "    60% {\n",
              "      border-color: transparent;\n",
              "      border-right-color: var(--fill-color);\n",
              "    }\n",
              "    80% {\n",
              "      border-color: transparent;\n",
              "      border-right-color: var(--fill-color);\n",
              "      border-bottom-color: var(--fill-color);\n",
              "    }\n",
              "    90% {\n",
              "      border-color: transparent;\n",
              "      border-bottom-color: var(--fill-color);\n",
              "    }\n",
              "  }\n",
              "</style>\n",
              "\n",
              "  <script>\n",
              "    async function quickchart(key) {\n",
              "      const quickchartButtonEl =\n",
              "        document.querySelector('#' + key + ' button');\n",
              "      quickchartButtonEl.disabled = true;  // To prevent multiple clicks.\n",
              "      quickchartButtonEl.classList.add('colab-df-spinner');\n",
              "      try {\n",
              "        const charts = await google.colab.kernel.invokeFunction(\n",
              "            'suggestCharts', [key], {});\n",
              "      } catch (error) {\n",
              "        console.error('Error during call to suggestCharts:', error);\n",
              "      }\n",
              "      quickchartButtonEl.classList.remove('colab-df-spinner');\n",
              "      quickchartButtonEl.classList.add('colab-df-quickchart-complete');\n",
              "    }\n",
              "    (() => {\n",
              "      let quickchartButtonEl =\n",
              "        document.querySelector('#df-27e7896a-5566-4e5a-b7ce-2231875c0818 button');\n",
              "      quickchartButtonEl.style.display =\n",
              "        google.colab.kernel.accessAllowed ? 'block' : 'none';\n",
              "    })();\n",
              "  </script>\n",
              "</div>\n",
              "    </div>\n",
              "  </div>\n"
            ],
            "application/vnd.google.colaboratory.intrinsic+json": {
              "type": "dataframe",
              "summary": "{\n  \"name\": \"basketball[['Player', 'FG%']]\",\n  \"rows\": 3,\n  \"fields\": [\n    {\n      \"column\": \"Player\",\n      \"properties\": {\n        \"dtype\": \"string\",\n        \"num_unique_values\": 3,\n        \"samples\": [\n          \"Precious Achiuwa\",\n          \"Nickeil Alexander-Walker\",\n          \"Isaiah Hartenstein\"\n        ],\n        \"semantic_type\": \"\",\n        \"description\": \"\"\n      }\n    },\n    {\n      \"column\": \"FG%\",\n      \"properties\": {\n        \"dtype\": \"number\",\n        \"std\": 0.10513324878457814,\n        \"min\": 0.439,\n        \"max\": 0.644,\n        \"num_unique_values\": 3,\n        \"samples\": [\n          0.501,\n          0.439,\n          0.644\n        ],\n        \"semantic_type\": \"\",\n        \"description\": \"\"\n      }\n    }\n  ]\n}"
            }
          },
          "metadata": {},
          "execution_count": 26
        }
      ]
    },
    {
      "cell_type": "markdown",
      "source": [
        "**Task9**:\n",
        "\n",
        "Find the names of the Players, feild goal attempts (FGA) and total points (PTS) of the players in the 87th and  94th row."
      ],
      "metadata": {
        "id": "tmUPcmYoSifQ"
      }
    },
    {
      "cell_type": "code",
      "source": [
        "#ANSWER9\n",
        "basketball[['Player', 'FGA', 'PTS']].loc[[87,94]]\n",
        "#[*write your answer here*]"
      ],
      "metadata": {
        "id": "-J9tKk5mTFzz",
        "colab": {
          "base_uri": "https://localhost:8080/",
          "height": 112
        },
        "outputId": "ba57345b-5a9f-4569-f361-84677b958b05"
      },
      "execution_count": null,
      "outputs": [
        {
          "output_type": "execute_result",
          "data": {
            "text/plain": [
              "                Player  FGA  PTS\n",
              "87  Wendell Carter Jr.  425  603\n",
              "94        Max Christie  241  284"
            ],
            "text/html": [
              "\n",
              "  <div id=\"df-5a6d5fa4-1659-4bab-8943-1ba3294a98d2\" class=\"colab-df-container\">\n",
              "    <div>\n",
              "<style scoped>\n",
              "    .dataframe tbody tr th:only-of-type {\n",
              "        vertical-align: middle;\n",
              "    }\n",
              "\n",
              "    .dataframe tbody tr th {\n",
              "        vertical-align: top;\n",
              "    }\n",
              "\n",
              "    .dataframe thead th {\n",
              "        text-align: right;\n",
              "    }\n",
              "</style>\n",
              "<table border=\"1\" class=\"dataframe\">\n",
              "  <thead>\n",
              "    <tr style=\"text-align: right;\">\n",
              "      <th></th>\n",
              "      <th>Player</th>\n",
              "      <th>FGA</th>\n",
              "      <th>PTS</th>\n",
              "    </tr>\n",
              "  </thead>\n",
              "  <tbody>\n",
              "    <tr>\n",
              "      <th>87</th>\n",
              "      <td>Wendell Carter Jr.</td>\n",
              "      <td>425</td>\n",
              "      <td>603</td>\n",
              "    </tr>\n",
              "    <tr>\n",
              "      <th>94</th>\n",
              "      <td>Max Christie</td>\n",
              "      <td>241</td>\n",
              "      <td>284</td>\n",
              "    </tr>\n",
              "  </tbody>\n",
              "</table>\n",
              "</div>\n",
              "    <div class=\"colab-df-buttons\">\n",
              "\n",
              "  <div class=\"colab-df-container\">\n",
              "    <button class=\"colab-df-convert\" onclick=\"convertToInteractive('df-5a6d5fa4-1659-4bab-8943-1ba3294a98d2')\"\n",
              "            title=\"Convert this dataframe to an interactive table.\"\n",
              "            style=\"display:none;\">\n",
              "\n",
              "  <svg xmlns=\"http://www.w3.org/2000/svg\" height=\"24px\" viewBox=\"0 -960 960 960\">\n",
              "    <path d=\"M120-120v-720h720v720H120Zm60-500h600v-160H180v160Zm220 220h160v-160H400v160Zm0 220h160v-160H400v160ZM180-400h160v-160H180v160Zm440 0h160v-160H620v160ZM180-180h160v-160H180v160Zm440 0h160v-160H620v160Z\"/>\n",
              "  </svg>\n",
              "    </button>\n",
              "\n",
              "  <style>\n",
              "    .colab-df-container {\n",
              "      display:flex;\n",
              "      gap: 12px;\n",
              "    }\n",
              "\n",
              "    .colab-df-convert {\n",
              "      background-color: #E8F0FE;\n",
              "      border: none;\n",
              "      border-radius: 50%;\n",
              "      cursor: pointer;\n",
              "      display: none;\n",
              "      fill: #1967D2;\n",
              "      height: 32px;\n",
              "      padding: 0 0 0 0;\n",
              "      width: 32px;\n",
              "    }\n",
              "\n",
              "    .colab-df-convert:hover {\n",
              "      background-color: #E2EBFA;\n",
              "      box-shadow: 0px 1px 2px rgba(60, 64, 67, 0.3), 0px 1px 3px 1px rgba(60, 64, 67, 0.15);\n",
              "      fill: #174EA6;\n",
              "    }\n",
              "\n",
              "    .colab-df-buttons div {\n",
              "      margin-bottom: 4px;\n",
              "    }\n",
              "\n",
              "    [theme=dark] .colab-df-convert {\n",
              "      background-color: #3B4455;\n",
              "      fill: #D2E3FC;\n",
              "    }\n",
              "\n",
              "    [theme=dark] .colab-df-convert:hover {\n",
              "      background-color: #434B5C;\n",
              "      box-shadow: 0px 1px 3px 1px rgba(0, 0, 0, 0.15);\n",
              "      filter: drop-shadow(0px 1px 2px rgba(0, 0, 0, 0.3));\n",
              "      fill: #FFFFFF;\n",
              "    }\n",
              "  </style>\n",
              "\n",
              "    <script>\n",
              "      const buttonEl =\n",
              "        document.querySelector('#df-5a6d5fa4-1659-4bab-8943-1ba3294a98d2 button.colab-df-convert');\n",
              "      buttonEl.style.display =\n",
              "        google.colab.kernel.accessAllowed ? 'block' : 'none';\n",
              "\n",
              "      async function convertToInteractive(key) {\n",
              "        const element = document.querySelector('#df-5a6d5fa4-1659-4bab-8943-1ba3294a98d2');\n",
              "        const dataTable =\n",
              "          await google.colab.kernel.invokeFunction('convertToInteractive',\n",
              "                                                    [key], {});\n",
              "        if (!dataTable) return;\n",
              "\n",
              "        const docLinkHtml = 'Like what you see? Visit the ' +\n",
              "          '<a target=\"_blank\" href=https://colab.research.google.com/notebooks/data_table.ipynb>data table notebook</a>'\n",
              "          + ' to learn more about interactive tables.';\n",
              "        element.innerHTML = '';\n",
              "        dataTable['output_type'] = 'display_data';\n",
              "        await google.colab.output.renderOutput(dataTable, element);\n",
              "        const docLink = document.createElement('div');\n",
              "        docLink.innerHTML = docLinkHtml;\n",
              "        element.appendChild(docLink);\n",
              "      }\n",
              "    </script>\n",
              "  </div>\n",
              "\n",
              "\n",
              "<div id=\"df-04d1cded-a0e4-406a-b1b8-d5711f1b100a\">\n",
              "  <button class=\"colab-df-quickchart\" onclick=\"quickchart('df-04d1cded-a0e4-406a-b1b8-d5711f1b100a')\"\n",
              "            title=\"Suggest charts\"\n",
              "            style=\"display:none;\">\n",
              "\n",
              "<svg xmlns=\"http://www.w3.org/2000/svg\" height=\"24px\"viewBox=\"0 0 24 24\"\n",
              "     width=\"24px\">\n",
              "    <g>\n",
              "        <path d=\"M19 3H5c-1.1 0-2 .9-2 2v14c0 1.1.9 2 2 2h14c1.1 0 2-.9 2-2V5c0-1.1-.9-2-2-2zM9 17H7v-7h2v7zm4 0h-2V7h2v10zm4 0h-2v-4h2v4z\"/>\n",
              "    </g>\n",
              "</svg>\n",
              "  </button>\n",
              "\n",
              "<style>\n",
              "  .colab-df-quickchart {\n",
              "      --bg-color: #E8F0FE;\n",
              "      --fill-color: #1967D2;\n",
              "      --hover-bg-color: #E2EBFA;\n",
              "      --hover-fill-color: #174EA6;\n",
              "      --disabled-fill-color: #AAA;\n",
              "      --disabled-bg-color: #DDD;\n",
              "  }\n",
              "\n",
              "  [theme=dark] .colab-df-quickchart {\n",
              "      --bg-color: #3B4455;\n",
              "      --fill-color: #D2E3FC;\n",
              "      --hover-bg-color: #434B5C;\n",
              "      --hover-fill-color: #FFFFFF;\n",
              "      --disabled-bg-color: #3B4455;\n",
              "      --disabled-fill-color: #666;\n",
              "  }\n",
              "\n",
              "  .colab-df-quickchart {\n",
              "    background-color: var(--bg-color);\n",
              "    border: none;\n",
              "    border-radius: 50%;\n",
              "    cursor: pointer;\n",
              "    display: none;\n",
              "    fill: var(--fill-color);\n",
              "    height: 32px;\n",
              "    padding: 0;\n",
              "    width: 32px;\n",
              "  }\n",
              "\n",
              "  .colab-df-quickchart:hover {\n",
              "    background-color: var(--hover-bg-color);\n",
              "    box-shadow: 0 1px 2px rgba(60, 64, 67, 0.3), 0 1px 3px 1px rgba(60, 64, 67, 0.15);\n",
              "    fill: var(--button-hover-fill-color);\n",
              "  }\n",
              "\n",
              "  .colab-df-quickchart-complete:disabled,\n",
              "  .colab-df-quickchart-complete:disabled:hover {\n",
              "    background-color: var(--disabled-bg-color);\n",
              "    fill: var(--disabled-fill-color);\n",
              "    box-shadow: none;\n",
              "  }\n",
              "\n",
              "  .colab-df-spinner {\n",
              "    border: 2px solid var(--fill-color);\n",
              "    border-color: transparent;\n",
              "    border-bottom-color: var(--fill-color);\n",
              "    animation:\n",
              "      spin 1s steps(1) infinite;\n",
              "  }\n",
              "\n",
              "  @keyframes spin {\n",
              "    0% {\n",
              "      border-color: transparent;\n",
              "      border-bottom-color: var(--fill-color);\n",
              "      border-left-color: var(--fill-color);\n",
              "    }\n",
              "    20% {\n",
              "      border-color: transparent;\n",
              "      border-left-color: var(--fill-color);\n",
              "      border-top-color: var(--fill-color);\n",
              "    }\n",
              "    30% {\n",
              "      border-color: transparent;\n",
              "      border-left-color: var(--fill-color);\n",
              "      border-top-color: var(--fill-color);\n",
              "      border-right-color: var(--fill-color);\n",
              "    }\n",
              "    40% {\n",
              "      border-color: transparent;\n",
              "      border-right-color: var(--fill-color);\n",
              "      border-top-color: var(--fill-color);\n",
              "    }\n",
              "    60% {\n",
              "      border-color: transparent;\n",
              "      border-right-color: var(--fill-color);\n",
              "    }\n",
              "    80% {\n",
              "      border-color: transparent;\n",
              "      border-right-color: var(--fill-color);\n",
              "      border-bottom-color: var(--fill-color);\n",
              "    }\n",
              "    90% {\n",
              "      border-color: transparent;\n",
              "      border-bottom-color: var(--fill-color);\n",
              "    }\n",
              "  }\n",
              "</style>\n",
              "\n",
              "  <script>\n",
              "    async function quickchart(key) {\n",
              "      const quickchartButtonEl =\n",
              "        document.querySelector('#' + key + ' button');\n",
              "      quickchartButtonEl.disabled = true;  // To prevent multiple clicks.\n",
              "      quickchartButtonEl.classList.add('colab-df-spinner');\n",
              "      try {\n",
              "        const charts = await google.colab.kernel.invokeFunction(\n",
              "            'suggestCharts', [key], {});\n",
              "      } catch (error) {\n",
              "        console.error('Error during call to suggestCharts:', error);\n",
              "      }\n",
              "      quickchartButtonEl.classList.remove('colab-df-spinner');\n",
              "      quickchartButtonEl.classList.add('colab-df-quickchart-complete');\n",
              "    }\n",
              "    (() => {\n",
              "      let quickchartButtonEl =\n",
              "        document.querySelector('#df-04d1cded-a0e4-406a-b1b8-d5711f1b100a button');\n",
              "      quickchartButtonEl.style.display =\n",
              "        google.colab.kernel.accessAllowed ? 'block' : 'none';\n",
              "    })();\n",
              "  </script>\n",
              "</div>\n",
              "    </div>\n",
              "  </div>\n"
            ],
            "application/vnd.google.colaboratory.intrinsic+json": {
              "type": "dataframe",
              "summary": "{\n  \"name\": \"#[*write your answer here*]\",\n  \"rows\": 2,\n  \"fields\": [\n    {\n      \"column\": \"Player\",\n      \"properties\": {\n        \"dtype\": \"string\",\n        \"num_unique_values\": 2,\n        \"samples\": [\n          \"Max Christie\",\n          \"Wendell Carter Jr.\"\n        ],\n        \"semantic_type\": \"\",\n        \"description\": \"\"\n      }\n    },\n    {\n      \"column\": \"FGA\",\n      \"properties\": {\n        \"dtype\": \"number\",\n        \"std\": 130,\n        \"min\": 241,\n        \"max\": 425,\n        \"num_unique_values\": 2,\n        \"samples\": [\n          241,\n          425\n        ],\n        \"semantic_type\": \"\",\n        \"description\": \"\"\n      }\n    },\n    {\n      \"column\": \"PTS\",\n      \"properties\": {\n        \"dtype\": \"number\",\n        \"std\": 225,\n        \"min\": 284,\n        \"max\": 603,\n        \"num_unique_values\": 2,\n        \"samples\": [\n          284,\n          603\n        ],\n        \"semantic_type\": \"\",\n        \"description\": \"\"\n      }\n    }\n  ]\n}"
            }
          },
          "metadata": {},
          "execution_count": 31
        }
      ]
    },
    {
      "cell_type": "markdown",
      "source": [
        "### Query and Bools\n",
        "\n",
        "Because I provide clean, moderate to small sized data sets in this course, most of our data wrangling problems can be solved with query.\n",
        "\n",
        "Query makes use a of ab built in data type we haven't mentioned yet, called a bool."
      ],
      "metadata": {
        "id": "s8178kjoBtyU"
      }
    },
    {
      "cell_type": "markdown",
      "source": [
        "I'll give you an example of query, and then I'll define bools."
      ],
      "metadata": {
        "id": "-xwLw819HN_g"
      }
    },
    {
      "cell_type": "code",
      "source": [
        "#finds all players with more offensive rebounds than defensive rebounds\n",
        "#and who have also played more than 100 minutes\n",
        "hustle_players = basketball.query('ORB >= DRB and MP >= 100')\n",
        "hustle_players"
      ],
      "metadata": {
        "id": "NixyQgeYCPXf",
        "colab": {
          "base_uri": "https://localhost:8080/",
          "height": 350
        },
        "outputId": "5b785365-ee6c-41cb-f9bd-768928cd22ac"
      },
      "execution_count": null,
      "outputs": [
        {
          "output_type": "execute_result",
          "data": {
            "text/plain": [
              "                     Player Pos  Age   Tm   G  GS   MP   FG  FGA    FG%  ...  \\\n",
              "11   Thanasis Antetokounmpo  PF   31  MIL  34   0  155   16   30  0.533  ...   \n",
              "164              Luka Garza   C   25  MIN  25   0  122   36   75  0.480  ...   \n",
              "191        Mouhamadou Gueye  PF   25  TOR  11   0  120   11   38  0.289  ...   \n",
              "234            Matthew Hurt  PF   23  MEM   8   0  113   12   34  0.353  ...   \n",
              "286            Jock Landale   C   28  HOU  56   3  763  106  206  0.515  ...   \n",
              "295           Maxwell Lewis  SF   21  LAL  34   0  103    4   21  0.190  ...   \n",
              "346           Justin Minaya  SF   24  POR  34   1  381   22   74  0.297  ...   \n",
              "433       Mitchell Robinson   C   25  NYK  31  21  768   73  127  0.575  ...   \n",
              "551      Jeenathan Williams  SG   24  HOU  22   0  129   27   50  0.540  ...   \n",
              "\n",
              "     ORB  DRB  TRB  AST  STL  BLK  TOV  PF  PTS  Player-additional  \n",
              "11     7    6   13   17    7    4   14  24   32          antetth01  \n",
              "164   19   12   31    4    4    1    6  24   99          garzalu01  \n",
              "191   12   11   23    5    3   18   12  15   26          gueyemo01  \n",
              "234    9    7   16    4    3    3    2   8   32           hurtma01  \n",
              "286   88   84  172   65   20   33   31  74  274          landajo01  \n",
              "295    2    2    4    6    2    1   10   5   11          lewisma05  \n",
              "346   30   26   56   21    9   10    9  35   61          minayju01  \n",
              "433  142  121  263   18   37   35   25  55  173          robinmi01  \n",
              "551   12   11   23    7    4    1    4  10   63          willije02  \n",
              "\n",
              "[9 rows x 30 columns]"
            ],
            "text/html": [
              "\n",
              "  <div id=\"df-d0a41cfc-d213-4061-9c37-3424ba420c12\" class=\"colab-df-container\">\n",
              "    <div>\n",
              "<style scoped>\n",
              "    .dataframe tbody tr th:only-of-type {\n",
              "        vertical-align: middle;\n",
              "    }\n",
              "\n",
              "    .dataframe tbody tr th {\n",
              "        vertical-align: top;\n",
              "    }\n",
              "\n",
              "    .dataframe thead th {\n",
              "        text-align: right;\n",
              "    }\n",
              "</style>\n",
              "<table border=\"1\" class=\"dataframe\">\n",
              "  <thead>\n",
              "    <tr style=\"text-align: right;\">\n",
              "      <th></th>\n",
              "      <th>Player</th>\n",
              "      <th>Pos</th>\n",
              "      <th>Age</th>\n",
              "      <th>Tm</th>\n",
              "      <th>G</th>\n",
              "      <th>GS</th>\n",
              "      <th>MP</th>\n",
              "      <th>FG</th>\n",
              "      <th>FGA</th>\n",
              "      <th>FG%</th>\n",
              "      <th>...</th>\n",
              "      <th>ORB</th>\n",
              "      <th>DRB</th>\n",
              "      <th>TRB</th>\n",
              "      <th>AST</th>\n",
              "      <th>STL</th>\n",
              "      <th>BLK</th>\n",
              "      <th>TOV</th>\n",
              "      <th>PF</th>\n",
              "      <th>PTS</th>\n",
              "      <th>Player-additional</th>\n",
              "    </tr>\n",
              "  </thead>\n",
              "  <tbody>\n",
              "    <tr>\n",
              "      <th>11</th>\n",
              "      <td>Thanasis Antetokounmpo</td>\n",
              "      <td>PF</td>\n",
              "      <td>31</td>\n",
              "      <td>MIL</td>\n",
              "      <td>34</td>\n",
              "      <td>0</td>\n",
              "      <td>155</td>\n",
              "      <td>16</td>\n",
              "      <td>30</td>\n",
              "      <td>0.533</td>\n",
              "      <td>...</td>\n",
              "      <td>7</td>\n",
              "      <td>6</td>\n",
              "      <td>13</td>\n",
              "      <td>17</td>\n",
              "      <td>7</td>\n",
              "      <td>4</td>\n",
              "      <td>14</td>\n",
              "      <td>24</td>\n",
              "      <td>32</td>\n",
              "      <td>antetth01</td>\n",
              "    </tr>\n",
              "    <tr>\n",
              "      <th>164</th>\n",
              "      <td>Luka Garza</td>\n",
              "      <td>C</td>\n",
              "      <td>25</td>\n",
              "      <td>MIN</td>\n",
              "      <td>25</td>\n",
              "      <td>0</td>\n",
              "      <td>122</td>\n",
              "      <td>36</td>\n",
              "      <td>75</td>\n",
              "      <td>0.480</td>\n",
              "      <td>...</td>\n",
              "      <td>19</td>\n",
              "      <td>12</td>\n",
              "      <td>31</td>\n",
              "      <td>4</td>\n",
              "      <td>4</td>\n",
              "      <td>1</td>\n",
              "      <td>6</td>\n",
              "      <td>24</td>\n",
              "      <td>99</td>\n",
              "      <td>garzalu01</td>\n",
              "    </tr>\n",
              "    <tr>\n",
              "      <th>191</th>\n",
              "      <td>Mouhamadou Gueye</td>\n",
              "      <td>PF</td>\n",
              "      <td>25</td>\n",
              "      <td>TOR</td>\n",
              "      <td>11</td>\n",
              "      <td>0</td>\n",
              "      <td>120</td>\n",
              "      <td>11</td>\n",
              "      <td>38</td>\n",
              "      <td>0.289</td>\n",
              "      <td>...</td>\n",
              "      <td>12</td>\n",
              "      <td>11</td>\n",
              "      <td>23</td>\n",
              "      <td>5</td>\n",
              "      <td>3</td>\n",
              "      <td>18</td>\n",
              "      <td>12</td>\n",
              "      <td>15</td>\n",
              "      <td>26</td>\n",
              "      <td>gueyemo01</td>\n",
              "    </tr>\n",
              "    <tr>\n",
              "      <th>234</th>\n",
              "      <td>Matthew Hurt</td>\n",
              "      <td>PF</td>\n",
              "      <td>23</td>\n",
              "      <td>MEM</td>\n",
              "      <td>8</td>\n",
              "      <td>0</td>\n",
              "      <td>113</td>\n",
              "      <td>12</td>\n",
              "      <td>34</td>\n",
              "      <td>0.353</td>\n",
              "      <td>...</td>\n",
              "      <td>9</td>\n",
              "      <td>7</td>\n",
              "      <td>16</td>\n",
              "      <td>4</td>\n",
              "      <td>3</td>\n",
              "      <td>3</td>\n",
              "      <td>2</td>\n",
              "      <td>8</td>\n",
              "      <td>32</td>\n",
              "      <td>hurtma01</td>\n",
              "    </tr>\n",
              "    <tr>\n",
              "      <th>286</th>\n",
              "      <td>Jock Landale</td>\n",
              "      <td>C</td>\n",
              "      <td>28</td>\n",
              "      <td>HOU</td>\n",
              "      <td>56</td>\n",
              "      <td>3</td>\n",
              "      <td>763</td>\n",
              "      <td>106</td>\n",
              "      <td>206</td>\n",
              "      <td>0.515</td>\n",
              "      <td>...</td>\n",
              "      <td>88</td>\n",
              "      <td>84</td>\n",
              "      <td>172</td>\n",
              "      <td>65</td>\n",
              "      <td>20</td>\n",
              "      <td>33</td>\n",
              "      <td>31</td>\n",
              "      <td>74</td>\n",
              "      <td>274</td>\n",
              "      <td>landajo01</td>\n",
              "    </tr>\n",
              "    <tr>\n",
              "      <th>295</th>\n",
              "      <td>Maxwell Lewis</td>\n",
              "      <td>SF</td>\n",
              "      <td>21</td>\n",
              "      <td>LAL</td>\n",
              "      <td>34</td>\n",
              "      <td>0</td>\n",
              "      <td>103</td>\n",
              "      <td>4</td>\n",
              "      <td>21</td>\n",
              "      <td>0.190</td>\n",
              "      <td>...</td>\n",
              "      <td>2</td>\n",
              "      <td>2</td>\n",
              "      <td>4</td>\n",
              "      <td>6</td>\n",
              "      <td>2</td>\n",
              "      <td>1</td>\n",
              "      <td>10</td>\n",
              "      <td>5</td>\n",
              "      <td>11</td>\n",
              "      <td>lewisma05</td>\n",
              "    </tr>\n",
              "    <tr>\n",
              "      <th>346</th>\n",
              "      <td>Justin Minaya</td>\n",
              "      <td>SF</td>\n",
              "      <td>24</td>\n",
              "      <td>POR</td>\n",
              "      <td>34</td>\n",
              "      <td>1</td>\n",
              "      <td>381</td>\n",
              "      <td>22</td>\n",
              "      <td>74</td>\n",
              "      <td>0.297</td>\n",
              "      <td>...</td>\n",
              "      <td>30</td>\n",
              "      <td>26</td>\n",
              "      <td>56</td>\n",
              "      <td>21</td>\n",
              "      <td>9</td>\n",
              "      <td>10</td>\n",
              "      <td>9</td>\n",
              "      <td>35</td>\n",
              "      <td>61</td>\n",
              "      <td>minayju01</td>\n",
              "    </tr>\n",
              "    <tr>\n",
              "      <th>433</th>\n",
              "      <td>Mitchell Robinson</td>\n",
              "      <td>C</td>\n",
              "      <td>25</td>\n",
              "      <td>NYK</td>\n",
              "      <td>31</td>\n",
              "      <td>21</td>\n",
              "      <td>768</td>\n",
              "      <td>73</td>\n",
              "      <td>127</td>\n",
              "      <td>0.575</td>\n",
              "      <td>...</td>\n",
              "      <td>142</td>\n",
              "      <td>121</td>\n",
              "      <td>263</td>\n",
              "      <td>18</td>\n",
              "      <td>37</td>\n",
              "      <td>35</td>\n",
              "      <td>25</td>\n",
              "      <td>55</td>\n",
              "      <td>173</td>\n",
              "      <td>robinmi01</td>\n",
              "    </tr>\n",
              "    <tr>\n",
              "      <th>551</th>\n",
              "      <td>Jeenathan Williams</td>\n",
              "      <td>SG</td>\n",
              "      <td>24</td>\n",
              "      <td>HOU</td>\n",
              "      <td>22</td>\n",
              "      <td>0</td>\n",
              "      <td>129</td>\n",
              "      <td>27</td>\n",
              "      <td>50</td>\n",
              "      <td>0.540</td>\n",
              "      <td>...</td>\n",
              "      <td>12</td>\n",
              "      <td>11</td>\n",
              "      <td>23</td>\n",
              "      <td>7</td>\n",
              "      <td>4</td>\n",
              "      <td>1</td>\n",
              "      <td>4</td>\n",
              "      <td>10</td>\n",
              "      <td>63</td>\n",
              "      <td>willije02</td>\n",
              "    </tr>\n",
              "  </tbody>\n",
              "</table>\n",
              "<p>9 rows × 30 columns</p>\n",
              "</div>\n",
              "    <div class=\"colab-df-buttons\">\n",
              "\n",
              "  <div class=\"colab-df-container\">\n",
              "    <button class=\"colab-df-convert\" onclick=\"convertToInteractive('df-d0a41cfc-d213-4061-9c37-3424ba420c12')\"\n",
              "            title=\"Convert this dataframe to an interactive table.\"\n",
              "            style=\"display:none;\">\n",
              "\n",
              "  <svg xmlns=\"http://www.w3.org/2000/svg\" height=\"24px\" viewBox=\"0 -960 960 960\">\n",
              "    <path d=\"M120-120v-720h720v720H120Zm60-500h600v-160H180v160Zm220 220h160v-160H400v160Zm0 220h160v-160H400v160ZM180-400h160v-160H180v160Zm440 0h160v-160H620v160ZM180-180h160v-160H180v160Zm440 0h160v-160H620v160Z\"/>\n",
              "  </svg>\n",
              "    </button>\n",
              "\n",
              "  <style>\n",
              "    .colab-df-container {\n",
              "      display:flex;\n",
              "      gap: 12px;\n",
              "    }\n",
              "\n",
              "    .colab-df-convert {\n",
              "      background-color: #E8F0FE;\n",
              "      border: none;\n",
              "      border-radius: 50%;\n",
              "      cursor: pointer;\n",
              "      display: none;\n",
              "      fill: #1967D2;\n",
              "      height: 32px;\n",
              "      padding: 0 0 0 0;\n",
              "      width: 32px;\n",
              "    }\n",
              "\n",
              "    .colab-df-convert:hover {\n",
              "      background-color: #E2EBFA;\n",
              "      box-shadow: 0px 1px 2px rgba(60, 64, 67, 0.3), 0px 1px 3px 1px rgba(60, 64, 67, 0.15);\n",
              "      fill: #174EA6;\n",
              "    }\n",
              "\n",
              "    .colab-df-buttons div {\n",
              "      margin-bottom: 4px;\n",
              "    }\n",
              "\n",
              "    [theme=dark] .colab-df-convert {\n",
              "      background-color: #3B4455;\n",
              "      fill: #D2E3FC;\n",
              "    }\n",
              "\n",
              "    [theme=dark] .colab-df-convert:hover {\n",
              "      background-color: #434B5C;\n",
              "      box-shadow: 0px 1px 3px 1px rgba(0, 0, 0, 0.15);\n",
              "      filter: drop-shadow(0px 1px 2px rgba(0, 0, 0, 0.3));\n",
              "      fill: #FFFFFF;\n",
              "    }\n",
              "  </style>\n",
              "\n",
              "    <script>\n",
              "      const buttonEl =\n",
              "        document.querySelector('#df-d0a41cfc-d213-4061-9c37-3424ba420c12 button.colab-df-convert');\n",
              "      buttonEl.style.display =\n",
              "        google.colab.kernel.accessAllowed ? 'block' : 'none';\n",
              "\n",
              "      async function convertToInteractive(key) {\n",
              "        const element = document.querySelector('#df-d0a41cfc-d213-4061-9c37-3424ba420c12');\n",
              "        const dataTable =\n",
              "          await google.colab.kernel.invokeFunction('convertToInteractive',\n",
              "                                                    [key], {});\n",
              "        if (!dataTable) return;\n",
              "\n",
              "        const docLinkHtml = 'Like what you see? Visit the ' +\n",
              "          '<a target=\"_blank\" href=https://colab.research.google.com/notebooks/data_table.ipynb>data table notebook</a>'\n",
              "          + ' to learn more about interactive tables.';\n",
              "        element.innerHTML = '';\n",
              "        dataTable['output_type'] = 'display_data';\n",
              "        await google.colab.output.renderOutput(dataTable, element);\n",
              "        const docLink = document.createElement('div');\n",
              "        docLink.innerHTML = docLinkHtml;\n",
              "        element.appendChild(docLink);\n",
              "      }\n",
              "    </script>\n",
              "  </div>\n",
              "\n",
              "\n",
              "<div id=\"df-ff794890-3945-41da-b8bf-15df73cd762f\">\n",
              "  <button class=\"colab-df-quickchart\" onclick=\"quickchart('df-ff794890-3945-41da-b8bf-15df73cd762f')\"\n",
              "            title=\"Suggest charts\"\n",
              "            style=\"display:none;\">\n",
              "\n",
              "<svg xmlns=\"http://www.w3.org/2000/svg\" height=\"24px\"viewBox=\"0 0 24 24\"\n",
              "     width=\"24px\">\n",
              "    <g>\n",
              "        <path d=\"M19 3H5c-1.1 0-2 .9-2 2v14c0 1.1.9 2 2 2h14c1.1 0 2-.9 2-2V5c0-1.1-.9-2-2-2zM9 17H7v-7h2v7zm4 0h-2V7h2v10zm4 0h-2v-4h2v4z\"/>\n",
              "    </g>\n",
              "</svg>\n",
              "  </button>\n",
              "\n",
              "<style>\n",
              "  .colab-df-quickchart {\n",
              "      --bg-color: #E8F0FE;\n",
              "      --fill-color: #1967D2;\n",
              "      --hover-bg-color: #E2EBFA;\n",
              "      --hover-fill-color: #174EA6;\n",
              "      --disabled-fill-color: #AAA;\n",
              "      --disabled-bg-color: #DDD;\n",
              "  }\n",
              "\n",
              "  [theme=dark] .colab-df-quickchart {\n",
              "      --bg-color: #3B4455;\n",
              "      --fill-color: #D2E3FC;\n",
              "      --hover-bg-color: #434B5C;\n",
              "      --hover-fill-color: #FFFFFF;\n",
              "      --disabled-bg-color: #3B4455;\n",
              "      --disabled-fill-color: #666;\n",
              "  }\n",
              "\n",
              "  .colab-df-quickchart {\n",
              "    background-color: var(--bg-color);\n",
              "    border: none;\n",
              "    border-radius: 50%;\n",
              "    cursor: pointer;\n",
              "    display: none;\n",
              "    fill: var(--fill-color);\n",
              "    height: 32px;\n",
              "    padding: 0;\n",
              "    width: 32px;\n",
              "  }\n",
              "\n",
              "  .colab-df-quickchart:hover {\n",
              "    background-color: var(--hover-bg-color);\n",
              "    box-shadow: 0 1px 2px rgba(60, 64, 67, 0.3), 0 1px 3px 1px rgba(60, 64, 67, 0.15);\n",
              "    fill: var(--button-hover-fill-color);\n",
              "  }\n",
              "\n",
              "  .colab-df-quickchart-complete:disabled,\n",
              "  .colab-df-quickchart-complete:disabled:hover {\n",
              "    background-color: var(--disabled-bg-color);\n",
              "    fill: var(--disabled-fill-color);\n",
              "    box-shadow: none;\n",
              "  }\n",
              "\n",
              "  .colab-df-spinner {\n",
              "    border: 2px solid var(--fill-color);\n",
              "    border-color: transparent;\n",
              "    border-bottom-color: var(--fill-color);\n",
              "    animation:\n",
              "      spin 1s steps(1) infinite;\n",
              "  }\n",
              "\n",
              "  @keyframes spin {\n",
              "    0% {\n",
              "      border-color: transparent;\n",
              "      border-bottom-color: var(--fill-color);\n",
              "      border-left-color: var(--fill-color);\n",
              "    }\n",
              "    20% {\n",
              "      border-color: transparent;\n",
              "      border-left-color: var(--fill-color);\n",
              "      border-top-color: var(--fill-color);\n",
              "    }\n",
              "    30% {\n",
              "      border-color: transparent;\n",
              "      border-left-color: var(--fill-color);\n",
              "      border-top-color: var(--fill-color);\n",
              "      border-right-color: var(--fill-color);\n",
              "    }\n",
              "    40% {\n",
              "      border-color: transparent;\n",
              "      border-right-color: var(--fill-color);\n",
              "      border-top-color: var(--fill-color);\n",
              "    }\n",
              "    60% {\n",
              "      border-color: transparent;\n",
              "      border-right-color: var(--fill-color);\n",
              "    }\n",
              "    80% {\n",
              "      border-color: transparent;\n",
              "      border-right-color: var(--fill-color);\n",
              "      border-bottom-color: var(--fill-color);\n",
              "    }\n",
              "    90% {\n",
              "      border-color: transparent;\n",
              "      border-bottom-color: var(--fill-color);\n",
              "    }\n",
              "  }\n",
              "</style>\n",
              "\n",
              "  <script>\n",
              "    async function quickchart(key) {\n",
              "      const quickchartButtonEl =\n",
              "        document.querySelector('#' + key + ' button');\n",
              "      quickchartButtonEl.disabled = true;  // To prevent multiple clicks.\n",
              "      quickchartButtonEl.classList.add('colab-df-spinner');\n",
              "      try {\n",
              "        const charts = await google.colab.kernel.invokeFunction(\n",
              "            'suggestCharts', [key], {});\n",
              "      } catch (error) {\n",
              "        console.error('Error during call to suggestCharts:', error);\n",
              "      }\n",
              "      quickchartButtonEl.classList.remove('colab-df-spinner');\n",
              "      quickchartButtonEl.classList.add('colab-df-quickchart-complete');\n",
              "    }\n",
              "    (() => {\n",
              "      let quickchartButtonEl =\n",
              "        document.querySelector('#df-ff794890-3945-41da-b8bf-15df73cd762f button');\n",
              "      quickchartButtonEl.style.display =\n",
              "        google.colab.kernel.accessAllowed ? 'block' : 'none';\n",
              "    })();\n",
              "  </script>\n",
              "</div>\n",
              "    </div>\n",
              "  </div>\n"
            ],
            "application/vnd.google.colaboratory.intrinsic+json": {
              "type": "dataframe",
              "variable_name": "hustle_players"
            }
          },
          "metadata": {},
          "execution_count": 32
        },
        {
          "output_type": "stream",
          "name": "stdout",
          "text": [
            "Warning: Total number of columns (30) exceeds max_columns (20) limiting to first (20) columns.\n"
          ]
        }
      ]
    },
    {
      "cell_type": "markdown",
      "source": [
        "Bools are True or False. True is 1, and False is 0. The key words True and False cannot be variables"
      ],
      "metadata": {
        "id": "cqNSRXlKLjzY"
      }
    },
    {
      "cell_type": "code",
      "source": [
        "True = 2"
      ],
      "metadata": {
        "id": "IMkoHCnxNBlT",
        "colab": {
          "base_uri": "https://localhost:8080/",
          "height": 108
        },
        "outputId": "8d6f40d1-f3ea-4e4f-c2a1-a9799a7af9c1"
      },
      "execution_count": null,
      "outputs": [
        {
          "output_type": "error",
          "ename": "SyntaxError",
          "evalue": "cannot assign to True (<ipython-input-33-da3e5402d318>, line 1)",
          "traceback": [
            "\u001b[0;36m  File \u001b[0;32m\"<ipython-input-33-da3e5402d318>\"\u001b[0;36m, line \u001b[0;32m1\u001b[0m\n\u001b[0;31m    True = 2\u001b[0m\n\u001b[0m    ^\u001b[0m\n\u001b[0;31mSyntaxError\u001b[0m\u001b[0;31m:\u001b[0m cannot assign to True\n"
          ]
        }
      ]
    },
    {
      "cell_type": "markdown",
      "source": [
        "They come into play when I apply boolean operators. For example, if I want to know if 5 equals 5."
      ],
      "metadata": {
        "id": "CAm_sVCKNjhj"
      }
    },
    {
      "cell_type": "code",
      "source": [
        "#does 5 equal 5?\n",
        "5 == 5"
      ],
      "metadata": {
        "id": "pHII6IpJNsqH"
      },
      "execution_count": null,
      "outputs": []
    },
    {
      "cell_type": "code",
      "source": [
        "#does 5 equal 'five'?\n",
        "5 == 'five'"
      ],
      "metadata": {
        "id": "tJc4gWaEN1NC"
      },
      "execution_count": null,
      "outputs": []
    },
    {
      "cell_type": "markdown",
      "source": [
        "True and False are also the numbers 1 and 0 respectively. This can come in handy"
      ],
      "metadata": {
        "id": "vhEu9RJ6N-0P"
      }
    },
    {
      "cell_type": "code",
      "source": [
        "#True equals 1\n",
        "True == 1"
      ],
      "metadata": {
        "id": "0lX5v4HsOFsr"
      },
      "execution_count": null,
      "outputs": []
    },
    {
      "cell_type": "code",
      "source": [
        "#True not equaling 1 is False\n",
        "True != 1"
      ],
      "metadata": {
        "id": "ZaXQGv0xOMST"
      },
      "execution_count": null,
      "outputs": []
    },
    {
      "cell_type": "code",
      "source": [
        "#Adding bools counts the number of trues\n",
        "False + True + True + False + False"
      ],
      "metadata": {
        "id": "VZLlermvOqPf"
      },
      "execution_count": null,
      "outputs": []
    },
    {
      "cell_type": "markdown",
      "source": [
        "Here's an example each of and, or, and not."
      ],
      "metadata": {
        "id": "nyoZmvB0O8ap"
      }
    },
    {
      "cell_type": "code",
      "source": [
        "#both sides must be true for and\n",
        "(True == 1) and (False != 0)"
      ],
      "metadata": {
        "id": "P9d-EEnyPBrx"
      },
      "execution_count": null,
      "outputs": []
    },
    {
      "cell_type": "code",
      "source": [
        "#only one side (or more) needs to be true for or\n",
        "(True == 1) or (False != 0)"
      ],
      "metadata": {
        "id": "Ukyk9iqwPWbI"
      },
      "execution_count": null,
      "outputs": []
    },
    {
      "cell_type": "code",
      "source": [
        "#not swaps True for False, and False for True\n",
        "not 0, not False"
      ],
      "metadata": {
        "id": "B86v6IJXPc9n"
      },
      "execution_count": null,
      "outputs": []
    },
    {
      "cell_type": "markdown",
      "source": [
        "Here are the other four boolean operations."
      ],
      "metadata": {
        "id": "yT-aKlvBQCD-"
      }
    },
    {
      "cell_type": "code",
      "source": [
        "#strictly less than, and strickly greater than\n",
        "0 < 0, 4 > 5"
      ],
      "metadata": {
        "id": "6gbLhA01QGO4"
      },
      "execution_count": null,
      "outputs": []
    },
    {
      "cell_type": "code",
      "source": [
        "#less than or equal to, and greater than or equal to\n",
        "5 <= 5, 6 >= 5"
      ],
      "metadata": {
        "id": "315B_UvnQVsl"
      },
      "execution_count": null,
      "outputs": []
    },
    {
      "cell_type": "markdown",
      "source": [
        "Now that you know what bools are, use my example query from above to complete the task below."
      ],
      "metadata": {
        "id": "jBzfaRgISPH-"
      }
    },
    {
      "cell_type": "markdown",
      "source": [
        "**Task10**:\n",
        "\n",
        "Find all the players that have played more than 41 games (G), and have more turn overs (TOV) than assists (AST)."
      ],
      "metadata": {
        "id": "cofxFtMVXVEq"
      }
    },
    {
      "cell_type": "code",
      "source": [
        "#ANSWER10\n",
        "hustle_players = basketball.query('G > 41 and TOV > AST')\n",
        "hustle_players\n",
        "#[*write your answer here*]"
      ],
      "metadata": {
        "id": "R-6NsnAaYTge",
        "colab": {
          "base_uri": "https://localhost:8080/",
          "height": 800
        },
        "outputId": "21b242a9-45d1-4105-df32-8422eada0d88"
      },
      "execution_count": null,
      "outputs": [
        {
          "output_type": "execute_result",
          "data": {
            "text/plain": [
              "                Player    Pos  Age   Tm   G  GS    MP   FG   FGA    FG%  ...  \\\n",
              "16       Deandre Ayton      C   25  POR  55  55  1784  427   749  0.570  ...   \n",
              "19   Marvin Bagley III      C   24  TOT  50  25  1053  239   408  0.586  ...   \n",
              "50    Bojan Bogdanović  SF-PF   34  TOT  57  27  1478  309   681  0.454  ...   \n",
              "51             Bol Bol     PF   24  PHO  43   0   469   93   151  0.616  ...   \n",
              "55       Chris Boucher     PF   31  TOR  50   0   705  110   217  0.507  ...   \n",
              "101       John Collins     PF   26  UTA  68  66  1901  397   746  0.532  ...   \n",
              "132     Andre Drummond      C   30  CHI  79  10  1351  267   480  0.556  ...   \n",
              "175        Rudy Gobert      C   31  MIN  76  76  2593  406   614  0.661  ...   \n",
              "210       Jaxson Hayes      C   23  LAL  70   5   877  126   175  0.720  ...   \n",
              "242      GG Jackson II     PF   19  MEM  48  18  1233  241   563  0.428  ...   \n",
              "244  Jaren Jackson Jr.      C   24  MEM  66  66  2124  516  1162  0.444  ...   \n",
              "275     Walker Kessler      C   22  UTA  64  22  1493  229   350  0.654  ...   \n",
              "331       JaVale McGee      C   36  SAC  46   0   339   79   132  0.598  ...   \n",
              "337      Chimezie Metu      C   26  TOT  51  12   859  123   244  0.504  ...   \n",
              "427           Naz Reid      C   24  MIN  81  14  1964  406   851  0.477  ...   \n",
              "429      Nick Richards      C   26  CHO  67  51  1759  260   376  0.691  ...   \n",
              "444       Luka Šamanić     PF   24  UTA  43   7   404   60   158  0.380  ...   \n",
              "509       Myles Turner      C   27  IND  77  77  2076  476   909  0.524  ...   \n",
              "522      Moritz Wagner      C   26  ORL  80   1  1415  332   552  0.601  ...   \n",
              "542       Cam Whitmore     SF   19  HOU  47   2   880  212   467  0.454  ...   \n",
              "563      James Wiseman      C   22  DET  63   6  1091  187   305  0.613  ...   \n",
              "565     Christian Wood     PF   28  LAL  50   1   872  123   264  0.466  ...   \n",
              "569     Omer Yurtseven      C   25  UTA  48  12   545   99   184  0.538  ...   \n",
              "\n",
              "     ORB  DRB  TRB  AST  STL  BLK  TOV   PF   PTS  Player-additional  \n",
              "16   176  433  609   90   56   42   99  109   920          aytonde01  \n",
              "19   130  182  312   55   20   33   59   81   583          baglema01  \n",
              "50    22  130  152   97   30    5  101   95   868          bogdabo02  \n",
              "51    32  105  137   17   10   25   19   42   223            bolbo01  \n",
              "55    62  145  207   23   14   24   28   68   322          bouchch01  \n",
              "101  157  418  575   77   40   61   98  191  1027          collijo01  \n",
              "132  265  443  708   37   73   48   81  140   663          drumman01  \n",
              "175  285  697  982  102   52  162  118  238  1061          goberru01  \n",
              "210   69  142  211   33   34   29   43  123   303          hayesja02  \n",
              "242   53  143  196   59   28   24   65   64   699          jacksgg01  \n",
              "244   85  280  365  154   80  106  160  235  1486          jacksja02  \n",
              "275  165  316  481   60   30  154   66  132   518          kesslwa01  \n",
              "331   42   84  126   17   14   20   34   46   185          mcgeeja01  \n",
              "337   41  153  194   46   43   16   52   71   332           metuch01  \n",
              "427   73  350  423  106   63   73  111  172  1090           reidna01  \n",
              "429  172  367  539   54   26   74   73  176   652          richani01  \n",
              "444   22   80  102   19    5    7   28   32   177          samanlu01  \n",
              "509  113  420  533  100   39  144  109  232  1313          turnemy01  \n",
              "522  117  230  347   96   39   21   97  160   868          wagnemo01  \n",
              "542   44  136  180   33   30   17   46   64   579          whitmca01  \n",
              "563  110  226  336   54   12   39   66  141   446          wisemja01  \n",
              "565   39  215  254   49   16   33   50   72   347           woodch01  \n",
              "569   72  136  208   29    8   18   37   52   222          yurtsom01  \n",
              "\n",
              "[23 rows x 30 columns]"
            ],
            "text/html": [
              "\n",
              "  <div id=\"df-a1cb3425-b4d5-4a0a-899b-aee90e3b6ffa\" class=\"colab-df-container\">\n",
              "    <div>\n",
              "<style scoped>\n",
              "    .dataframe tbody tr th:only-of-type {\n",
              "        vertical-align: middle;\n",
              "    }\n",
              "\n",
              "    .dataframe tbody tr th {\n",
              "        vertical-align: top;\n",
              "    }\n",
              "\n",
              "    .dataframe thead th {\n",
              "        text-align: right;\n",
              "    }\n",
              "</style>\n",
              "<table border=\"1\" class=\"dataframe\">\n",
              "  <thead>\n",
              "    <tr style=\"text-align: right;\">\n",
              "      <th></th>\n",
              "      <th>Player</th>\n",
              "      <th>Pos</th>\n",
              "      <th>Age</th>\n",
              "      <th>Tm</th>\n",
              "      <th>G</th>\n",
              "      <th>GS</th>\n",
              "      <th>MP</th>\n",
              "      <th>FG</th>\n",
              "      <th>FGA</th>\n",
              "      <th>FG%</th>\n",
              "      <th>...</th>\n",
              "      <th>ORB</th>\n",
              "      <th>DRB</th>\n",
              "      <th>TRB</th>\n",
              "      <th>AST</th>\n",
              "      <th>STL</th>\n",
              "      <th>BLK</th>\n",
              "      <th>TOV</th>\n",
              "      <th>PF</th>\n",
              "      <th>PTS</th>\n",
              "      <th>Player-additional</th>\n",
              "    </tr>\n",
              "  </thead>\n",
              "  <tbody>\n",
              "    <tr>\n",
              "      <th>16</th>\n",
              "      <td>Deandre Ayton</td>\n",
              "      <td>C</td>\n",
              "      <td>25</td>\n",
              "      <td>POR</td>\n",
              "      <td>55</td>\n",
              "      <td>55</td>\n",
              "      <td>1784</td>\n",
              "      <td>427</td>\n",
              "      <td>749</td>\n",
              "      <td>0.570</td>\n",
              "      <td>...</td>\n",
              "      <td>176</td>\n",
              "      <td>433</td>\n",
              "      <td>609</td>\n",
              "      <td>90</td>\n",
              "      <td>56</td>\n",
              "      <td>42</td>\n",
              "      <td>99</td>\n",
              "      <td>109</td>\n",
              "      <td>920</td>\n",
              "      <td>aytonde01</td>\n",
              "    </tr>\n",
              "    <tr>\n",
              "      <th>19</th>\n",
              "      <td>Marvin Bagley III</td>\n",
              "      <td>C</td>\n",
              "      <td>24</td>\n",
              "      <td>TOT</td>\n",
              "      <td>50</td>\n",
              "      <td>25</td>\n",
              "      <td>1053</td>\n",
              "      <td>239</td>\n",
              "      <td>408</td>\n",
              "      <td>0.586</td>\n",
              "      <td>...</td>\n",
              "      <td>130</td>\n",
              "      <td>182</td>\n",
              "      <td>312</td>\n",
              "      <td>55</td>\n",
              "      <td>20</td>\n",
              "      <td>33</td>\n",
              "      <td>59</td>\n",
              "      <td>81</td>\n",
              "      <td>583</td>\n",
              "      <td>baglema01</td>\n",
              "    </tr>\n",
              "    <tr>\n",
              "      <th>50</th>\n",
              "      <td>Bojan Bogdanović</td>\n",
              "      <td>SF-PF</td>\n",
              "      <td>34</td>\n",
              "      <td>TOT</td>\n",
              "      <td>57</td>\n",
              "      <td>27</td>\n",
              "      <td>1478</td>\n",
              "      <td>309</td>\n",
              "      <td>681</td>\n",
              "      <td>0.454</td>\n",
              "      <td>...</td>\n",
              "      <td>22</td>\n",
              "      <td>130</td>\n",
              "      <td>152</td>\n",
              "      <td>97</td>\n",
              "      <td>30</td>\n",
              "      <td>5</td>\n",
              "      <td>101</td>\n",
              "      <td>95</td>\n",
              "      <td>868</td>\n",
              "      <td>bogdabo02</td>\n",
              "    </tr>\n",
              "    <tr>\n",
              "      <th>51</th>\n",
              "      <td>Bol Bol</td>\n",
              "      <td>PF</td>\n",
              "      <td>24</td>\n",
              "      <td>PHO</td>\n",
              "      <td>43</td>\n",
              "      <td>0</td>\n",
              "      <td>469</td>\n",
              "      <td>93</td>\n",
              "      <td>151</td>\n",
              "      <td>0.616</td>\n",
              "      <td>...</td>\n",
              "      <td>32</td>\n",
              "      <td>105</td>\n",
              "      <td>137</td>\n",
              "      <td>17</td>\n",
              "      <td>10</td>\n",
              "      <td>25</td>\n",
              "      <td>19</td>\n",
              "      <td>42</td>\n",
              "      <td>223</td>\n",
              "      <td>bolbo01</td>\n",
              "    </tr>\n",
              "    <tr>\n",
              "      <th>55</th>\n",
              "      <td>Chris Boucher</td>\n",
              "      <td>PF</td>\n",
              "      <td>31</td>\n",
              "      <td>TOR</td>\n",
              "      <td>50</td>\n",
              "      <td>0</td>\n",
              "      <td>705</td>\n",
              "      <td>110</td>\n",
              "      <td>217</td>\n",
              "      <td>0.507</td>\n",
              "      <td>...</td>\n",
              "      <td>62</td>\n",
              "      <td>145</td>\n",
              "      <td>207</td>\n",
              "      <td>23</td>\n",
              "      <td>14</td>\n",
              "      <td>24</td>\n",
              "      <td>28</td>\n",
              "      <td>68</td>\n",
              "      <td>322</td>\n",
              "      <td>bouchch01</td>\n",
              "    </tr>\n",
              "    <tr>\n",
              "      <th>101</th>\n",
              "      <td>John Collins</td>\n",
              "      <td>PF</td>\n",
              "      <td>26</td>\n",
              "      <td>UTA</td>\n",
              "      <td>68</td>\n",
              "      <td>66</td>\n",
              "      <td>1901</td>\n",
              "      <td>397</td>\n",
              "      <td>746</td>\n",
              "      <td>0.532</td>\n",
              "      <td>...</td>\n",
              "      <td>157</td>\n",
              "      <td>418</td>\n",
              "      <td>575</td>\n",
              "      <td>77</td>\n",
              "      <td>40</td>\n",
              "      <td>61</td>\n",
              "      <td>98</td>\n",
              "      <td>191</td>\n",
              "      <td>1027</td>\n",
              "      <td>collijo01</td>\n",
              "    </tr>\n",
              "    <tr>\n",
              "      <th>132</th>\n",
              "      <td>Andre Drummond</td>\n",
              "      <td>C</td>\n",
              "      <td>30</td>\n",
              "      <td>CHI</td>\n",
              "      <td>79</td>\n",
              "      <td>10</td>\n",
              "      <td>1351</td>\n",
              "      <td>267</td>\n",
              "      <td>480</td>\n",
              "      <td>0.556</td>\n",
              "      <td>...</td>\n",
              "      <td>265</td>\n",
              "      <td>443</td>\n",
              "      <td>708</td>\n",
              "      <td>37</td>\n",
              "      <td>73</td>\n",
              "      <td>48</td>\n",
              "      <td>81</td>\n",
              "      <td>140</td>\n",
              "      <td>663</td>\n",
              "      <td>drumman01</td>\n",
              "    </tr>\n",
              "    <tr>\n",
              "      <th>175</th>\n",
              "      <td>Rudy Gobert</td>\n",
              "      <td>C</td>\n",
              "      <td>31</td>\n",
              "      <td>MIN</td>\n",
              "      <td>76</td>\n",
              "      <td>76</td>\n",
              "      <td>2593</td>\n",
              "      <td>406</td>\n",
              "      <td>614</td>\n",
              "      <td>0.661</td>\n",
              "      <td>...</td>\n",
              "      <td>285</td>\n",
              "      <td>697</td>\n",
              "      <td>982</td>\n",
              "      <td>102</td>\n",
              "      <td>52</td>\n",
              "      <td>162</td>\n",
              "      <td>118</td>\n",
              "      <td>238</td>\n",
              "      <td>1061</td>\n",
              "      <td>goberru01</td>\n",
              "    </tr>\n",
              "    <tr>\n",
              "      <th>210</th>\n",
              "      <td>Jaxson Hayes</td>\n",
              "      <td>C</td>\n",
              "      <td>23</td>\n",
              "      <td>LAL</td>\n",
              "      <td>70</td>\n",
              "      <td>5</td>\n",
              "      <td>877</td>\n",
              "      <td>126</td>\n",
              "      <td>175</td>\n",
              "      <td>0.720</td>\n",
              "      <td>...</td>\n",
              "      <td>69</td>\n",
              "      <td>142</td>\n",
              "      <td>211</td>\n",
              "      <td>33</td>\n",
              "      <td>34</td>\n",
              "      <td>29</td>\n",
              "      <td>43</td>\n",
              "      <td>123</td>\n",
              "      <td>303</td>\n",
              "      <td>hayesja02</td>\n",
              "    </tr>\n",
              "    <tr>\n",
              "      <th>242</th>\n",
              "      <td>GG Jackson II</td>\n",
              "      <td>PF</td>\n",
              "      <td>19</td>\n",
              "      <td>MEM</td>\n",
              "      <td>48</td>\n",
              "      <td>18</td>\n",
              "      <td>1233</td>\n",
              "      <td>241</td>\n",
              "      <td>563</td>\n",
              "      <td>0.428</td>\n",
              "      <td>...</td>\n",
              "      <td>53</td>\n",
              "      <td>143</td>\n",
              "      <td>196</td>\n",
              "      <td>59</td>\n",
              "      <td>28</td>\n",
              "      <td>24</td>\n",
              "      <td>65</td>\n",
              "      <td>64</td>\n",
              "      <td>699</td>\n",
              "      <td>jacksgg01</td>\n",
              "    </tr>\n",
              "    <tr>\n",
              "      <th>244</th>\n",
              "      <td>Jaren Jackson Jr.</td>\n",
              "      <td>C</td>\n",
              "      <td>24</td>\n",
              "      <td>MEM</td>\n",
              "      <td>66</td>\n",
              "      <td>66</td>\n",
              "      <td>2124</td>\n",
              "      <td>516</td>\n",
              "      <td>1162</td>\n",
              "      <td>0.444</td>\n",
              "      <td>...</td>\n",
              "      <td>85</td>\n",
              "      <td>280</td>\n",
              "      <td>365</td>\n",
              "      <td>154</td>\n",
              "      <td>80</td>\n",
              "      <td>106</td>\n",
              "      <td>160</td>\n",
              "      <td>235</td>\n",
              "      <td>1486</td>\n",
              "      <td>jacksja02</td>\n",
              "    </tr>\n",
              "    <tr>\n",
              "      <th>275</th>\n",
              "      <td>Walker Kessler</td>\n",
              "      <td>C</td>\n",
              "      <td>22</td>\n",
              "      <td>UTA</td>\n",
              "      <td>64</td>\n",
              "      <td>22</td>\n",
              "      <td>1493</td>\n",
              "      <td>229</td>\n",
              "      <td>350</td>\n",
              "      <td>0.654</td>\n",
              "      <td>...</td>\n",
              "      <td>165</td>\n",
              "      <td>316</td>\n",
              "      <td>481</td>\n",
              "      <td>60</td>\n",
              "      <td>30</td>\n",
              "      <td>154</td>\n",
              "      <td>66</td>\n",
              "      <td>132</td>\n",
              "      <td>518</td>\n",
              "      <td>kesslwa01</td>\n",
              "    </tr>\n",
              "    <tr>\n",
              "      <th>331</th>\n",
              "      <td>JaVale McGee</td>\n",
              "      <td>C</td>\n",
              "      <td>36</td>\n",
              "      <td>SAC</td>\n",
              "      <td>46</td>\n",
              "      <td>0</td>\n",
              "      <td>339</td>\n",
              "      <td>79</td>\n",
              "      <td>132</td>\n",
              "      <td>0.598</td>\n",
              "      <td>...</td>\n",
              "      <td>42</td>\n",
              "      <td>84</td>\n",
              "      <td>126</td>\n",
              "      <td>17</td>\n",
              "      <td>14</td>\n",
              "      <td>20</td>\n",
              "      <td>34</td>\n",
              "      <td>46</td>\n",
              "      <td>185</td>\n",
              "      <td>mcgeeja01</td>\n",
              "    </tr>\n",
              "    <tr>\n",
              "      <th>337</th>\n",
              "      <td>Chimezie Metu</td>\n",
              "      <td>C</td>\n",
              "      <td>26</td>\n",
              "      <td>TOT</td>\n",
              "      <td>51</td>\n",
              "      <td>12</td>\n",
              "      <td>859</td>\n",
              "      <td>123</td>\n",
              "      <td>244</td>\n",
              "      <td>0.504</td>\n",
              "      <td>...</td>\n",
              "      <td>41</td>\n",
              "      <td>153</td>\n",
              "      <td>194</td>\n",
              "      <td>46</td>\n",
              "      <td>43</td>\n",
              "      <td>16</td>\n",
              "      <td>52</td>\n",
              "      <td>71</td>\n",
              "      <td>332</td>\n",
              "      <td>metuch01</td>\n",
              "    </tr>\n",
              "    <tr>\n",
              "      <th>427</th>\n",
              "      <td>Naz Reid</td>\n",
              "      <td>C</td>\n",
              "      <td>24</td>\n",
              "      <td>MIN</td>\n",
              "      <td>81</td>\n",
              "      <td>14</td>\n",
              "      <td>1964</td>\n",
              "      <td>406</td>\n",
              "      <td>851</td>\n",
              "      <td>0.477</td>\n",
              "      <td>...</td>\n",
              "      <td>73</td>\n",
              "      <td>350</td>\n",
              "      <td>423</td>\n",
              "      <td>106</td>\n",
              "      <td>63</td>\n",
              "      <td>73</td>\n",
              "      <td>111</td>\n",
              "      <td>172</td>\n",
              "      <td>1090</td>\n",
              "      <td>reidna01</td>\n",
              "    </tr>\n",
              "    <tr>\n",
              "      <th>429</th>\n",
              "      <td>Nick Richards</td>\n",
              "      <td>C</td>\n",
              "      <td>26</td>\n",
              "      <td>CHO</td>\n",
              "      <td>67</td>\n",
              "      <td>51</td>\n",
              "      <td>1759</td>\n",
              "      <td>260</td>\n",
              "      <td>376</td>\n",
              "      <td>0.691</td>\n",
              "      <td>...</td>\n",
              "      <td>172</td>\n",
              "      <td>367</td>\n",
              "      <td>539</td>\n",
              "      <td>54</td>\n",
              "      <td>26</td>\n",
              "      <td>74</td>\n",
              "      <td>73</td>\n",
              "      <td>176</td>\n",
              "      <td>652</td>\n",
              "      <td>richani01</td>\n",
              "    </tr>\n",
              "    <tr>\n",
              "      <th>444</th>\n",
              "      <td>Luka Šamanić</td>\n",
              "      <td>PF</td>\n",
              "      <td>24</td>\n",
              "      <td>UTA</td>\n",
              "      <td>43</td>\n",
              "      <td>7</td>\n",
              "      <td>404</td>\n",
              "      <td>60</td>\n",
              "      <td>158</td>\n",
              "      <td>0.380</td>\n",
              "      <td>...</td>\n",
              "      <td>22</td>\n",
              "      <td>80</td>\n",
              "      <td>102</td>\n",
              "      <td>19</td>\n",
              "      <td>5</td>\n",
              "      <td>7</td>\n",
              "      <td>28</td>\n",
              "      <td>32</td>\n",
              "      <td>177</td>\n",
              "      <td>samanlu01</td>\n",
              "    </tr>\n",
              "    <tr>\n",
              "      <th>509</th>\n",
              "      <td>Myles Turner</td>\n",
              "      <td>C</td>\n",
              "      <td>27</td>\n",
              "      <td>IND</td>\n",
              "      <td>77</td>\n",
              "      <td>77</td>\n",
              "      <td>2076</td>\n",
              "      <td>476</td>\n",
              "      <td>909</td>\n",
              "      <td>0.524</td>\n",
              "      <td>...</td>\n",
              "      <td>113</td>\n",
              "      <td>420</td>\n",
              "      <td>533</td>\n",
              "      <td>100</td>\n",
              "      <td>39</td>\n",
              "      <td>144</td>\n",
              "      <td>109</td>\n",
              "      <td>232</td>\n",
              "      <td>1313</td>\n",
              "      <td>turnemy01</td>\n",
              "    </tr>\n",
              "    <tr>\n",
              "      <th>522</th>\n",
              "      <td>Moritz Wagner</td>\n",
              "      <td>C</td>\n",
              "      <td>26</td>\n",
              "      <td>ORL</td>\n",
              "      <td>80</td>\n",
              "      <td>1</td>\n",
              "      <td>1415</td>\n",
              "      <td>332</td>\n",
              "      <td>552</td>\n",
              "      <td>0.601</td>\n",
              "      <td>...</td>\n",
              "      <td>117</td>\n",
              "      <td>230</td>\n",
              "      <td>347</td>\n",
              "      <td>96</td>\n",
              "      <td>39</td>\n",
              "      <td>21</td>\n",
              "      <td>97</td>\n",
              "      <td>160</td>\n",
              "      <td>868</td>\n",
              "      <td>wagnemo01</td>\n",
              "    </tr>\n",
              "    <tr>\n",
              "      <th>542</th>\n",
              "      <td>Cam Whitmore</td>\n",
              "      <td>SF</td>\n",
              "      <td>19</td>\n",
              "      <td>HOU</td>\n",
              "      <td>47</td>\n",
              "      <td>2</td>\n",
              "      <td>880</td>\n",
              "      <td>212</td>\n",
              "      <td>467</td>\n",
              "      <td>0.454</td>\n",
              "      <td>...</td>\n",
              "      <td>44</td>\n",
              "      <td>136</td>\n",
              "      <td>180</td>\n",
              "      <td>33</td>\n",
              "      <td>30</td>\n",
              "      <td>17</td>\n",
              "      <td>46</td>\n",
              "      <td>64</td>\n",
              "      <td>579</td>\n",
              "      <td>whitmca01</td>\n",
              "    </tr>\n",
              "    <tr>\n",
              "      <th>563</th>\n",
              "      <td>James Wiseman</td>\n",
              "      <td>C</td>\n",
              "      <td>22</td>\n",
              "      <td>DET</td>\n",
              "      <td>63</td>\n",
              "      <td>6</td>\n",
              "      <td>1091</td>\n",
              "      <td>187</td>\n",
              "      <td>305</td>\n",
              "      <td>0.613</td>\n",
              "      <td>...</td>\n",
              "      <td>110</td>\n",
              "      <td>226</td>\n",
              "      <td>336</td>\n",
              "      <td>54</td>\n",
              "      <td>12</td>\n",
              "      <td>39</td>\n",
              "      <td>66</td>\n",
              "      <td>141</td>\n",
              "      <td>446</td>\n",
              "      <td>wisemja01</td>\n",
              "    </tr>\n",
              "    <tr>\n",
              "      <th>565</th>\n",
              "      <td>Christian Wood</td>\n",
              "      <td>PF</td>\n",
              "      <td>28</td>\n",
              "      <td>LAL</td>\n",
              "      <td>50</td>\n",
              "      <td>1</td>\n",
              "      <td>872</td>\n",
              "      <td>123</td>\n",
              "      <td>264</td>\n",
              "      <td>0.466</td>\n",
              "      <td>...</td>\n",
              "      <td>39</td>\n",
              "      <td>215</td>\n",
              "      <td>254</td>\n",
              "      <td>49</td>\n",
              "      <td>16</td>\n",
              "      <td>33</td>\n",
              "      <td>50</td>\n",
              "      <td>72</td>\n",
              "      <td>347</td>\n",
              "      <td>woodch01</td>\n",
              "    </tr>\n",
              "    <tr>\n",
              "      <th>569</th>\n",
              "      <td>Omer Yurtseven</td>\n",
              "      <td>C</td>\n",
              "      <td>25</td>\n",
              "      <td>UTA</td>\n",
              "      <td>48</td>\n",
              "      <td>12</td>\n",
              "      <td>545</td>\n",
              "      <td>99</td>\n",
              "      <td>184</td>\n",
              "      <td>0.538</td>\n",
              "      <td>...</td>\n",
              "      <td>72</td>\n",
              "      <td>136</td>\n",
              "      <td>208</td>\n",
              "      <td>29</td>\n",
              "      <td>8</td>\n",
              "      <td>18</td>\n",
              "      <td>37</td>\n",
              "      <td>52</td>\n",
              "      <td>222</td>\n",
              "      <td>yurtsom01</td>\n",
              "    </tr>\n",
              "  </tbody>\n",
              "</table>\n",
              "<p>23 rows × 30 columns</p>\n",
              "</div>\n",
              "    <div class=\"colab-df-buttons\">\n",
              "\n",
              "  <div class=\"colab-df-container\">\n",
              "    <button class=\"colab-df-convert\" onclick=\"convertToInteractive('df-a1cb3425-b4d5-4a0a-899b-aee90e3b6ffa')\"\n",
              "            title=\"Convert this dataframe to an interactive table.\"\n",
              "            style=\"display:none;\">\n",
              "\n",
              "  <svg xmlns=\"http://www.w3.org/2000/svg\" height=\"24px\" viewBox=\"0 -960 960 960\">\n",
              "    <path d=\"M120-120v-720h720v720H120Zm60-500h600v-160H180v160Zm220 220h160v-160H400v160Zm0 220h160v-160H400v160ZM180-400h160v-160H180v160Zm440 0h160v-160H620v160ZM180-180h160v-160H180v160Zm440 0h160v-160H620v160Z\"/>\n",
              "  </svg>\n",
              "    </button>\n",
              "\n",
              "  <style>\n",
              "    .colab-df-container {\n",
              "      display:flex;\n",
              "      gap: 12px;\n",
              "    }\n",
              "\n",
              "    .colab-df-convert {\n",
              "      background-color: #E8F0FE;\n",
              "      border: none;\n",
              "      border-radius: 50%;\n",
              "      cursor: pointer;\n",
              "      display: none;\n",
              "      fill: #1967D2;\n",
              "      height: 32px;\n",
              "      padding: 0 0 0 0;\n",
              "      width: 32px;\n",
              "    }\n",
              "\n",
              "    .colab-df-convert:hover {\n",
              "      background-color: #E2EBFA;\n",
              "      box-shadow: 0px 1px 2px rgba(60, 64, 67, 0.3), 0px 1px 3px 1px rgba(60, 64, 67, 0.15);\n",
              "      fill: #174EA6;\n",
              "    }\n",
              "\n",
              "    .colab-df-buttons div {\n",
              "      margin-bottom: 4px;\n",
              "    }\n",
              "\n",
              "    [theme=dark] .colab-df-convert {\n",
              "      background-color: #3B4455;\n",
              "      fill: #D2E3FC;\n",
              "    }\n",
              "\n",
              "    [theme=dark] .colab-df-convert:hover {\n",
              "      background-color: #434B5C;\n",
              "      box-shadow: 0px 1px 3px 1px rgba(0, 0, 0, 0.15);\n",
              "      filter: drop-shadow(0px 1px 2px rgba(0, 0, 0, 0.3));\n",
              "      fill: #FFFFFF;\n",
              "    }\n",
              "  </style>\n",
              "\n",
              "    <script>\n",
              "      const buttonEl =\n",
              "        document.querySelector('#df-a1cb3425-b4d5-4a0a-899b-aee90e3b6ffa button.colab-df-convert');\n",
              "      buttonEl.style.display =\n",
              "        google.colab.kernel.accessAllowed ? 'block' : 'none';\n",
              "\n",
              "      async function convertToInteractive(key) {\n",
              "        const element = document.querySelector('#df-a1cb3425-b4d5-4a0a-899b-aee90e3b6ffa');\n",
              "        const dataTable =\n",
              "          await google.colab.kernel.invokeFunction('convertToInteractive',\n",
              "                                                    [key], {});\n",
              "        if (!dataTable) return;\n",
              "\n",
              "        const docLinkHtml = 'Like what you see? Visit the ' +\n",
              "          '<a target=\"_blank\" href=https://colab.research.google.com/notebooks/data_table.ipynb>data table notebook</a>'\n",
              "          + ' to learn more about interactive tables.';\n",
              "        element.innerHTML = '';\n",
              "        dataTable['output_type'] = 'display_data';\n",
              "        await google.colab.output.renderOutput(dataTable, element);\n",
              "        const docLink = document.createElement('div');\n",
              "        docLink.innerHTML = docLinkHtml;\n",
              "        element.appendChild(docLink);\n",
              "      }\n",
              "    </script>\n",
              "  </div>\n",
              "\n",
              "\n",
              "<div id=\"df-44d55a5a-b776-4bf4-9e86-1f8b6874cc23\">\n",
              "  <button class=\"colab-df-quickchart\" onclick=\"quickchart('df-44d55a5a-b776-4bf4-9e86-1f8b6874cc23')\"\n",
              "            title=\"Suggest charts\"\n",
              "            style=\"display:none;\">\n",
              "\n",
              "<svg xmlns=\"http://www.w3.org/2000/svg\" height=\"24px\"viewBox=\"0 0 24 24\"\n",
              "     width=\"24px\">\n",
              "    <g>\n",
              "        <path d=\"M19 3H5c-1.1 0-2 .9-2 2v14c0 1.1.9 2 2 2h14c1.1 0 2-.9 2-2V5c0-1.1-.9-2-2-2zM9 17H7v-7h2v7zm4 0h-2V7h2v10zm4 0h-2v-4h2v4z\"/>\n",
              "    </g>\n",
              "</svg>\n",
              "  </button>\n",
              "\n",
              "<style>\n",
              "  .colab-df-quickchart {\n",
              "      --bg-color: #E8F0FE;\n",
              "      --fill-color: #1967D2;\n",
              "      --hover-bg-color: #E2EBFA;\n",
              "      --hover-fill-color: #174EA6;\n",
              "      --disabled-fill-color: #AAA;\n",
              "      --disabled-bg-color: #DDD;\n",
              "  }\n",
              "\n",
              "  [theme=dark] .colab-df-quickchart {\n",
              "      --bg-color: #3B4455;\n",
              "      --fill-color: #D2E3FC;\n",
              "      --hover-bg-color: #434B5C;\n",
              "      --hover-fill-color: #FFFFFF;\n",
              "      --disabled-bg-color: #3B4455;\n",
              "      --disabled-fill-color: #666;\n",
              "  }\n",
              "\n",
              "  .colab-df-quickchart {\n",
              "    background-color: var(--bg-color);\n",
              "    border: none;\n",
              "    border-radius: 50%;\n",
              "    cursor: pointer;\n",
              "    display: none;\n",
              "    fill: var(--fill-color);\n",
              "    height: 32px;\n",
              "    padding: 0;\n",
              "    width: 32px;\n",
              "  }\n",
              "\n",
              "  .colab-df-quickchart:hover {\n",
              "    background-color: var(--hover-bg-color);\n",
              "    box-shadow: 0 1px 2px rgba(60, 64, 67, 0.3), 0 1px 3px 1px rgba(60, 64, 67, 0.15);\n",
              "    fill: var(--button-hover-fill-color);\n",
              "  }\n",
              "\n",
              "  .colab-df-quickchart-complete:disabled,\n",
              "  .colab-df-quickchart-complete:disabled:hover {\n",
              "    background-color: var(--disabled-bg-color);\n",
              "    fill: var(--disabled-fill-color);\n",
              "    box-shadow: none;\n",
              "  }\n",
              "\n",
              "  .colab-df-spinner {\n",
              "    border: 2px solid var(--fill-color);\n",
              "    border-color: transparent;\n",
              "    border-bottom-color: var(--fill-color);\n",
              "    animation:\n",
              "      spin 1s steps(1) infinite;\n",
              "  }\n",
              "\n",
              "  @keyframes spin {\n",
              "    0% {\n",
              "      border-color: transparent;\n",
              "      border-bottom-color: var(--fill-color);\n",
              "      border-left-color: var(--fill-color);\n",
              "    }\n",
              "    20% {\n",
              "      border-color: transparent;\n",
              "      border-left-color: var(--fill-color);\n",
              "      border-top-color: var(--fill-color);\n",
              "    }\n",
              "    30% {\n",
              "      border-color: transparent;\n",
              "      border-left-color: var(--fill-color);\n",
              "      border-top-color: var(--fill-color);\n",
              "      border-right-color: var(--fill-color);\n",
              "    }\n",
              "    40% {\n",
              "      border-color: transparent;\n",
              "      border-right-color: var(--fill-color);\n",
              "      border-top-color: var(--fill-color);\n",
              "    }\n",
              "    60% {\n",
              "      border-color: transparent;\n",
              "      border-right-color: var(--fill-color);\n",
              "    }\n",
              "    80% {\n",
              "      border-color: transparent;\n",
              "      border-right-color: var(--fill-color);\n",
              "      border-bottom-color: var(--fill-color);\n",
              "    }\n",
              "    90% {\n",
              "      border-color: transparent;\n",
              "      border-bottom-color: var(--fill-color);\n",
              "    }\n",
              "  }\n",
              "</style>\n",
              "\n",
              "  <script>\n",
              "    async function quickchart(key) {\n",
              "      const quickchartButtonEl =\n",
              "        document.querySelector('#' + key + ' button');\n",
              "      quickchartButtonEl.disabled = true;  // To prevent multiple clicks.\n",
              "      quickchartButtonEl.classList.add('colab-df-spinner');\n",
              "      try {\n",
              "        const charts = await google.colab.kernel.invokeFunction(\n",
              "            'suggestCharts', [key], {});\n",
              "      } catch (error) {\n",
              "        console.error('Error during call to suggestCharts:', error);\n",
              "      }\n",
              "      quickchartButtonEl.classList.remove('colab-df-spinner');\n",
              "      quickchartButtonEl.classList.add('colab-df-quickchart-complete');\n",
              "    }\n",
              "    (() => {\n",
              "      let quickchartButtonEl =\n",
              "        document.querySelector('#df-44d55a5a-b776-4bf4-9e86-1f8b6874cc23 button');\n",
              "      quickchartButtonEl.style.display =\n",
              "        google.colab.kernel.accessAllowed ? 'block' : 'none';\n",
              "    })();\n",
              "  </script>\n",
              "</div>\n",
              "    </div>\n",
              "  </div>\n"
            ],
            "application/vnd.google.colaboratory.intrinsic+json": {
              "type": "dataframe",
              "variable_name": "hustle_players"
            }
          },
          "metadata": {},
          "execution_count": 37
        }
      ]
    },
    {
      "cell_type": "markdown",
      "source": [
        "## For loops\n",
        "\n",
        "Most of the time, there is some [dataframe method](https://pandas.pydata.org/docs/reference/frame.html) that does whatever we want, in terms of data wrangling.\n",
        "\n",
        "Occasionally, there will be no built in method that quite does what we need.\n",
        "\n",
        "In those cases, we will use a for loop. For loops often involve if statements, so we'll introduce those as well."
      ],
      "metadata": {
        "id": "xihD6cs1qugo"
      }
    },
    {
      "cell_type": "markdown",
      "source": [
        "I'll start with a simple example that isn't all that useful."
      ],
      "metadata": {
        "id": "21bkIGlpkARj"
      }
    },
    {
      "cell_type": "code",
      "source": [
        "#initialize a variable to update during the for loop\n",
        "x = 0\n",
        "\n",
        "#initialize an iterable to run our for loop over\n",
        "onetoten = np.arange(1,11)\n",
        "\n",
        "#the actual for loop\n",
        "for i in onetoten:\n",
        "    x = x + i"
      ],
      "metadata": {
        "id": "flrWiOtLkJyl"
      },
      "execution_count": null,
      "outputs": []
    },
    {
      "cell_type": "code",
      "source": [
        "#the sume of the numbers from one to ten\n",
        "x"
      ],
      "metadata": {
        "id": "4SvTFnAjluSn"
      },
      "execution_count": null,
      "outputs": []
    },
    {
      "cell_type": "markdown",
      "source": [
        "Most of the time, we'll avoid for loops for anything but plotting, because their are often better vectorized solutions available."
      ],
      "metadata": {
        "id": "nlsNqVjsmYOx"
      }
    },
    {
      "cell_type": "code",
      "source": [
        "#could have just used the vectroized solution\n",
        "onetoten.sum()"
      ],
      "metadata": {
        "id": "xU0F_V8AmL98"
      },
      "execution_count": null,
      "outputs": []
    },
    {
      "cell_type": "markdown",
      "source": [
        "Here's a more relevant example:\n",
        "\n",
        "While playing with the 2023/2024 NBA basketball data, I wanted to pull up Lebron James' stats. And I figured I might as well pull all the other players with James in their name, since there couldn't be that many.\n",
        "\n",
        "I searched for a while, and couldn't find a nice vectorized solution that uses the pandas methods.\n",
        "\n",
        "So I wrote this for loop. It has too new things from the previous loop:\n",
        "\n",
        "- a function, enumerate, which allows me to grab the item in my iterable and the index of that item.\n",
        "- an if statement. They work like this: if the condition in them is met, execute the indented code. If not, then continue with the rest of the for loop.\n",
        "\n",
        "Most for loops we need in this class will be at least this complicated. Usually more so."
      ],
      "metadata": {
        "id": "x0tdMXhxuaJ_"
      }
    },
    {
      "cell_type": "code",
      "source": [
        "#create an array of all zeros the same length as one of the columns in basketball\n",
        "james_index = np.zeros_like(basketball.Player)\n",
        "\n",
        "#index is the number of the row, name is the string that represents player name\n",
        "#enumerate is a function that breaks basketball.Player into index and name\n",
        "for index, name in enumerate(basketball.Player):\n",
        "\n",
        "    #if the string 'James' is in the string of player name\n",
        "    if 'James' in name:\n",
        "\n",
        "        #then put a True value, or 1, in the corresponding James index tracker\n",
        "        james_index[index] = 1\n",
        "\n",
        "#adds up the array elements of james_index\n",
        "#this helps me know if my loop went awry or not\n",
        "#but otherwise has nothing to do with the for loop.\n",
        "james_index.sum()"
      ],
      "metadata": {
        "id": "lv7xrz2xrllT",
        "colab": {
          "base_uri": "https://localhost:8080/"
        },
        "outputId": "3af05075-8da6-47c0-88b7-b8422132f783"
      },
      "execution_count": null,
      "outputs": [
        {
          "output_type": "execute_result",
          "data": {
            "text/plain": [
              "5"
            ]
          },
          "metadata": {},
          "execution_count": 51
        }
      ]
    },
    {
      "cell_type": "code",
      "source": [
        "#always a good idea to print out any data set you've created\n",
        "#even if you're expecting it to be uninteresting\n",
        "james_index"
      ],
      "metadata": {
        "id": "pyusseuFzHyl",
        "colab": {
          "base_uri": "https://localhost:8080/"
        },
        "outputId": "d350dc40-b5b4-4624-a856-57b25d92ec91"
      },
      "execution_count": null,
      "outputs": [
        {
          "output_type": "execute_result",
          "data": {
            "text/plain": [
              "array([0, 0, 0, 0, 0, 0, 0, 0, 0, 0, 0, 0, 0, 0, 0, 0, 0, 0, 0, 0, 0, 0,\n",
              "       0, 0, 0, 0, 0, 0, 0, 0, 0, 0, 0, 0, 0, 0, 0, 0, 0, 0, 0, 0, 0, 0,\n",
              "       0, 0, 0, 0, 0, 0, 0, 0, 0, 0, 0, 0, 1, 0, 0, 0, 0, 0, 0, 0, 0, 0,\n",
              "       0, 0, 0, 0, 0, 0, 0, 0, 0, 0, 0, 0, 0, 0, 0, 0, 0, 0, 0, 0, 0, 0,\n",
              "       0, 0, 0, 0, 0, 0, 0, 0, 0, 0, 0, 0, 0, 0, 0, 0, 0, 0, 0, 0, 0, 0,\n",
              "       0, 0, 0, 0, 0, 0, 0, 0, 0, 0, 0, 0, 0, 0, 0, 0, 0, 0, 0, 0, 0, 0,\n",
              "       0, 0, 0, 0, 0, 0, 0, 0, 0, 0, 0, 0, 0, 0, 0, 0, 0, 0, 0, 0, 0, 0,\n",
              "       0, 0, 0, 0, 0, 0, 0, 0, 0, 0, 0, 0, 0, 0, 0, 0, 0, 0, 0, 0, 0, 0,\n",
              "       0, 0, 0, 0, 0, 0, 0, 0, 0, 0, 0, 0, 0, 0, 0, 0, 0, 0, 0, 0, 0, 0,\n",
              "       1, 0, 0, 0, 0, 0, 0, 0, 0, 0, 0, 0, 0, 0, 0, 0, 0, 0, 0, 0, 0, 0,\n",
              "       0, 0, 0, 0, 0, 0, 0, 0, 0, 0, 0, 0, 0, 0, 0, 0, 0, 0, 0, 0, 0, 0,\n",
              "       0, 0, 0, 0, 0, 0, 0, 1, 0, 0, 0, 0, 0, 0, 0, 0, 1, 0, 0, 0, 0, 0,\n",
              "       0, 0, 0, 0, 0, 0, 0, 0, 0, 0, 0, 0, 0, 0, 0, 0, 0, 0, 0, 0, 0, 0,\n",
              "       0, 0, 0, 0, 0, 0, 0, 0, 0, 0, 0, 0, 0, 0, 0, 0, 0, 0, 0, 0, 0, 0,\n",
              "       0, 0, 0, 0, 0, 0, 0, 0, 0, 0, 0, 0, 0, 0, 0, 0, 0, 0, 0, 0, 0, 0,\n",
              "       0, 0, 0, 0, 0, 0, 0, 0, 0, 0, 0, 0, 0, 0, 0, 0, 0, 0, 0, 0, 0, 0,\n",
              "       0, 0, 0, 0, 0, 0, 0, 0, 0, 0, 0, 0, 0, 0, 0, 0, 0, 0, 0, 0, 0, 0,\n",
              "       0, 0, 0, 0, 0, 0, 0, 0, 0, 0, 0, 0, 0, 0, 0, 0, 0, 0, 0, 0, 0, 0,\n",
              "       0, 0, 0, 0, 0, 0, 0, 0, 0, 0, 0, 0, 0, 0, 0, 0, 0, 0, 0, 0, 0, 0,\n",
              "       0, 0, 0, 0, 0, 0, 0, 0, 0, 0, 0, 0, 0, 0, 0, 0, 0, 0, 0, 0, 0, 0,\n",
              "       0, 0, 0, 0, 0, 0, 0, 0, 0, 0, 0, 0, 0, 0, 0, 0, 0, 0, 0, 0, 0, 0,\n",
              "       0, 0, 0, 0, 0, 0, 0, 0, 0, 0, 0, 0, 0, 0, 0, 0, 0, 0, 0, 0, 0, 0,\n",
              "       0, 0, 0, 0, 0, 0, 0, 0, 0, 0, 0, 0, 0, 0, 0, 0, 0, 0, 0, 0, 0, 0,\n",
              "       0, 0, 0, 0, 0, 0, 0, 0, 0, 0, 0, 0, 0, 0, 0, 0, 0, 0, 0, 0, 0, 0,\n",
              "       0, 0, 0, 0, 0, 0, 0, 0, 0, 0, 0, 0, 0, 0, 0, 0, 0, 0, 0, 0, 0, 0,\n",
              "       0, 0, 0, 0, 0, 0, 0, 0, 0, 0, 0, 0, 0, 1, 0, 0, 0, 0, 0, 0, 0, 0],\n",
              "      dtype=object)"
            ]
          },
          "metadata": {},
          "execution_count": 52
        }
      ]
    },
    {
      "cell_type": "code",
      "source": [
        "#this grabs all the rows/players with James in their name\n",
        "basketball.loc[james_index == True]"
      ],
      "metadata": {
        "id": "alSwKExExd_p",
        "colab": {
          "base_uri": "https://localhost:8080/",
          "height": 236
        },
        "outputId": "e1335a03-fb9c-4f23-9710-4d871ac147d1"
      },
      "execution_count": null,
      "outputs": [
        {
          "output_type": "execute_result",
          "data": {
            "text/plain": [
              "              Player Pos  Age   Tm   G  GS    MP   FG   FGA    FG%  ...  ORB  \\\n",
              "56   James Bouknight  SG   23  CHO  14   0    81   18    41  0.439  ...    1   \n",
              "198     James Harden  PG   34  LAC  72  72  2470  352   822  0.428  ...   34   \n",
              "249     LeBron James  PF   39  LAL  71  71  2504  685  1269  0.540  ...   61   \n",
              "258    James Johnson  PF   36  IND   9   0    47    3    10  0.300  ...    1   \n",
              "563    James Wiseman   C   22  DET  63   6  1091  187   305  0.613  ...  110   \n",
              "\n",
              "     DRB  TRB  AST  STL  BLK  TOV   PF   PTS  Player-additional  \n",
              "56     8    9    6    1    1    2    3    50          bouknja01  \n",
              "198  335  369  614   77   57  185  127  1192          hardeja01  \n",
              "249  457  518  589   89   38  245   78  1822          jamesle01  \n",
              "258    3    4    8    5    1    5    9     8          johnsja01  \n",
              "563  226  336   54   12   39   66  141   446          wisemja01  \n",
              "\n",
              "[5 rows x 30 columns]"
            ],
            "text/html": [
              "\n",
              "  <div id=\"df-34b748ad-548f-4fe4-8f17-77f6ecb069fd\" class=\"colab-df-container\">\n",
              "    <div>\n",
              "<style scoped>\n",
              "    .dataframe tbody tr th:only-of-type {\n",
              "        vertical-align: middle;\n",
              "    }\n",
              "\n",
              "    .dataframe tbody tr th {\n",
              "        vertical-align: top;\n",
              "    }\n",
              "\n",
              "    .dataframe thead th {\n",
              "        text-align: right;\n",
              "    }\n",
              "</style>\n",
              "<table border=\"1\" class=\"dataframe\">\n",
              "  <thead>\n",
              "    <tr style=\"text-align: right;\">\n",
              "      <th></th>\n",
              "      <th>Player</th>\n",
              "      <th>Pos</th>\n",
              "      <th>Age</th>\n",
              "      <th>Tm</th>\n",
              "      <th>G</th>\n",
              "      <th>GS</th>\n",
              "      <th>MP</th>\n",
              "      <th>FG</th>\n",
              "      <th>FGA</th>\n",
              "      <th>FG%</th>\n",
              "      <th>...</th>\n",
              "      <th>ORB</th>\n",
              "      <th>DRB</th>\n",
              "      <th>TRB</th>\n",
              "      <th>AST</th>\n",
              "      <th>STL</th>\n",
              "      <th>BLK</th>\n",
              "      <th>TOV</th>\n",
              "      <th>PF</th>\n",
              "      <th>PTS</th>\n",
              "      <th>Player-additional</th>\n",
              "    </tr>\n",
              "  </thead>\n",
              "  <tbody>\n",
              "    <tr>\n",
              "      <th>56</th>\n",
              "      <td>James Bouknight</td>\n",
              "      <td>SG</td>\n",
              "      <td>23</td>\n",
              "      <td>CHO</td>\n",
              "      <td>14</td>\n",
              "      <td>0</td>\n",
              "      <td>81</td>\n",
              "      <td>18</td>\n",
              "      <td>41</td>\n",
              "      <td>0.439</td>\n",
              "      <td>...</td>\n",
              "      <td>1</td>\n",
              "      <td>8</td>\n",
              "      <td>9</td>\n",
              "      <td>6</td>\n",
              "      <td>1</td>\n",
              "      <td>1</td>\n",
              "      <td>2</td>\n",
              "      <td>3</td>\n",
              "      <td>50</td>\n",
              "      <td>bouknja01</td>\n",
              "    </tr>\n",
              "    <tr>\n",
              "      <th>198</th>\n",
              "      <td>James Harden</td>\n",
              "      <td>PG</td>\n",
              "      <td>34</td>\n",
              "      <td>LAC</td>\n",
              "      <td>72</td>\n",
              "      <td>72</td>\n",
              "      <td>2470</td>\n",
              "      <td>352</td>\n",
              "      <td>822</td>\n",
              "      <td>0.428</td>\n",
              "      <td>...</td>\n",
              "      <td>34</td>\n",
              "      <td>335</td>\n",
              "      <td>369</td>\n",
              "      <td>614</td>\n",
              "      <td>77</td>\n",
              "      <td>57</td>\n",
              "      <td>185</td>\n",
              "      <td>127</td>\n",
              "      <td>1192</td>\n",
              "      <td>hardeja01</td>\n",
              "    </tr>\n",
              "    <tr>\n",
              "      <th>249</th>\n",
              "      <td>LeBron James</td>\n",
              "      <td>PF</td>\n",
              "      <td>39</td>\n",
              "      <td>LAL</td>\n",
              "      <td>71</td>\n",
              "      <td>71</td>\n",
              "      <td>2504</td>\n",
              "      <td>685</td>\n",
              "      <td>1269</td>\n",
              "      <td>0.540</td>\n",
              "      <td>...</td>\n",
              "      <td>61</td>\n",
              "      <td>457</td>\n",
              "      <td>518</td>\n",
              "      <td>589</td>\n",
              "      <td>89</td>\n",
              "      <td>38</td>\n",
              "      <td>245</td>\n",
              "      <td>78</td>\n",
              "      <td>1822</td>\n",
              "      <td>jamesle01</td>\n",
              "    </tr>\n",
              "    <tr>\n",
              "      <th>258</th>\n",
              "      <td>James Johnson</td>\n",
              "      <td>PF</td>\n",
              "      <td>36</td>\n",
              "      <td>IND</td>\n",
              "      <td>9</td>\n",
              "      <td>0</td>\n",
              "      <td>47</td>\n",
              "      <td>3</td>\n",
              "      <td>10</td>\n",
              "      <td>0.300</td>\n",
              "      <td>...</td>\n",
              "      <td>1</td>\n",
              "      <td>3</td>\n",
              "      <td>4</td>\n",
              "      <td>8</td>\n",
              "      <td>5</td>\n",
              "      <td>1</td>\n",
              "      <td>5</td>\n",
              "      <td>9</td>\n",
              "      <td>8</td>\n",
              "      <td>johnsja01</td>\n",
              "    </tr>\n",
              "    <tr>\n",
              "      <th>563</th>\n",
              "      <td>James Wiseman</td>\n",
              "      <td>C</td>\n",
              "      <td>22</td>\n",
              "      <td>DET</td>\n",
              "      <td>63</td>\n",
              "      <td>6</td>\n",
              "      <td>1091</td>\n",
              "      <td>187</td>\n",
              "      <td>305</td>\n",
              "      <td>0.613</td>\n",
              "      <td>...</td>\n",
              "      <td>110</td>\n",
              "      <td>226</td>\n",
              "      <td>336</td>\n",
              "      <td>54</td>\n",
              "      <td>12</td>\n",
              "      <td>39</td>\n",
              "      <td>66</td>\n",
              "      <td>141</td>\n",
              "      <td>446</td>\n",
              "      <td>wisemja01</td>\n",
              "    </tr>\n",
              "  </tbody>\n",
              "</table>\n",
              "<p>5 rows × 30 columns</p>\n",
              "</div>\n",
              "    <div class=\"colab-df-buttons\">\n",
              "\n",
              "  <div class=\"colab-df-container\">\n",
              "    <button class=\"colab-df-convert\" onclick=\"convertToInteractive('df-34b748ad-548f-4fe4-8f17-77f6ecb069fd')\"\n",
              "            title=\"Convert this dataframe to an interactive table.\"\n",
              "            style=\"display:none;\">\n",
              "\n",
              "  <svg xmlns=\"http://www.w3.org/2000/svg\" height=\"24px\" viewBox=\"0 -960 960 960\">\n",
              "    <path d=\"M120-120v-720h720v720H120Zm60-500h600v-160H180v160Zm220 220h160v-160H400v160Zm0 220h160v-160H400v160ZM180-400h160v-160H180v160Zm440 0h160v-160H620v160ZM180-180h160v-160H180v160Zm440 0h160v-160H620v160Z\"/>\n",
              "  </svg>\n",
              "    </button>\n",
              "\n",
              "  <style>\n",
              "    .colab-df-container {\n",
              "      display:flex;\n",
              "      gap: 12px;\n",
              "    }\n",
              "\n",
              "    .colab-df-convert {\n",
              "      background-color: #E8F0FE;\n",
              "      border: none;\n",
              "      border-radius: 50%;\n",
              "      cursor: pointer;\n",
              "      display: none;\n",
              "      fill: #1967D2;\n",
              "      height: 32px;\n",
              "      padding: 0 0 0 0;\n",
              "      width: 32px;\n",
              "    }\n",
              "\n",
              "    .colab-df-convert:hover {\n",
              "      background-color: #E2EBFA;\n",
              "      box-shadow: 0px 1px 2px rgba(60, 64, 67, 0.3), 0px 1px 3px 1px rgba(60, 64, 67, 0.15);\n",
              "      fill: #174EA6;\n",
              "    }\n",
              "\n",
              "    .colab-df-buttons div {\n",
              "      margin-bottom: 4px;\n",
              "    }\n",
              "\n",
              "    [theme=dark] .colab-df-convert {\n",
              "      background-color: #3B4455;\n",
              "      fill: #D2E3FC;\n",
              "    }\n",
              "\n",
              "    [theme=dark] .colab-df-convert:hover {\n",
              "      background-color: #434B5C;\n",
              "      box-shadow: 0px 1px 3px 1px rgba(0, 0, 0, 0.15);\n",
              "      filter: drop-shadow(0px 1px 2px rgba(0, 0, 0, 0.3));\n",
              "      fill: #FFFFFF;\n",
              "    }\n",
              "  </style>\n",
              "\n",
              "    <script>\n",
              "      const buttonEl =\n",
              "        document.querySelector('#df-34b748ad-548f-4fe4-8f17-77f6ecb069fd button.colab-df-convert');\n",
              "      buttonEl.style.display =\n",
              "        google.colab.kernel.accessAllowed ? 'block' : 'none';\n",
              "\n",
              "      async function convertToInteractive(key) {\n",
              "        const element = document.querySelector('#df-34b748ad-548f-4fe4-8f17-77f6ecb069fd');\n",
              "        const dataTable =\n",
              "          await google.colab.kernel.invokeFunction('convertToInteractive',\n",
              "                                                    [key], {});\n",
              "        if (!dataTable) return;\n",
              "\n",
              "        const docLinkHtml = 'Like what you see? Visit the ' +\n",
              "          '<a target=\"_blank\" href=https://colab.research.google.com/notebooks/data_table.ipynb>data table notebook</a>'\n",
              "          + ' to learn more about interactive tables.';\n",
              "        element.innerHTML = '';\n",
              "        dataTable['output_type'] = 'display_data';\n",
              "        await google.colab.output.renderOutput(dataTable, element);\n",
              "        const docLink = document.createElement('div');\n",
              "        docLink.innerHTML = docLinkHtml;\n",
              "        element.appendChild(docLink);\n",
              "      }\n",
              "    </script>\n",
              "  </div>\n",
              "\n",
              "\n",
              "<div id=\"df-ea978951-5fb3-4ede-babe-e9546897e600\">\n",
              "  <button class=\"colab-df-quickchart\" onclick=\"quickchart('df-ea978951-5fb3-4ede-babe-e9546897e600')\"\n",
              "            title=\"Suggest charts\"\n",
              "            style=\"display:none;\">\n",
              "\n",
              "<svg xmlns=\"http://www.w3.org/2000/svg\" height=\"24px\"viewBox=\"0 0 24 24\"\n",
              "     width=\"24px\">\n",
              "    <g>\n",
              "        <path d=\"M19 3H5c-1.1 0-2 .9-2 2v14c0 1.1.9 2 2 2h14c1.1 0 2-.9 2-2V5c0-1.1-.9-2-2-2zM9 17H7v-7h2v7zm4 0h-2V7h2v10zm4 0h-2v-4h2v4z\"/>\n",
              "    </g>\n",
              "</svg>\n",
              "  </button>\n",
              "\n",
              "<style>\n",
              "  .colab-df-quickchart {\n",
              "      --bg-color: #E8F0FE;\n",
              "      --fill-color: #1967D2;\n",
              "      --hover-bg-color: #E2EBFA;\n",
              "      --hover-fill-color: #174EA6;\n",
              "      --disabled-fill-color: #AAA;\n",
              "      --disabled-bg-color: #DDD;\n",
              "  }\n",
              "\n",
              "  [theme=dark] .colab-df-quickchart {\n",
              "      --bg-color: #3B4455;\n",
              "      --fill-color: #D2E3FC;\n",
              "      --hover-bg-color: #434B5C;\n",
              "      --hover-fill-color: #FFFFFF;\n",
              "      --disabled-bg-color: #3B4455;\n",
              "      --disabled-fill-color: #666;\n",
              "  }\n",
              "\n",
              "  .colab-df-quickchart {\n",
              "    background-color: var(--bg-color);\n",
              "    border: none;\n",
              "    border-radius: 50%;\n",
              "    cursor: pointer;\n",
              "    display: none;\n",
              "    fill: var(--fill-color);\n",
              "    height: 32px;\n",
              "    padding: 0;\n",
              "    width: 32px;\n",
              "  }\n",
              "\n",
              "  .colab-df-quickchart:hover {\n",
              "    background-color: var(--hover-bg-color);\n",
              "    box-shadow: 0 1px 2px rgba(60, 64, 67, 0.3), 0 1px 3px 1px rgba(60, 64, 67, 0.15);\n",
              "    fill: var(--button-hover-fill-color);\n",
              "  }\n",
              "\n",
              "  .colab-df-quickchart-complete:disabled,\n",
              "  .colab-df-quickchart-complete:disabled:hover {\n",
              "    background-color: var(--disabled-bg-color);\n",
              "    fill: var(--disabled-fill-color);\n",
              "    box-shadow: none;\n",
              "  }\n",
              "\n",
              "  .colab-df-spinner {\n",
              "    border: 2px solid var(--fill-color);\n",
              "    border-color: transparent;\n",
              "    border-bottom-color: var(--fill-color);\n",
              "    animation:\n",
              "      spin 1s steps(1) infinite;\n",
              "  }\n",
              "\n",
              "  @keyframes spin {\n",
              "    0% {\n",
              "      border-color: transparent;\n",
              "      border-bottom-color: var(--fill-color);\n",
              "      border-left-color: var(--fill-color);\n",
              "    }\n",
              "    20% {\n",
              "      border-color: transparent;\n",
              "      border-left-color: var(--fill-color);\n",
              "      border-top-color: var(--fill-color);\n",
              "    }\n",
              "    30% {\n",
              "      border-color: transparent;\n",
              "      border-left-color: var(--fill-color);\n",
              "      border-top-color: var(--fill-color);\n",
              "      border-right-color: var(--fill-color);\n",
              "    }\n",
              "    40% {\n",
              "      border-color: transparent;\n",
              "      border-right-color: var(--fill-color);\n",
              "      border-top-color: var(--fill-color);\n",
              "    }\n",
              "    60% {\n",
              "      border-color: transparent;\n",
              "      border-right-color: var(--fill-color);\n",
              "    }\n",
              "    80% {\n",
              "      border-color: transparent;\n",
              "      border-right-color: var(--fill-color);\n",
              "      border-bottom-color: var(--fill-color);\n",
              "    }\n",
              "    90% {\n",
              "      border-color: transparent;\n",
              "      border-bottom-color: var(--fill-color);\n",
              "    }\n",
              "  }\n",
              "</style>\n",
              "\n",
              "  <script>\n",
              "    async function quickchart(key) {\n",
              "      const quickchartButtonEl =\n",
              "        document.querySelector('#' + key + ' button');\n",
              "      quickchartButtonEl.disabled = true;  // To prevent multiple clicks.\n",
              "      quickchartButtonEl.classList.add('colab-df-spinner');\n",
              "      try {\n",
              "        const charts = await google.colab.kernel.invokeFunction(\n",
              "            'suggestCharts', [key], {});\n",
              "      } catch (error) {\n",
              "        console.error('Error during call to suggestCharts:', error);\n",
              "      }\n",
              "      quickchartButtonEl.classList.remove('colab-df-spinner');\n",
              "      quickchartButtonEl.classList.add('colab-df-quickchart-complete');\n",
              "    }\n",
              "    (() => {\n",
              "      let quickchartButtonEl =\n",
              "        document.querySelector('#df-ea978951-5fb3-4ede-babe-e9546897e600 button');\n",
              "      quickchartButtonEl.style.display =\n",
              "        google.colab.kernel.accessAllowed ? 'block' : 'none';\n",
              "    })();\n",
              "  </script>\n",
              "</div>\n",
              "    </div>\n",
              "  </div>\n"
            ],
            "application/vnd.google.colaboratory.intrinsic+json": {
              "type": "dataframe"
            }
          },
          "metadata": {},
          "execution_count": 53
        }
      ]
    },
    {
      "cell_type": "markdown",
      "source": [
        "This next task will require all the most relevant data manipulation skills we've learned thus far. Try to copy and paste code from this document, and then modify as needed. Remember, your code doesn't need to work the first, or even tenth, time you run it."
      ],
      "metadata": {
        "id": "l9PkQ4E19gPZ"
      }
    },
    {
      "cell_type": "markdown",
      "source": [
        "**Task11**:\n",
        "\n",
        "Display all players--and their stats--who are PG (point guards), have a 0.9 FT% (free throw percentage) or higher  AND more than 40 FTA (free throw attempts) for the 2023/2024 NBA season."
      ],
      "metadata": {
        "id": "8vMSBRIj2MzA"
      }
    },
    {
      "cell_type": "code",
      "source": [
        "#ANSWER11\n",
        "hustle_players = basketball.query (\"Pos == 'PG' and `FT%` >= .9  and FTA > 40 \")\n",
        "hustle_players\n",
        "#[*write your answer here*]"
      ],
      "metadata": {
        "id": "y4ccY05_2wmT",
        "colab": {
          "base_uri": "https://localhost:8080/",
          "height": 204
        },
        "outputId": "61f77e43-788d-4289-a415-38fb39eb815a"
      },
      "execution_count": null,
      "outputs": [
        {
          "output_type": "execute_result",
          "data": {
            "text/plain": [
              "             Player Pos  Age   Tm   G  GS    MP   FG   FGA    FG%  ...  ORB  \\\n",
              "103     Mike Conley  PG   36  MIN  76  76  2193  294   644  0.457  ...   37   \n",
              "113   Stephen Curry  PG   35  GSW  74  74  2421  650  1445  0.450  ...   37   \n",
              "220   Aaron Holiday  PG   27  HOU  78   1  1269  186   417  0.446  ...   23   \n",
              "297  Damian Lillard  PG   33  MIL  73  73  2579  541  1277  0.424  ...   36   \n",
              "\n",
              "     DRB  TRB  AST  STL  BLK  TOV   PF   PTS  Player-additional  \n",
              "103  181  218  449   88   17  102  128   869          conlemi01  \n",
              "113  293  330  379   54   28  210  117  1956          curryst01  \n",
              "220  100  123  140   42    6   53  125   514          holidaa01  \n",
              "297  284  320  508   72   18  193  134  1775          lillada01  \n",
              "\n",
              "[4 rows x 30 columns]"
            ],
            "text/html": [
              "\n",
              "  <div id=\"df-750d8e4e-da81-41bd-8644-f9a466e864eb\" class=\"colab-df-container\">\n",
              "    <div>\n",
              "<style scoped>\n",
              "    .dataframe tbody tr th:only-of-type {\n",
              "        vertical-align: middle;\n",
              "    }\n",
              "\n",
              "    .dataframe tbody tr th {\n",
              "        vertical-align: top;\n",
              "    }\n",
              "\n",
              "    .dataframe thead th {\n",
              "        text-align: right;\n",
              "    }\n",
              "</style>\n",
              "<table border=\"1\" class=\"dataframe\">\n",
              "  <thead>\n",
              "    <tr style=\"text-align: right;\">\n",
              "      <th></th>\n",
              "      <th>Player</th>\n",
              "      <th>Pos</th>\n",
              "      <th>Age</th>\n",
              "      <th>Tm</th>\n",
              "      <th>G</th>\n",
              "      <th>GS</th>\n",
              "      <th>MP</th>\n",
              "      <th>FG</th>\n",
              "      <th>FGA</th>\n",
              "      <th>FG%</th>\n",
              "      <th>...</th>\n",
              "      <th>ORB</th>\n",
              "      <th>DRB</th>\n",
              "      <th>TRB</th>\n",
              "      <th>AST</th>\n",
              "      <th>STL</th>\n",
              "      <th>BLK</th>\n",
              "      <th>TOV</th>\n",
              "      <th>PF</th>\n",
              "      <th>PTS</th>\n",
              "      <th>Player-additional</th>\n",
              "    </tr>\n",
              "  </thead>\n",
              "  <tbody>\n",
              "    <tr>\n",
              "      <th>103</th>\n",
              "      <td>Mike Conley</td>\n",
              "      <td>PG</td>\n",
              "      <td>36</td>\n",
              "      <td>MIN</td>\n",
              "      <td>76</td>\n",
              "      <td>76</td>\n",
              "      <td>2193</td>\n",
              "      <td>294</td>\n",
              "      <td>644</td>\n",
              "      <td>0.457</td>\n",
              "      <td>...</td>\n",
              "      <td>37</td>\n",
              "      <td>181</td>\n",
              "      <td>218</td>\n",
              "      <td>449</td>\n",
              "      <td>88</td>\n",
              "      <td>17</td>\n",
              "      <td>102</td>\n",
              "      <td>128</td>\n",
              "      <td>869</td>\n",
              "      <td>conlemi01</td>\n",
              "    </tr>\n",
              "    <tr>\n",
              "      <th>113</th>\n",
              "      <td>Stephen Curry</td>\n",
              "      <td>PG</td>\n",
              "      <td>35</td>\n",
              "      <td>GSW</td>\n",
              "      <td>74</td>\n",
              "      <td>74</td>\n",
              "      <td>2421</td>\n",
              "      <td>650</td>\n",
              "      <td>1445</td>\n",
              "      <td>0.450</td>\n",
              "      <td>...</td>\n",
              "      <td>37</td>\n",
              "      <td>293</td>\n",
              "      <td>330</td>\n",
              "      <td>379</td>\n",
              "      <td>54</td>\n",
              "      <td>28</td>\n",
              "      <td>210</td>\n",
              "      <td>117</td>\n",
              "      <td>1956</td>\n",
              "      <td>curryst01</td>\n",
              "    </tr>\n",
              "    <tr>\n",
              "      <th>220</th>\n",
              "      <td>Aaron Holiday</td>\n",
              "      <td>PG</td>\n",
              "      <td>27</td>\n",
              "      <td>HOU</td>\n",
              "      <td>78</td>\n",
              "      <td>1</td>\n",
              "      <td>1269</td>\n",
              "      <td>186</td>\n",
              "      <td>417</td>\n",
              "      <td>0.446</td>\n",
              "      <td>...</td>\n",
              "      <td>23</td>\n",
              "      <td>100</td>\n",
              "      <td>123</td>\n",
              "      <td>140</td>\n",
              "      <td>42</td>\n",
              "      <td>6</td>\n",
              "      <td>53</td>\n",
              "      <td>125</td>\n",
              "      <td>514</td>\n",
              "      <td>holidaa01</td>\n",
              "    </tr>\n",
              "    <tr>\n",
              "      <th>297</th>\n",
              "      <td>Damian Lillard</td>\n",
              "      <td>PG</td>\n",
              "      <td>33</td>\n",
              "      <td>MIL</td>\n",
              "      <td>73</td>\n",
              "      <td>73</td>\n",
              "      <td>2579</td>\n",
              "      <td>541</td>\n",
              "      <td>1277</td>\n",
              "      <td>0.424</td>\n",
              "      <td>...</td>\n",
              "      <td>36</td>\n",
              "      <td>284</td>\n",
              "      <td>320</td>\n",
              "      <td>508</td>\n",
              "      <td>72</td>\n",
              "      <td>18</td>\n",
              "      <td>193</td>\n",
              "      <td>134</td>\n",
              "      <td>1775</td>\n",
              "      <td>lillada01</td>\n",
              "    </tr>\n",
              "  </tbody>\n",
              "</table>\n",
              "<p>4 rows × 30 columns</p>\n",
              "</div>\n",
              "    <div class=\"colab-df-buttons\">\n",
              "\n",
              "  <div class=\"colab-df-container\">\n",
              "    <button class=\"colab-df-convert\" onclick=\"convertToInteractive('df-750d8e4e-da81-41bd-8644-f9a466e864eb')\"\n",
              "            title=\"Convert this dataframe to an interactive table.\"\n",
              "            style=\"display:none;\">\n",
              "\n",
              "  <svg xmlns=\"http://www.w3.org/2000/svg\" height=\"24px\" viewBox=\"0 -960 960 960\">\n",
              "    <path d=\"M120-120v-720h720v720H120Zm60-500h600v-160H180v160Zm220 220h160v-160H400v160Zm0 220h160v-160H400v160ZM180-400h160v-160H180v160Zm440 0h160v-160H620v160ZM180-180h160v-160H180v160Zm440 0h160v-160H620v160Z\"/>\n",
              "  </svg>\n",
              "    </button>\n",
              "\n",
              "  <style>\n",
              "    .colab-df-container {\n",
              "      display:flex;\n",
              "      gap: 12px;\n",
              "    }\n",
              "\n",
              "    .colab-df-convert {\n",
              "      background-color: #E8F0FE;\n",
              "      border: none;\n",
              "      border-radius: 50%;\n",
              "      cursor: pointer;\n",
              "      display: none;\n",
              "      fill: #1967D2;\n",
              "      height: 32px;\n",
              "      padding: 0 0 0 0;\n",
              "      width: 32px;\n",
              "    }\n",
              "\n",
              "    .colab-df-convert:hover {\n",
              "      background-color: #E2EBFA;\n",
              "      box-shadow: 0px 1px 2px rgba(60, 64, 67, 0.3), 0px 1px 3px 1px rgba(60, 64, 67, 0.15);\n",
              "      fill: #174EA6;\n",
              "    }\n",
              "\n",
              "    .colab-df-buttons div {\n",
              "      margin-bottom: 4px;\n",
              "    }\n",
              "\n",
              "    [theme=dark] .colab-df-convert {\n",
              "      background-color: #3B4455;\n",
              "      fill: #D2E3FC;\n",
              "    }\n",
              "\n",
              "    [theme=dark] .colab-df-convert:hover {\n",
              "      background-color: #434B5C;\n",
              "      box-shadow: 0px 1px 3px 1px rgba(0, 0, 0, 0.15);\n",
              "      filter: drop-shadow(0px 1px 2px rgba(0, 0, 0, 0.3));\n",
              "      fill: #FFFFFF;\n",
              "    }\n",
              "  </style>\n",
              "\n",
              "    <script>\n",
              "      const buttonEl =\n",
              "        document.querySelector('#df-750d8e4e-da81-41bd-8644-f9a466e864eb button.colab-df-convert');\n",
              "      buttonEl.style.display =\n",
              "        google.colab.kernel.accessAllowed ? 'block' : 'none';\n",
              "\n",
              "      async function convertToInteractive(key) {\n",
              "        const element = document.querySelector('#df-750d8e4e-da81-41bd-8644-f9a466e864eb');\n",
              "        const dataTable =\n",
              "          await google.colab.kernel.invokeFunction('convertToInteractive',\n",
              "                                                    [key], {});\n",
              "        if (!dataTable) return;\n",
              "\n",
              "        const docLinkHtml = 'Like what you see? Visit the ' +\n",
              "          '<a target=\"_blank\" href=https://colab.research.google.com/notebooks/data_table.ipynb>data table notebook</a>'\n",
              "          + ' to learn more about interactive tables.';\n",
              "        element.innerHTML = '';\n",
              "        dataTable['output_type'] = 'display_data';\n",
              "        await google.colab.output.renderOutput(dataTable, element);\n",
              "        const docLink = document.createElement('div');\n",
              "        docLink.innerHTML = docLinkHtml;\n",
              "        element.appendChild(docLink);\n",
              "      }\n",
              "    </script>\n",
              "  </div>\n",
              "\n",
              "\n",
              "<div id=\"df-d9c93c43-f34f-4fbf-9a8e-38db23389ce4\">\n",
              "  <button class=\"colab-df-quickchart\" onclick=\"quickchart('df-d9c93c43-f34f-4fbf-9a8e-38db23389ce4')\"\n",
              "            title=\"Suggest charts\"\n",
              "            style=\"display:none;\">\n",
              "\n",
              "<svg xmlns=\"http://www.w3.org/2000/svg\" height=\"24px\"viewBox=\"0 0 24 24\"\n",
              "     width=\"24px\">\n",
              "    <g>\n",
              "        <path d=\"M19 3H5c-1.1 0-2 .9-2 2v14c0 1.1.9 2 2 2h14c1.1 0 2-.9 2-2V5c0-1.1-.9-2-2-2zM9 17H7v-7h2v7zm4 0h-2V7h2v10zm4 0h-2v-4h2v4z\"/>\n",
              "    </g>\n",
              "</svg>\n",
              "  </button>\n",
              "\n",
              "<style>\n",
              "  .colab-df-quickchart {\n",
              "      --bg-color: #E8F0FE;\n",
              "      --fill-color: #1967D2;\n",
              "      --hover-bg-color: #E2EBFA;\n",
              "      --hover-fill-color: #174EA6;\n",
              "      --disabled-fill-color: #AAA;\n",
              "      --disabled-bg-color: #DDD;\n",
              "  }\n",
              "\n",
              "  [theme=dark] .colab-df-quickchart {\n",
              "      --bg-color: #3B4455;\n",
              "      --fill-color: #D2E3FC;\n",
              "      --hover-bg-color: #434B5C;\n",
              "      --hover-fill-color: #FFFFFF;\n",
              "      --disabled-bg-color: #3B4455;\n",
              "      --disabled-fill-color: #666;\n",
              "  }\n",
              "\n",
              "  .colab-df-quickchart {\n",
              "    background-color: var(--bg-color);\n",
              "    border: none;\n",
              "    border-radius: 50%;\n",
              "    cursor: pointer;\n",
              "    display: none;\n",
              "    fill: var(--fill-color);\n",
              "    height: 32px;\n",
              "    padding: 0;\n",
              "    width: 32px;\n",
              "  }\n",
              "\n",
              "  .colab-df-quickchart:hover {\n",
              "    background-color: var(--hover-bg-color);\n",
              "    box-shadow: 0 1px 2px rgba(60, 64, 67, 0.3), 0 1px 3px 1px rgba(60, 64, 67, 0.15);\n",
              "    fill: var(--button-hover-fill-color);\n",
              "  }\n",
              "\n",
              "  .colab-df-quickchart-complete:disabled,\n",
              "  .colab-df-quickchart-complete:disabled:hover {\n",
              "    background-color: var(--disabled-bg-color);\n",
              "    fill: var(--disabled-fill-color);\n",
              "    box-shadow: none;\n",
              "  }\n",
              "\n",
              "  .colab-df-spinner {\n",
              "    border: 2px solid var(--fill-color);\n",
              "    border-color: transparent;\n",
              "    border-bottom-color: var(--fill-color);\n",
              "    animation:\n",
              "      spin 1s steps(1) infinite;\n",
              "  }\n",
              "\n",
              "  @keyframes spin {\n",
              "    0% {\n",
              "      border-color: transparent;\n",
              "      border-bottom-color: var(--fill-color);\n",
              "      border-left-color: var(--fill-color);\n",
              "    }\n",
              "    20% {\n",
              "      border-color: transparent;\n",
              "      border-left-color: var(--fill-color);\n",
              "      border-top-color: var(--fill-color);\n",
              "    }\n",
              "    30% {\n",
              "      border-color: transparent;\n",
              "      border-left-color: var(--fill-color);\n",
              "      border-top-color: var(--fill-color);\n",
              "      border-right-color: var(--fill-color);\n",
              "    }\n",
              "    40% {\n",
              "      border-color: transparent;\n",
              "      border-right-color: var(--fill-color);\n",
              "      border-top-color: var(--fill-color);\n",
              "    }\n",
              "    60% {\n",
              "      border-color: transparent;\n",
              "      border-right-color: var(--fill-color);\n",
              "    }\n",
              "    80% {\n",
              "      border-color: transparent;\n",
              "      border-right-color: var(--fill-color);\n",
              "      border-bottom-color: var(--fill-color);\n",
              "    }\n",
              "    90% {\n",
              "      border-color: transparent;\n",
              "      border-bottom-color: var(--fill-color);\n",
              "    }\n",
              "  }\n",
              "</style>\n",
              "\n",
              "  <script>\n",
              "    async function quickchart(key) {\n",
              "      const quickchartButtonEl =\n",
              "        document.querySelector('#' + key + ' button');\n",
              "      quickchartButtonEl.disabled = true;  // To prevent multiple clicks.\n",
              "      quickchartButtonEl.classList.add('colab-df-spinner');\n",
              "      try {\n",
              "        const charts = await google.colab.kernel.invokeFunction(\n",
              "            'suggestCharts', [key], {});\n",
              "      } catch (error) {\n",
              "        console.error('Error during call to suggestCharts:', error);\n",
              "      }\n",
              "      quickchartButtonEl.classList.remove('colab-df-spinner');\n",
              "      quickchartButtonEl.classList.add('colab-df-quickchart-complete');\n",
              "    }\n",
              "    (() => {\n",
              "      let quickchartButtonEl =\n",
              "        document.querySelector('#df-d9c93c43-f34f-4fbf-9a8e-38db23389ce4 button');\n",
              "      quickchartButtonEl.style.display =\n",
              "        google.colab.kernel.accessAllowed ? 'block' : 'none';\n",
              "    })();\n",
              "  </script>\n",
              "</div>\n",
              "    </div>\n",
              "  </div>\n"
            ],
            "application/vnd.google.colaboratory.intrinsic+json": {
              "type": "dataframe",
              "variable_name": "hustle_players"
            }
          },
          "metadata": {},
          "execution_count": 50
        }
      ]
    },
    {
      "cell_type": "code",
      "source": [
        "#ANSWER11 cont.\n",
        "\n",
        "#[*write your answer here*]"
      ],
      "metadata": {
        "id": "wOGzmQUu5jFs"
      },
      "execution_count": null,
      "outputs": []
    },
    {
      "cell_type": "markdown",
      "source": [
        "## Exporting Data from Colab\n",
        "\n",
        "I don't plan on making you do this as part of the course, but this is still a skill I want you to have.\n",
        "\n",
        "As usual, I'm only covering a tiny bit of what's available. For more info, see: [Importing/Exporting files using pandas](https://pandas.pydata.org/docs/reference/io.html)"
      ],
      "metadata": {
        "id": "Eecz-8LBCA5i"
      }
    },
    {
      "cell_type": "markdown",
      "source": [
        "Let's say I have a colleague for who doesn't know how to code and will not ever learn how, but they still need the data I've manipulated/generated in order to do their job.\n",
        "\n",
        "In this case, the path of least resistance is to export the data from Colab to my local machine, and then put it in a shared cloud folder (like google drive) and/or send it to them in an email.\n",
        "\n",
        "Let's practice this with the James data, shown below."
      ],
      "metadata": {
        "id": "p-yKIjDmCndi"
      }
    },
    {
      "cell_type": "code",
      "source": [
        "james_df = basketball.loc[james_index == True]\n",
        "james_df"
      ],
      "metadata": {
        "id": "1KkXOA39EbQz"
      },
      "execution_count": null,
      "outputs": []
    },
    {
      "cell_type": "markdown",
      "source": [
        "Here's how I can turn this into a csv, a format most programs (like excel) can read:"
      ],
      "metadata": {
        "id": "tIXIvi_NEhuO"
      }
    },
    {
      "cell_type": "code",
      "source": [
        "#creates a csv file on whatver machine the code is run on.\n",
        "#I need to name the file as well.\n",
        "james_df.to_csv('NBA_Jameses.csv')"
      ],
      "metadata": {
        "id": "P0Gff6oyEsCj"
      },
      "execution_count": null,
      "outputs": []
    },
    {
      "cell_type": "markdown",
      "source": [
        "Next steps:\n",
        "\n",
        "1. Look at the side panel--to the left of all the code and text blocks.\n",
        "\n",
        "2. Click on the icon that looks like a tiny manilla folder.\n",
        "\n",
        "3. Find NBA_Jameses.csv, hover your mouse over it, and click on the three stacked dots to the right of it.\n",
        "\n",
        "4. Click download.\n",
        "\n",
        "From there, its the same as downloading any file from the internet onto your computer."
      ],
      "metadata": {
        "id": "sjErCHmpFTeA"
      }
    },
    {
      "cell_type": "markdown",
      "source": [
        "While you're there, notice that you can upload files to the google server where all your code is being run, and even mount your google drive account."
      ],
      "metadata": {
        "id": "3vZm9Q1SGBtV"
      }
    },
    {
      "cell_type": "markdown",
      "source": [
        "## Further Reading\n",
        "\n",
        "As promised, there is much I didn't cover. Here's lip service to some of that left out information.\n",
        "\n"
      ],
      "metadata": {
        "id": "ytvCHMghHAI3"
      }
    },
    {
      "cell_type": "markdown",
      "source": [
        "### Tensors and xarrays\n",
        "\n",
        "Notable datastructures I didn't cover, but that are relevant for modern machince learning: tensors, and xarrays.\n",
        "\n",
        "Tensors are multi dimensional arrays; technically numpy can make them, but tensorflow and Pytorch are two libraries that implement tensors more optimized for statistical learning.\n",
        "\n",
        "xarray is its own python library, and it's basically what would happen if a dataframe and a dict had the perfect child.\n",
        "\n",
        "We use tensors are for doing math with high dimensional data, and we use xarrays to keeping track of a lot of seperate, but related, datasets.\n",
        "\n",
        "We will hardly use tensors in this class, but we'll use xarrays all the time. We'll discuss them more as they come up.\n"
      ],
      "metadata": {
        "id": "WYTnGKxfI-2k"
      }
    },
    {
      "cell_type": "markdown",
      "source": [
        "### Data Wrangling\n",
        "\n",
        "Data Wrangling is what happens when the data you want is not a csv . That's a bit of a joke and an exaggeration . . . but its also not.\n",
        "\n",
        "When I say csv, I mean nice, neat rows and columns, with everything lined up and seperated by commas.\n",
        "\n",
        "Here are various ways real world data can make us suffer:\n",
        "- it's not collected in rows and columns\n",
        "- it's collected in rows and columns, but so disorganized that the rows and columns don't actually mean anything.\n",
        "- it's collected in neat rows and columns, but the the entries into those rows and columns are inconsistent in format.\n",
        "- everything is in rows and columns, neat and consistent throughout--but our functions are still reading the data wrong (this happened to me with a csv file that wasn't actually seperated by commas, but by semi colons instead).\n",
        "- like the last point, except everything was read correctly, but now there are missing values.\n",
        "- any combination of the above.\n",
        "\n",
        "Even if everything is actually perfect--which does happen--data sets can be so large that doing anything with them at all is a chore.\n",
        "\n",
        "For class notes and exercises, I've limited my examples to perfectly clean, small to medium sized data.\n",
        "\n",
        "Projects are open ended. On projects, it's up to you if you want to choose a pre-cleaned data set or not."
      ],
      "metadata": {
        "id": "lpYgcE1hJXRf"
      }
    },
    {
      "cell_type": "markdown",
      "source": [
        "## Summary\n",
        "\n",
        "We covered quite a bit in our first unit.\n",
        "\n",
        "We:\n",
        "\n",
        "- learned the two main ways python deals with numbers, ints and floats\n",
        "- covered strings, lists, and dicts, which we can use to store multiple pieces of data linked together.\n",
        "- introduced the numpy array, the most common way to mathematically operate on collections of data of the same type in python\n",
        "- manipulated real world tabular data using pandas\n",
        "- learned how to import and export data from pandas.\n",
        "\n",
        "I expect most of y'all to feel overwhelmed and confused, especially if this is your first coding class. That's good! It means you're thinking about this material.\n",
        "\n",
        "Remember, I'm not asking or expecting you to become an expert data scientist. Our goal is to get vulnearble and expose ourselves to how data science/modern statistics is done. Feel good if you've done that!"
      ],
      "metadata": {
        "id": "9kayKzu5M8-N"
      }
    }
  ]
}